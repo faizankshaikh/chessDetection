{
 "cells": [
  {
   "cell_type": "code",
   "execution_count": null,
   "id": "rqbAWGmKOQZ1",
   "metadata": {
    "colab": {
     "base_uri": "https://localhost:8080/"
    },
    "executionInfo": {
     "elapsed": 17416,
     "status": "ok",
     "timestamp": 1639989410028,
     "user": {
      "displayName": "faizan shaikh",
      "photoUrl": "https://lh3.googleusercontent.com/a-/AOh14GgqmcbHsEKLXGL6XPL9YhU0LKMr1juc_rciMZsRQA=s64",
      "userId": "07685339115898994855"
     },
     "user_tz": -330
    },
    "id": "rqbAWGmKOQZ1",
    "outputId": "f143ede1-a2b1-4739-946a-329294cfbce9"
   },
   "outputs": [],
   "source": [
    "# install required libraries\n",
    "!pip install -q cairosvg\n",
    "!pip install -q chess"
   ]
  },
  {
   "cell_type": "code",
   "execution_count": 2,
   "id": "c30cd09f-734a-4321-9a7f-68743a7a593d",
   "metadata": {
    "executionInfo": {
     "elapsed": 1403,
     "status": "ok",
     "timestamp": 1639989411418,
     "user": {
      "displayName": "faizan shaikh",
      "photoUrl": "https://lh3.googleusercontent.com/a-/AOh14GgqmcbHsEKLXGL6XPL9YhU0LKMr1juc_rciMZsRQA=s64",
      "userId": "07685339115898994855"
     },
     "user_tz": -330
    },
    "id": "c30cd09f-734a-4321-9a7f-68743a7a593d"
   },
   "outputs": [],
   "source": [
    "# import modules and libraries\n",
    "import chess\n",
    "import numpy as np\n",
    "import pandas as pd\n",
    "import matplotlib.pyplot as plt\n",
    "import matplotlib.patches as patches\n",
    "\n",
    "from pathlib import Path\n",
    "from cairosvg import svg2png\n",
    "from sklearn.model_selection import train_test_split"
   ]
  },
  {
   "cell_type": "code",
   "execution_count": 3,
   "id": "dlNA9qYhNdmi",
   "metadata": {
    "colab": {
     "base_uri": "https://localhost:8080/"
    },
    "executionInfo": {
     "elapsed": 30732,
     "status": "ok",
     "timestamp": 1639989442145,
     "user": {
      "displayName": "faizan shaikh",
      "photoUrl": "https://lh3.googleusercontent.com/a-/AOh14GgqmcbHsEKLXGL6XPL9YhU0LKMr1juc_rciMZsRQA=s64",
      "userId": "07685339115898994855"
     },
     "user_tz": -330
    },
    "id": "dlNA9qYhNdmi",
    "outputId": "c21632dd-3771-403c-e168-e8596096a62b"
   },
   "outputs": [
    {
     "name": "stdout",
     "output_type": "stream",
     "text": [
      "Mounted at /content/drive\n"
     ]
    }
   ],
   "source": [
    "# mount google drive\n",
    "from google.colab import drive\n",
    "drive.mount('/content/drive')"
   ]
  },
  {
   "cell_type": "code",
   "execution_count": 4,
   "id": "vWKJLqWMNl8N",
   "metadata": {
    "executionInfo": {
     "elapsed": 8,
     "status": "ok",
     "timestamp": 1639989443918,
     "user": {
      "displayName": "faizan shaikh",
      "photoUrl": "https://lh3.googleusercontent.com/a-/AOh14GgqmcbHsEKLXGL6XPL9YhU0LKMr1juc_rciMZsRQA=s64",
      "userId": "07685339115898994855"
     },
     "user_tz": -330
    },
    "id": "vWKJLqWMNl8N"
   },
   "outputs": [],
   "source": [
    "# define data dir\n",
    "data_dir = Path('/content/drive/MyDrive/MAID/502 CI/project/data')"
   ]
  },
  {
   "cell_type": "code",
   "execution_count": 5,
   "id": "6b92397b-c0b4-4394-b8bc-7da6f1e51a0f",
   "metadata": {
    "colab": {
     "base_uri": "https://localhost:8080/",
     "height": 411
    },
    "executionInfo": {
     "elapsed": 16,
     "status": "ok",
     "timestamp": 1639989444804,
     "user": {
      "displayName": "faizan shaikh",
      "photoUrl": "https://lh3.googleusercontent.com/a-/AOh14GgqmcbHsEKLXGL6XPL9YhU0LKMr1juc_rciMZsRQA=s64",
      "userId": "07685339115898994855"
     },
     "user_tz": -330
    },
    "id": "6b92397b-c0b4-4394-b8bc-7da6f1e51a0f",
    "outputId": "86bbd2ee-a39d-420f-a3f1-9148cd5119c8"
   },
   "outputs": [
    {
     "data": {
      "image/svg+xml": [
       "<svg baseProfile=\"tiny\" height=\"390\" version=\"1.2\" viewBox=\"0 0 390 390\" width=\"390\" xmlns=\"http://www.w3.org/2000/svg\" xmlns:xlink=\"http://www.w3.org/1999/xlink\"><defs><g class=\"white queen\" fill=\"#fff\" fill-rule=\"evenodd\" id=\"white-queen\" stroke=\"#000\" stroke-linecap=\"round\" stroke-linejoin=\"round\" stroke-width=\"1.5\"><path d=\"M8 12a2 2 0 1 1-4 0 2 2 0 1 1 4 0zM24.5 7.5a2 2 0 1 1-4 0 2 2 0 1 1 4 0zM41 12a2 2 0 1 1-4 0 2 2 0 1 1 4 0zM16 8.5a2 2 0 1 1-4 0 2 2 0 1 1 4 0zM33 9a2 2 0 1 1-4 0 2 2 0 1 1 4 0z\" /><path d=\"M9 26c8.5-1.5 21-1.5 27 0l2-12-7 11V11l-5.5 13.5-3-15-3 15-5.5-14V25L7 14l2 12zM9 26c0 2 1.5 2 2.5 4 1 1.5 1 1 .5 3.5-1.5 1-1.5 2.5-1.5 2.5-1.5 1.5.5 2.5.5 2.5 6.5 1 16.5 1 23 0 0 0 1.5-1 0-2.5 0 0 .5-1.5-1-2.5-.5-2.5-.5-2 .5-3.5 1-2 2.5-2 2.5-4-8.5-1.5-18.5-1.5-27 0z\" stroke-linecap=\"butt\" /><path d=\"M11.5 30c3.5-1 18.5-1 22 0M12 33.5c6-1 15-1 21 0\" fill=\"none\" /></g></defs><rect fill=\"#212121\" height=\"390\" width=\"390\" x=\"0\" y=\"0\" /><g fill=\"#e5e5e5\" stroke=\"#e5e5e5\" transform=\"translate(20, 0) scale(0.75, 0.75)\"><path d=\"M23.328 10.016q-1.742 0-2.414.398-.672.398-.672 1.36 0 .765.5 1.218.508.445 1.375.445 1.196 0 1.914-.843.727-.852.727-2.258v-.32zm2.867-.594v4.992h-1.437v-1.328q-.492.797-1.227 1.18-.734.375-1.797.375-1.343 0-2.14-.75-.79-.758-.79-2.024 0-1.476.985-2.226.992-.75 2.953-.75h2.016V8.75q0-.992-.656-1.531-.649-.547-1.829-.547-.75 0-1.46.18-.711.18-1.368.539V6.062q.79-.304 1.532-.453.742-.156 1.445-.156 1.898 0 2.836.984.937.985.937 2.985z\" /></g><g fill=\"#e5e5e5\" stroke=\"#e5e5e5\" transform=\"translate(20, 375) scale(0.75, 0.75)\"><path d=\"M23.328 10.016q-1.742 0-2.414.398-.672.398-.672 1.36 0 .765.5 1.218.508.445 1.375.445 1.196 0 1.914-.843.727-.852.727-2.258v-.32zm2.867-.594v4.992h-1.437v-1.328q-.492.797-1.227 1.18-.734.375-1.797.375-1.343 0-2.14-.75-.79-.758-.79-2.024 0-1.476.985-2.226.992-.75 2.953-.75h2.016V8.75q0-.992-.656-1.531-.649-.547-1.829-.547-.75 0-1.46.18-.711.18-1.368.539V6.062q.79-.304 1.532-.453.742-.156 1.445-.156 1.898 0 2.836.984.937.985.937 2.985z\" /></g><g fill=\"#e5e5e5\" stroke=\"#e5e5e5\" transform=\"translate(65, 0) scale(0.75, 0.75)\"><path d=\"M24.922 10.047q0-1.586-.656-2.485-.649-.906-1.79-.906-1.14 0-1.796.906-.649.899-.649 2.485 0 1.586.649 2.492.656.898 1.797.898 1.14 0 1.789-.898.656-.906.656-2.492zm-4.89-3.055q.452-.781 1.14-1.156.695-.383 1.656-.383 1.594 0 2.586 1.266 1 1.265 1 3.328 0 2.062-1 3.328-.992 1.266-2.586 1.266-.96 0-1.656-.375-.688-.383-1.14-1.164v1.312h-1.446V2.258h1.445z\" /></g><g fill=\"#e5e5e5\" stroke=\"#e5e5e5\" transform=\"translate(65, 375) scale(0.75, 0.75)\"><path d=\"M24.922 10.047q0-1.586-.656-2.485-.649-.906-1.79-.906-1.14 0-1.796.906-.649.899-.649 2.485 0 1.586.649 2.492.656.898 1.797.898 1.14 0 1.789-.898.656-.906.656-2.492zm-4.89-3.055q.452-.781 1.14-1.156.695-.383 1.656-.383 1.594 0 2.586 1.266 1 1.265 1 3.328 0 2.062-1 3.328-.992 1.266-2.586 1.266-.96 0-1.656-.375-.688-.383-1.14-1.164v1.312h-1.446V2.258h1.445z\" /></g><g fill=\"#e5e5e5\" stroke=\"#e5e5e5\" transform=\"translate(110, 0) scale(0.75, 0.75)\"><path d=\"M25.96 6v1.344q-.608-.336-1.226-.5-.609-.172-1.234-.172-1.398 0-2.172.89-.773.883-.773 2.485 0 1.601.773 2.492.774.883 2.172.883.625 0 1.234-.164.618-.172 1.227-.508v1.328q-.602.281-1.25.422-.64.14-1.367.14-1.977 0-3.14-1.242-1.165-1.242-1.165-3.351 0-2.14 1.172-3.367 1.18-1.227 3.227-1.227.664 0 1.296.14.633.134 1.227.407z\" /></g><g fill=\"#e5e5e5\" stroke=\"#e5e5e5\" transform=\"translate(110, 375) scale(0.75, 0.75)\"><path d=\"M25.96 6v1.344q-.608-.336-1.226-.5-.609-.172-1.234-.172-1.398 0-2.172.89-.773.883-.773 2.485 0 1.601.773 2.492.774.883 2.172.883.625 0 1.234-.164.618-.172 1.227-.508v1.328q-.602.281-1.25.422-.64.14-1.367.14-1.977 0-3.14-1.242-1.165-1.242-1.165-3.351 0-2.14 1.172-3.367 1.18-1.227 3.227-1.227.664 0 1.296.14.633.134 1.227.407z\" /></g><g fill=\"#e5e5e5\" stroke=\"#e5e5e5\" transform=\"translate(155, 0) scale(0.75, 0.75)\"><path d=\"M24.973 6.992V2.258h1.437v12.156h-1.437v-1.312q-.453.78-1.149 1.164-.687.375-1.656.375-1.586 0-2.586-1.266-.992-1.266-.992-3.328 0-2.063.992-3.328 1-1.266 2.586-1.266.969 0 1.656.383.696.375 1.149 1.156zm-4.899 3.055q0 1.586.649 2.492.656.898 1.797.898 1.14 0 1.796-.898.657-.906.657-2.492 0-1.586-.657-2.485-.656-.906-1.796-.906-1.141 0-1.797.906-.649.899-.649 2.485z\" /></g><g fill=\"#e5e5e5\" stroke=\"#e5e5e5\" transform=\"translate(155, 375) scale(0.75, 0.75)\"><path d=\"M24.973 6.992V2.258h1.437v12.156h-1.437v-1.312q-.453.78-1.149 1.164-.687.375-1.656.375-1.586 0-2.586-1.266-.992-1.266-.992-3.328 0-2.063.992-3.328 1-1.266 2.586-1.266.969 0 1.656.383.696.375 1.149 1.156zm-4.899 3.055q0 1.586.649 2.492.656.898 1.797.898 1.14 0 1.796-.898.657-.906.657-2.492 0-1.586-.657-2.485-.656-.906-1.796-.906-1.141 0-1.797.906-.649.899-.649 2.485z\" /></g><g fill=\"#e5e5e5\" stroke=\"#e5e5e5\" transform=\"translate(200, 0) scale(0.75, 0.75)\"><path d=\"M26.555 9.68v.703h-6.61q.094 1.484.89 2.265.806.774 2.235.774.828 0 1.602-.203.781-.203 1.547-.61v1.36q-.774.328-1.586.5-.813.172-1.649.172-2.093 0-3.32-1.22-1.219-1.218-1.219-3.296 0-2.148 1.157-3.406 1.164-1.266 3.132-1.266 1.766 0 2.79 1.14 1.03 1.134 1.03 3.087zm-1.438-.422q-.015-1.18-.664-1.883-.64-.703-1.703-.703-1.203 0-1.93.68-.718.68-.828 1.914z\" /></g><g fill=\"#e5e5e5\" stroke=\"#e5e5e5\" transform=\"translate(200, 375) scale(0.75, 0.75)\"><path d=\"M26.555 9.68v.703h-6.61q.094 1.484.89 2.265.806.774 2.235.774.828 0 1.602-.203.781-.203 1.547-.61v1.36q-.774.328-1.586.5-.813.172-1.649.172-2.093 0-3.32-1.22-1.219-1.218-1.219-3.296 0-2.148 1.157-3.406 1.164-1.266 3.132-1.266 1.766 0 2.79 1.14 1.03 1.134 1.03 3.087zm-1.438-.422q-.015-1.18-.664-1.883-.64-.703-1.703-.703-1.203 0-1.93.68-.718.68-.828 1.914z\" /></g><g fill=\"#e5e5e5\" stroke=\"#e5e5e5\" transform=\"translate(245, 0) scale(0.75, 0.75)\"><path d=\"M25.285 2.258v1.195H23.91q-.773 0-1.078.313-.297.312-.297 1.125v.773h2.367v1.117h-2.367v7.633H21.09V6.781h-1.375V5.664h1.375v-.61q0-1.46.68-2.124.68-.672 2.156-.672z\" /></g><g fill=\"#e5e5e5\" stroke=\"#e5e5e5\" transform=\"translate(245, 375) scale(0.75, 0.75)\"><path d=\"M25.285 2.258v1.195H23.91q-.773 0-1.078.313-.297.312-.297 1.125v.773h2.367v1.117h-2.367v7.633H21.09V6.781h-1.375V5.664h1.375v-.61q0-1.46.68-2.124.68-.672 2.156-.672z\" /></g><g fill=\"#e5e5e5\" stroke=\"#e5e5e5\" transform=\"translate(290, 0) scale(0.75, 0.75)\"><path d=\"M24.973 9.937q0-1.562-.649-2.421-.64-.86-1.804-.86-1.157 0-1.805.86-.64.859-.64 2.421 0 1.555.64 2.415.648.859 1.805.859 1.164 0 1.804-.86.649-.859.649-2.414zm1.437 3.391q0 2.234-.992 3.32-.992 1.094-3.04 1.094-.757 0-1.429-.117-.672-.11-1.304-.344v-1.398q.632.344 1.25.508.617.164 1.257.164 1.414 0 2.118-.743.703-.734.703-2.226v-.711q-.446.773-1.141 1.156-.695.383-1.664.383-1.61 0-2.594-1.227-.984-1.226-.984-3.25 0-2.03.984-3.257.985-1.227 2.594-1.227.969 0 1.664.383t1.14 1.156V5.664h1.438z\" /></g><g fill=\"#e5e5e5\" stroke=\"#e5e5e5\" transform=\"translate(290, 375) scale(0.75, 0.75)\"><path d=\"M24.973 9.937q0-1.562-.649-2.421-.64-.86-1.804-.86-1.157 0-1.805.86-.64.859-.64 2.421 0 1.555.64 2.415.648.859 1.805.859 1.164 0 1.804-.86.649-.859.649-2.414zm1.437 3.391q0 2.234-.992 3.32-.992 1.094-3.04 1.094-.757 0-1.429-.117-.672-.11-1.304-.344v-1.398q.632.344 1.25.508.617.164 1.257.164 1.414 0 2.118-.743.703-.734.703-2.226v-.711q-.446.773-1.141 1.156-.695.383-1.664.383-1.61 0-2.594-1.227-.984-1.226-.984-3.25 0-2.03.984-3.257.985-1.227 2.594-1.227.969 0 1.664.383t1.14 1.156V5.664h1.438z\" /></g><g fill=\"#e5e5e5\" stroke=\"#e5e5e5\" transform=\"translate(335, 0) scale(0.75, 0.75)\"><path d=\"M26.164 9.133v5.281h-1.437V9.18q0-1.243-.485-1.86-.484-.617-1.453-.617-1.164 0-1.836.742-.672.742-.672 2.024v4.945h-1.445V2.258h1.445v4.765q.516-.789 1.211-1.18.703-.39 1.617-.39 1.508 0 2.282.938.773.93.773 2.742z\" /></g><g fill=\"#e5e5e5\" stroke=\"#e5e5e5\" transform=\"translate(335, 375) scale(0.75, 0.75)\"><path d=\"M26.164 9.133v5.281h-1.437V9.18q0-1.243-.485-1.86-.484-.617-1.453-.617-1.164 0-1.836.742-.672.742-.672 2.024v4.945h-1.445V2.258h1.445v4.765q.516-.789 1.211-1.18.703-.39 1.617-.39 1.508 0 2.282.938.773.93.773 2.742z\" /></g><g fill=\"#e5e5e5\" stroke=\"#e5e5e5\" transform=\"translate(0, 335) scale(0.75, 0.75)\"><path d=\"M6.754 26.996h2.578v-8.898l-2.805.562v-1.437l2.79-.563h1.578v10.336h2.578v1.328h-6.72z\" /></g><g fill=\"#e5e5e5\" stroke=\"#e5e5e5\" transform=\"translate(375, 335) scale(0.75, 0.75)\"><path d=\"M6.754 26.996h2.578v-8.898l-2.805.562v-1.437l2.79-.563h1.578v10.336h2.578v1.328h-6.72z\" /></g><g fill=\"#e5e5e5\" stroke=\"#e5e5e5\" transform=\"translate(0, 290) scale(0.75, 0.75)\"><path d=\"M8.195 26.996h5.508v1.328H6.297v-1.328q.898-.93 2.445-2.492 1.555-1.57 1.953-2.024.758-.851 1.055-1.437.305-.594.305-1.164 0-.93-.657-1.516-.648-.586-1.695-.586-.742 0-1.57.258-.82.258-1.758.781v-1.593q.953-.383 1.781-.578.828-.196 1.516-.196 1.812 0 2.89.906 1.079.907 1.079 2.422 0 .72-.274 1.368-.265.64-.976 1.515-.196.227-1.243 1.313-1.046 1.078-2.953 3.023z\" /></g><g fill=\"#e5e5e5\" stroke=\"#e5e5e5\" transform=\"translate(375, 290) scale(0.75, 0.75)\"><path d=\"M8.195 26.996h5.508v1.328H6.297v-1.328q.898-.93 2.445-2.492 1.555-1.57 1.953-2.024.758-.851 1.055-1.437.305-.594.305-1.164 0-.93-.657-1.516-.648-.586-1.695-.586-.742 0-1.57.258-.82.258-1.758.781v-1.593q.953-.383 1.781-.578.828-.196 1.516-.196 1.812 0 2.89.906 1.079.907 1.079 2.422 0 .72-.274 1.368-.265.64-.976 1.515-.196.227-1.243 1.313-1.046 1.078-2.953 3.023z\" /></g><g fill=\"#e5e5e5\" stroke=\"#e5e5e5\" transform=\"translate(0, 245) scale(0.75, 0.75)\"><path d=\"M11.434 22.035q1.132.242 1.765 1.008.64.766.64 1.89 0 1.727-1.187 2.672-1.187.946-3.375.946-.734 0-1.515-.149-.774-.14-1.602-.43V26.45q.656.383 1.438.578.78.196 1.632.196 1.485 0 2.258-.586.782-.586.782-1.703 0-1.032-.727-1.61-.719-.586-2.008-.586h-1.36v-1.297h1.423q1.164 0 1.78-.46.618-.47.618-1.344 0-.899-.64-1.375-.633-.485-1.82-.485-.65 0-1.391.141-.743.14-1.633.437V16.95q.898-.25 1.68-.375.788-.125 1.484-.125 1.797 0 2.844.82 1.046.813 1.046 2.204 0 .968-.554 1.64-.555.664-1.578.922z\" /></g><g fill=\"#e5e5e5\" stroke=\"#e5e5e5\" transform=\"translate(375, 245) scale(0.75, 0.75)\"><path d=\"M11.434 22.035q1.132.242 1.765 1.008.64.766.64 1.89 0 1.727-1.187 2.672-1.187.946-3.375.946-.734 0-1.515-.149-.774-.14-1.602-.43V26.45q.656.383 1.438.578.78.196 1.632.196 1.485 0 2.258-.586.782-.586.782-1.703 0-1.032-.727-1.61-.719-.586-2.008-.586h-1.36v-1.297h1.423q1.164 0 1.78-.46.618-.47.618-1.344 0-.899-.64-1.375-.633-.485-1.82-.485-.65 0-1.391.141-.743.14-1.633.437V16.95q.898-.25 1.68-.375.788-.125 1.484-.125 1.797 0 2.844.82 1.046.813 1.046 2.204 0 .968-.554 1.64-.555.664-1.578.922z\" /></g><g fill=\"#e5e5e5\" stroke=\"#e5e5e5\" transform=\"translate(0, 200) scale(0.75, 0.75)\"><path d=\"M11.016 18.035L7.03 24.262h3.985zm-.414-1.375h1.984v7.602h1.664v1.312h-1.664v2.75h-1.57v-2.75H5.75v-1.523z\" /></g><g fill=\"#e5e5e5\" stroke=\"#e5e5e5\" transform=\"translate(375, 200) scale(0.75, 0.75)\"><path d=\"M11.016 18.035L7.03 24.262h3.985zm-.414-1.375h1.984v7.602h1.664v1.312h-1.664v2.75h-1.57v-2.75H5.75v-1.523z\" /></g><g fill=\"#e5e5e5\" stroke=\"#e5e5e5\" transform=\"translate(0, 155) scale(0.75, 0.75)\"><path d=\"M6.719 16.66h6.195v1.328h-4.75v2.86q.344-.118.688-.172.343-.063.687-.063 1.953 0 3.094 1.07 1.14 1.07 1.14 2.899 0 1.883-1.171 2.93-1.172 1.039-3.305 1.039-.735 0-1.5-.125-.758-.125-1.57-.375v-1.586q.703.383 1.453.57.75.188 1.586.188 1.351 0 2.14-.711.79-.711.79-1.93 0-1.219-.79-1.93-.789-.71-2.14-.71-.633 0-1.266.14-.625.14-1.281.438z\" /></g><g fill=\"#e5e5e5\" stroke=\"#e5e5e5\" transform=\"translate(375, 155) scale(0.75, 0.75)\"><path d=\"M6.719 16.66h6.195v1.328h-4.75v2.86q.344-.118.688-.172.343-.063.687-.063 1.953 0 3.094 1.07 1.14 1.07 1.14 2.899 0 1.883-1.171 2.93-1.172 1.039-3.305 1.039-.735 0-1.5-.125-.758-.125-1.57-.375v-1.586q.703.383 1.453.57.75.188 1.586.188 1.351 0 2.14-.711.79-.711.79-1.93 0-1.219-.79-1.93-.789-.71-2.14-.71-.633 0-1.266.14-.625.14-1.281.438z\" /></g><g fill=\"#e5e5e5\" stroke=\"#e5e5e5\" transform=\"translate(0, 110) scale(0.75, 0.75)\"><path d=\"M10.137 21.863q-1.063 0-1.688.727-.617.726-.617 1.992 0 1.258.617 1.992.625.727 1.688.727 1.062 0 1.68-.727.624-.734.624-1.992 0-1.266-.625-1.992-.617-.727-1.68-.727zm3.133-4.945v1.437q-.594-.28-1.204-.43-.601-.148-1.195-.148-1.562 0-2.39 1.055-.82 1.055-.938 3.188.46-.68 1.156-1.04.696-.367 1.531-.367 1.758 0 2.774 1.07 1.023 1.063 1.023 2.899 0 1.797-1.062 2.883-1.063 1.086-2.828 1.086-2.024 0-3.094-1.547-1.07-1.555-1.07-4.5 0-2.766 1.312-4.406 1.313-1.649 3.524-1.649.593 0 1.195.117.61.118 1.266.352z\" /></g><g fill=\"#e5e5e5\" stroke=\"#e5e5e5\" transform=\"translate(375, 110) scale(0.75, 0.75)\"><path d=\"M10.137 21.863q-1.063 0-1.688.727-.617.726-.617 1.992 0 1.258.617 1.992.625.727 1.688.727 1.062 0 1.68-.727.624-.734.624-1.992 0-1.266-.625-1.992-.617-.727-1.68-.727zm3.133-4.945v1.437q-.594-.28-1.204-.43-.601-.148-1.195-.148-1.562 0-2.39 1.055-.82 1.055-.938 3.188.46-.68 1.156-1.04.696-.367 1.531-.367 1.758 0 2.774 1.07 1.023 1.063 1.023 2.899 0 1.797-1.062 2.883-1.063 1.086-2.828 1.086-2.024 0-3.094-1.547-1.07-1.555-1.07-4.5 0-2.766 1.312-4.406 1.313-1.649 3.524-1.649.593 0 1.195.117.61.118 1.266.352z\" /></g><g fill=\"#e5e5e5\" stroke=\"#e5e5e5\" transform=\"translate(0, 65) scale(0.75, 0.75)\"><path d=\"M6.25 16.66h7.5v.672L9.516 28.324H7.867l3.985-10.336H6.25z\" /></g><g fill=\"#e5e5e5\" stroke=\"#e5e5e5\" transform=\"translate(375, 65) scale(0.75, 0.75)\"><path d=\"M6.25 16.66h7.5v.672L9.516 28.324H7.867l3.985-10.336H6.25z\" /></g><g fill=\"#e5e5e5\" stroke=\"#e5e5e5\" transform=\"translate(0, 20) scale(0.75, 0.75)\"><path d=\"M10 22.785q-1.125 0-1.773.602-.641.601-.641 1.656t.64 1.656q.649.602 1.774.602t1.773-.602q.649-.61.649-1.656 0-1.055-.649-1.656-.64-.602-1.773-.602zm-1.578-.672q-1.016-.25-1.586-.945-.563-.695-.563-1.695 0-1.399.993-2.211 1-.813 2.734-.813 1.742 0 2.734.813.993.812.993 2.21 0 1-.57 1.696-.563.695-1.571.945 1.14.266 1.773 1.04.641.773.641 1.89 0 1.695-1.04 2.602-1.03.906-2.96.906t-2.969-.906Q6 26.738 6 25.043q0-1.117.64-1.89.641-.774 1.782-1.04zm-.578-2.492q0 .906.562 1.414.57.508 1.594.508 1.016 0 1.586-.508.578-.508.578-1.414 0-.906-.578-1.414-.57-.508-1.586-.508-1.023 0-1.594.508-.562.508-.562 1.414z\" /></g><g fill=\"#e5e5e5\" stroke=\"#e5e5e5\" transform=\"translate(375, 20) scale(0.75, 0.75)\"><path d=\"M10 22.785q-1.125 0-1.773.602-.641.601-.641 1.656t.64 1.656q.649.602 1.774.602t1.773-.602q.649-.61.649-1.656 0-1.055-.649-1.656-.64-.602-1.773-.602zm-1.578-.672q-1.016-.25-1.586-.945-.563-.695-.563-1.695 0-1.399.993-2.211 1-.813 2.734-.813 1.742 0 2.734.813.993.812.993 2.21 0 1-.57 1.696-.563.695-1.571.945 1.14.266 1.773 1.04.641.773.641 1.89 0 1.695-1.04 2.602-1.03.906-2.96.906t-2.969-.906Q6 26.738 6 25.043q0-1.117.64-1.89.641-.774 1.782-1.04zm-.578-2.492q0 .906.562 1.414.57.508 1.594.508 1.016 0 1.586-.508.578-.508.578-1.414 0-.906-.578-1.414-.57-.508-1.586-.508-1.023 0-1.594.508-.562.508-.562 1.414z\" /></g><rect class=\"square dark a1\" fill=\"#d18b47\" height=\"45\" stroke=\"none\" width=\"45\" x=\"15\" y=\"330\" /><rect class=\"square light b1\" fill=\"#ffce9e\" height=\"45\" stroke=\"none\" width=\"45\" x=\"60\" y=\"330\" /><rect class=\"square dark c1\" fill=\"#d18b47\" height=\"45\" stroke=\"none\" width=\"45\" x=\"105\" y=\"330\" /><rect class=\"square light d1\" fill=\"#ffce9e\" height=\"45\" stroke=\"none\" width=\"45\" x=\"150\" y=\"330\" /><rect class=\"square dark e1\" fill=\"#d18b47\" height=\"45\" stroke=\"none\" width=\"45\" x=\"195\" y=\"330\" /><rect class=\"square light f1\" fill=\"#ffce9e\" height=\"45\" stroke=\"none\" width=\"45\" x=\"240\" y=\"330\" /><rect class=\"square dark g1\" fill=\"#d18b47\" height=\"45\" stroke=\"none\" width=\"45\" x=\"285\" y=\"330\" /><rect class=\"square light h1\" fill=\"#ffce9e\" height=\"45\" stroke=\"none\" width=\"45\" x=\"330\" y=\"330\" /><rect class=\"square light a2\" fill=\"#ffce9e\" height=\"45\" stroke=\"none\" width=\"45\" x=\"15\" y=\"285\" /><rect class=\"square dark b2\" fill=\"#d18b47\" height=\"45\" stroke=\"none\" width=\"45\" x=\"60\" y=\"285\" /><rect class=\"square light c2\" fill=\"#ffce9e\" height=\"45\" stroke=\"none\" width=\"45\" x=\"105\" y=\"285\" /><rect class=\"square dark d2\" fill=\"#d18b47\" height=\"45\" stroke=\"none\" width=\"45\" x=\"150\" y=\"285\" /><rect class=\"square light e2\" fill=\"#ffce9e\" height=\"45\" stroke=\"none\" width=\"45\" x=\"195\" y=\"285\" /><rect class=\"square dark f2\" fill=\"#d18b47\" height=\"45\" stroke=\"none\" width=\"45\" x=\"240\" y=\"285\" /><rect class=\"square light g2\" fill=\"#ffce9e\" height=\"45\" stroke=\"none\" width=\"45\" x=\"285\" y=\"285\" /><rect class=\"square dark h2\" fill=\"#d18b47\" height=\"45\" stroke=\"none\" width=\"45\" x=\"330\" y=\"285\" /><rect class=\"square dark a3\" fill=\"#d18b47\" height=\"45\" stroke=\"none\" width=\"45\" x=\"15\" y=\"240\" /><rect class=\"square light b3\" fill=\"#ffce9e\" height=\"45\" stroke=\"none\" width=\"45\" x=\"60\" y=\"240\" /><rect class=\"square dark c3\" fill=\"#d18b47\" height=\"45\" stroke=\"none\" width=\"45\" x=\"105\" y=\"240\" /><rect class=\"square light d3\" fill=\"#ffce9e\" height=\"45\" stroke=\"none\" width=\"45\" x=\"150\" y=\"240\" /><rect class=\"square dark e3\" fill=\"#d18b47\" height=\"45\" stroke=\"none\" width=\"45\" x=\"195\" y=\"240\" /><rect class=\"square light f3\" fill=\"#ffce9e\" height=\"45\" stroke=\"none\" width=\"45\" x=\"240\" y=\"240\" /><rect class=\"square dark g3\" fill=\"#d18b47\" height=\"45\" stroke=\"none\" width=\"45\" x=\"285\" y=\"240\" /><rect class=\"square light h3\" fill=\"#ffce9e\" height=\"45\" stroke=\"none\" width=\"45\" x=\"330\" y=\"240\" /><rect class=\"square light a4\" fill=\"#ffce9e\" height=\"45\" stroke=\"none\" width=\"45\" x=\"15\" y=\"195\" /><rect class=\"square dark b4\" fill=\"#d18b47\" height=\"45\" stroke=\"none\" width=\"45\" x=\"60\" y=\"195\" /><rect class=\"square light c4\" fill=\"#ffce9e\" height=\"45\" stroke=\"none\" width=\"45\" x=\"105\" y=\"195\" /><rect class=\"square dark d4\" fill=\"#d18b47\" height=\"45\" stroke=\"none\" width=\"45\" x=\"150\" y=\"195\" /><rect class=\"square light e4\" fill=\"#ffce9e\" height=\"45\" stroke=\"none\" width=\"45\" x=\"195\" y=\"195\" /><rect class=\"square dark f4\" fill=\"#d18b47\" height=\"45\" stroke=\"none\" width=\"45\" x=\"240\" y=\"195\" /><rect class=\"square light g4\" fill=\"#ffce9e\" height=\"45\" stroke=\"none\" width=\"45\" x=\"285\" y=\"195\" /><rect class=\"square dark h4\" fill=\"#d18b47\" height=\"45\" stroke=\"none\" width=\"45\" x=\"330\" y=\"195\" /><rect class=\"square dark a5\" fill=\"#d18b47\" height=\"45\" stroke=\"none\" width=\"45\" x=\"15\" y=\"150\" /><rect class=\"square light b5\" fill=\"#ffce9e\" height=\"45\" stroke=\"none\" width=\"45\" x=\"60\" y=\"150\" /><rect class=\"square dark c5\" fill=\"#d18b47\" height=\"45\" stroke=\"none\" width=\"45\" x=\"105\" y=\"150\" /><rect class=\"square light d5\" fill=\"#ffce9e\" height=\"45\" stroke=\"none\" width=\"45\" x=\"150\" y=\"150\" /><rect class=\"square dark e5\" fill=\"#d18b47\" height=\"45\" stroke=\"none\" width=\"45\" x=\"195\" y=\"150\" /><rect class=\"square light f5\" fill=\"#ffce9e\" height=\"45\" stroke=\"none\" width=\"45\" x=\"240\" y=\"150\" /><rect class=\"square dark g5\" fill=\"#d18b47\" height=\"45\" stroke=\"none\" width=\"45\" x=\"285\" y=\"150\" /><rect class=\"square light h5\" fill=\"#ffce9e\" height=\"45\" stroke=\"none\" width=\"45\" x=\"330\" y=\"150\" /><rect class=\"square light a6\" fill=\"#ffce9e\" height=\"45\" stroke=\"none\" width=\"45\" x=\"15\" y=\"105\" /><rect class=\"square dark b6\" fill=\"#d18b47\" height=\"45\" stroke=\"none\" width=\"45\" x=\"60\" y=\"105\" /><rect class=\"square light c6\" fill=\"#ffce9e\" height=\"45\" stroke=\"none\" width=\"45\" x=\"105\" y=\"105\" /><rect class=\"square dark d6\" fill=\"#d18b47\" height=\"45\" stroke=\"none\" width=\"45\" x=\"150\" y=\"105\" /><rect class=\"square light e6\" fill=\"#ffce9e\" height=\"45\" stroke=\"none\" width=\"45\" x=\"195\" y=\"105\" /><rect class=\"square dark f6\" fill=\"#d18b47\" height=\"45\" stroke=\"none\" width=\"45\" x=\"240\" y=\"105\" /><rect class=\"square light g6\" fill=\"#ffce9e\" height=\"45\" stroke=\"none\" width=\"45\" x=\"285\" y=\"105\" /><rect class=\"square dark h6\" fill=\"#d18b47\" height=\"45\" stroke=\"none\" width=\"45\" x=\"330\" y=\"105\" /><rect class=\"square dark a7\" fill=\"#d18b47\" height=\"45\" stroke=\"none\" width=\"45\" x=\"15\" y=\"60\" /><rect class=\"square light b7\" fill=\"#ffce9e\" height=\"45\" stroke=\"none\" width=\"45\" x=\"60\" y=\"60\" /><rect class=\"square dark c7\" fill=\"#d18b47\" height=\"45\" stroke=\"none\" width=\"45\" x=\"105\" y=\"60\" /><rect class=\"square light d7\" fill=\"#ffce9e\" height=\"45\" stroke=\"none\" width=\"45\" x=\"150\" y=\"60\" /><rect class=\"square dark e7\" fill=\"#d18b47\" height=\"45\" stroke=\"none\" width=\"45\" x=\"195\" y=\"60\" /><rect class=\"square light f7\" fill=\"#ffce9e\" height=\"45\" stroke=\"none\" width=\"45\" x=\"240\" y=\"60\" /><rect class=\"square dark g7\" fill=\"#d18b47\" height=\"45\" stroke=\"none\" width=\"45\" x=\"285\" y=\"60\" /><rect class=\"square light h7\" fill=\"#ffce9e\" height=\"45\" stroke=\"none\" width=\"45\" x=\"330\" y=\"60\" /><rect class=\"square light a8\" fill=\"#ffce9e\" height=\"45\" stroke=\"none\" width=\"45\" x=\"15\" y=\"15\" /><rect class=\"square dark b8\" fill=\"#d18b47\" height=\"45\" stroke=\"none\" width=\"45\" x=\"60\" y=\"15\" /><rect class=\"square light c8\" fill=\"#ffce9e\" height=\"45\" stroke=\"none\" width=\"45\" x=\"105\" y=\"15\" /><rect class=\"square dark d8\" fill=\"#d18b47\" height=\"45\" stroke=\"none\" width=\"45\" x=\"150\" y=\"15\" /><rect class=\"square light e8\" fill=\"#ffce9e\" height=\"45\" stroke=\"none\" width=\"45\" x=\"195\" y=\"15\" /><rect class=\"square dark f8\" fill=\"#d18b47\" height=\"45\" stroke=\"none\" width=\"45\" x=\"240\" y=\"15\" /><rect class=\"square light g8\" fill=\"#ffce9e\" height=\"45\" stroke=\"none\" width=\"45\" x=\"285\" y=\"15\" /><rect class=\"square dark h8\" fill=\"#d18b47\" height=\"45\" stroke=\"none\" width=\"45\" x=\"330\" y=\"15\" /><use href=\"#white-queen\" transform=\"translate(15, 330)\" xlink:href=\"#white-queen\" /></svg>"
      ],
      "text/plain": [
       "Board('8/8/8/8/8/8/8/Q7 w - - 0 1')"
      ]
     },
     "execution_count": 5,
     "metadata": {},
     "output_type": "execute_result"
    }
   ],
   "source": [
    "# visualize chessboard\n",
    "b = chess.Board(None)\n",
    "b.set_piece_at(chess.parse_square('a1'), chess.Piece.from_symbol('Q'))\n",
    "b"
   ]
  },
  {
   "cell_type": "code",
   "execution_count": 6,
   "id": "o-Z_5wqtbdJm",
   "metadata": {
    "executionInfo": {
     "elapsed": 434,
     "status": "ok",
     "timestamp": 1639989454877,
     "user": {
      "displayName": "faizan shaikh",
      "photoUrl": "https://lh3.googleusercontent.com/a-/AOh14GgqmcbHsEKLXGL6XPL9YhU0LKMr1juc_rciMZsRQA=s64",
      "userId": "07685339115898994855"
     },
     "user_tz": -330
    },
    "id": "o-Z_5wqtbdJm"
   },
   "outputs": [],
   "source": [
    "# create dataset template\n",
    "image_names = []\n",
    "boards = []\n",
    "labels = []\n",
    "\n",
    "for idx, piece in enumerate(['k', 'K', 'q', 'Q']):\n",
    "    for pos in chess.SQUARE_NAMES:\n",
    "        b = chess.Board(None)\n",
    "        b.set_piece_at(chess.parse_square(pos), chess.Piece.from_symbol(piece))\n",
    "        \n",
    "        # store image names, boards and labels\n",
    "        img_name = 'image_' + str(idx) + str(pos) + '.png'\n",
    "        image_names.append(img_name)\n",
    "        boards.append(b)\n",
    "        labels.append(idx)"
   ]
  },
  {
   "cell_type": "code",
   "execution_count": 11,
   "id": "rO2ogryXbivP",
   "metadata": {
    "executionInfo": {
     "elapsed": 407,
     "status": "ok",
     "timestamp": 1639989480532,
     "user": {
      "displayName": "faizan shaikh",
      "photoUrl": "https://lh3.googleusercontent.com/a-/AOh14GgqmcbHsEKLXGL6XPL9YhU0LKMr1juc_rciMZsRQA=s64",
      "userId": "07685339115898994855"
     },
     "user_tz": -330
    },
    "id": "rO2ogryXbivP"
   },
   "outputs": [],
   "source": [
    "# split data into training and validation\n",
    "train_names, valid_names, train_boards, valid_boards, train_labels, valid_labels = train_test_split(image_names, boards, labels, train_size=0.8, shuffle=True, stratify=labels, random_state=42)"
   ]
  },
  {
   "cell_type": "code",
   "execution_count": 12,
   "id": "bsOox8CHb45Q",
   "metadata": {
    "colab": {
     "base_uri": "https://localhost:8080/"
    },
    "executionInfo": {
     "elapsed": 7,
     "status": "ok",
     "timestamp": 1639989481726,
     "user": {
      "displayName": "faizan shaikh",
      "photoUrl": "https://lh3.googleusercontent.com/a-/AOh14GgqmcbHsEKLXGL6XPL9YhU0LKMr1juc_rciMZsRQA=s64",
      "userId": "07685339115898994855"
     },
     "user_tz": -330
    },
    "id": "bsOox8CHb45Q",
    "outputId": "5bfe90a5-abd9-4821-f664-983fd9b12ee6"
   },
   "outputs": [
    {
     "data": {
      "text/plain": [
       "['image_1h3.png',\n",
       " 'image_2h4.png',\n",
       " 'image_1a5.png',\n",
       " 'image_3g2.png',\n",
       " 'image_1f4.png']"
      ]
     },
     "execution_count": 12,
     "metadata": {},
     "output_type": "execute_result"
    }
   ],
   "source": [
    "train_names[:5]"
   ]
  },
  {
   "cell_type": "code",
   "execution_count": 13,
   "id": "KjQWxDUZcBRX",
   "metadata": {
    "colab": {
     "base_uri": "https://localhost:8080/"
    },
    "executionInfo": {
     "elapsed": 682,
     "status": "ok",
     "timestamp": 1639989485225,
     "user": {
      "displayName": "faizan shaikh",
      "photoUrl": "https://lh3.googleusercontent.com/a-/AOh14GgqmcbHsEKLXGL6XPL9YhU0LKMr1juc_rciMZsRQA=s64",
      "userId": "07685339115898994855"
     },
     "user_tz": -330
    },
    "id": "KjQWxDUZcBRX",
    "outputId": "a50c9fae-240b-4f86-c14b-5b29bfd81469"
   },
   "outputs": [
    {
     "data": {
      "text/plain": [
       "['image_2h3.png',\n",
       " 'image_0h8.png',\n",
       " 'image_1f1.png',\n",
       " 'image_0e4.png',\n",
       " 'image_0c6.png']"
      ]
     },
     "execution_count": 13,
     "metadata": {},
     "output_type": "execute_result"
    }
   ],
   "source": [
    "valid_names[:5]"
   ]
  },
  {
   "cell_type": "code",
   "execution_count": 14,
   "id": "Wgo9UOaqkshN",
   "metadata": {
    "colab": {
     "base_uri": "https://localhost:8080/"
    },
    "executionInfo": {
     "elapsed": 13,
     "status": "ok",
     "timestamp": 1639989485227,
     "user": {
      "displayName": "faizan shaikh",
      "photoUrl": "https://lh3.googleusercontent.com/a-/AOh14GgqmcbHsEKLXGL6XPL9YhU0LKMr1juc_rciMZsRQA=s64",
      "userId": "07685339115898994855"
     },
     "user_tz": -330
    },
    "id": "Wgo9UOaqkshN",
    "outputId": "6972cf5c-a159-473b-c444-96d5315262d0"
   },
   "outputs": [
    {
     "data": {
      "text/plain": [
       "(204, 52)"
      ]
     },
     "execution_count": 14,
     "metadata": {},
     "output_type": "execute_result"
    }
   ],
   "source": [
    "len(train_names), len(valid_names)"
   ]
  },
  {
   "cell_type": "code",
   "execution_count": 15,
   "id": "Krq4u0fYhm1f",
   "metadata": {
    "colab": {
     "base_uri": "https://localhost:8080/"
    },
    "executionInfo": {
     "elapsed": 420,
     "status": "ok",
     "timestamp": 1639989504283,
     "user": {
      "displayName": "faizan shaikh",
      "photoUrl": "https://lh3.googleusercontent.com/a-/AOh14GgqmcbHsEKLXGL6XPL9YhU0LKMr1juc_rciMZsRQA=s64",
      "userId": "07685339115898994855"
     },
     "user_tz": -330
    },
    "id": "Krq4u0fYhm1f",
    "outputId": "3287acbe-7dac-49da-f1d3-d454cf6538cc"
   },
   "outputs": [
    {
     "data": {
      "text/plain": [
       "[Board('8/8/8/8/8/7K/8/8 w - - 0 1'),\n",
       " Board('8/8/8/8/7q/8/8/8 w - - 0 1'),\n",
       " Board('8/8/8/K7/8/8/8/8 w - - 0 1'),\n",
       " Board('8/8/8/8/8/8/6Q1/8 w - - 0 1'),\n",
       " Board('8/8/8/8/5K2/8/8/8 w - - 0 1')]"
      ]
     },
     "execution_count": 15,
     "metadata": {},
     "output_type": "execute_result"
    }
   ],
   "source": [
    "train_boards[:5]"
   ]
  },
  {
   "cell_type": "code",
   "execution_count": 16,
   "id": "MaKBKAidhob2",
   "metadata": {
    "colab": {
     "base_uri": "https://localhost:8080/"
    },
    "executionInfo": {
     "elapsed": 11,
     "status": "ok",
     "timestamp": 1639989504685,
     "user": {
      "displayName": "faizan shaikh",
      "photoUrl": "https://lh3.googleusercontent.com/a-/AOh14GgqmcbHsEKLXGL6XPL9YhU0LKMr1juc_rciMZsRQA=s64",
      "userId": "07685339115898994855"
     },
     "user_tz": -330
    },
    "id": "MaKBKAidhob2",
    "outputId": "a3cfc765-e50c-4c96-999d-6c676a39f29f"
   },
   "outputs": [
    {
     "data": {
      "text/plain": [
       "[1, 2, 1, 3, 1]"
      ]
     },
     "execution_count": 16,
     "metadata": {},
     "output_type": "execute_result"
    }
   ],
   "source": [
    "train_labels[:5]"
   ]
  },
  {
   "cell_type": "code",
   "execution_count": 19,
   "id": "k9y_cs98d89u",
   "metadata": {
    "executionInfo": {
     "elapsed": 426,
     "status": "ok",
     "timestamp": 1639989707787,
     "user": {
      "displayName": "faizan shaikh",
      "photoUrl": "https://lh3.googleusercontent.com/a-/AOh14GgqmcbHsEKLXGL6XPL9YhU0LKMr1juc_rciMZsRQA=s64",
      "userId": "07685339115898994855"
     },
     "user_tz": -330
    },
    "id": "k9y_cs98d89u"
   },
   "outputs": [],
   "source": [
    "%%bash\n",
    "\n",
    "mkdir -p \"/content/drive/MyDrive/MAID/502 CI/project/data\"/{train/{images/{blackKing,whiteKing,blackQueen,whiteQueen},annot_csv},valid/{images/{blackKing,whiteKing,blackQueen,whiteQueen},annot_csv}}\n"
   ]
  },
  {
   "cell_type": "code",
   "execution_count": 20,
   "id": "WhoX3c13cbm4",
   "metadata": {
    "executionInfo": {
     "elapsed": 782,
     "status": "ok",
     "timestamp": 1639989753891,
     "user": {
      "displayName": "faizan shaikh",
      "photoUrl": "https://lh3.googleusercontent.com/a-/AOh14GgqmcbHsEKLXGL6XPL9YhU0LKMr1juc_rciMZsRQA=s64",
      "userId": "07685339115898994855"
     },
     "user_tz": -330
    },
    "id": "WhoX3c13cbm4"
   },
   "outputs": [],
   "source": [
    "class_names = {\n",
    "    0: 'blackKing',\n",
    "    1: 'whiteKing',\n",
    "    2: 'blackQueen',\n",
    "    3: 'whiteQueen',\n",
    "}"
   ]
  },
  {
   "cell_type": "code",
   "execution_count": 21,
   "id": "gL0AqyWdayAw",
   "metadata": {
    "executionInfo": {
     "elapsed": 14117,
     "status": "ok",
     "timestamp": 1639989783777,
     "user": {
      "displayName": "faizan shaikh",
      "photoUrl": "https://lh3.googleusercontent.com/a-/AOh14GgqmcbHsEKLXGL6XPL9YhU0LKMr1juc_rciMZsRQA=s64",
      "userId": "07685339115898994855"
     },
     "user_tz": -330
    },
    "id": "gL0AqyWdayAw"
   },
   "outputs": [],
   "source": [
    "# save training images\n",
    "for img_name, b, lbl in zip(train_names, train_boards, train_labels):\n",
    "    img_path = str(data_dir / 'train' / 'images' / class_names[lbl] / img_name)\n",
    "    svg2png(bytestring=chess.svg.board(b, size=224),write_to=img_path)"
   ]
  },
  {
   "cell_type": "code",
   "execution_count": 22,
   "id": "4149h_-8cZaw",
   "metadata": {
    "colab": {
     "base_uri": "https://localhost:8080/"
    },
    "executionInfo": {
     "elapsed": 14,
     "status": "ok",
     "timestamp": 1639989783779,
     "user": {
      "displayName": "faizan shaikh",
      "photoUrl": "https://lh3.googleusercontent.com/a-/AOh14GgqmcbHsEKLXGL6XPL9YhU0LKMr1juc_rciMZsRQA=s64",
      "userId": "07685339115898994855"
     },
     "user_tz": -330
    },
    "id": "4149h_-8cZaw",
    "outputId": "72fd7dd6-ae27-4b05-8928-f4ae7f7662d3"
   },
   "outputs": [
    {
     "data": {
      "text/plain": [
       "('image_2b4.png',\n",
       " Board('8/8/8/8/1q6/8/8/8 w - - 0 1'),\n",
       " 2,\n",
       " 'blackQueen',\n",
       " '/content/drive/MyDrive/MAID/502 CI/project/data/train/images/blackQueen/image_2b4.png')"
      ]
     },
     "execution_count": 22,
     "metadata": {},
     "output_type": "execute_result"
    }
   ],
   "source": [
    "img_name, b, lbl, class_names[lbl], img_path"
   ]
  },
  {
   "cell_type": "code",
   "execution_count": 23,
   "id": "A6ZYLwSDmrg8",
   "metadata": {
    "executionInfo": {
     "elapsed": 2994,
     "status": "ok",
     "timestamp": 1639989795476,
     "user": {
      "displayName": "faizan shaikh",
      "photoUrl": "https://lh3.googleusercontent.com/a-/AOh14GgqmcbHsEKLXGL6XPL9YhU0LKMr1juc_rciMZsRQA=s64",
      "userId": "07685339115898994855"
     },
     "user_tz": -330
    },
    "id": "A6ZYLwSDmrg8"
   },
   "outputs": [],
   "source": [
    "# save validation images\n",
    "for img_name, b, lbl in zip(valid_names, valid_boards, valid_labels):\n",
    "    img_path = str(data_dir / 'valid' / 'images' / class_names[lbl] / img_name)\n",
    "    svg2png(bytestring=chess.svg.board(b, size=224),write_to=img_path)"
   ]
  },
  {
   "cell_type": "code",
   "execution_count": 24,
   "id": "SvnZNIorXRfL",
   "metadata": {
    "colab": {
     "base_uri": "https://localhost:8080/"
    },
    "executionInfo": {
     "elapsed": 13,
     "status": "ok",
     "timestamp": 1639989795477,
     "user": {
      "displayName": "faizan shaikh",
      "photoUrl": "https://lh3.googleusercontent.com/a-/AOh14GgqmcbHsEKLXGL6XPL9YhU0LKMr1juc_rciMZsRQA=s64",
      "userId": "07685339115898994855"
     },
     "user_tz": -330
    },
    "id": "SvnZNIorXRfL",
    "outputId": "eeebc20e-078e-4550-947d-dd7b79c52193"
   },
   "outputs": [
    {
     "data": {
      "text/plain": [
       "(8, 216, 26)"
      ]
     },
     "execution_count": 24,
     "metadata": {},
     "output_type": "execute_result"
    }
   ],
   "source": [
    "# define variables for automated labelling\n",
    "border_width = 8\n",
    "width = 224\n",
    "\n",
    "low = border_width\n",
    "high = width - border_width\n",
    "gap = (high - low) // 8\n",
    "low, high, gap"
   ]
  },
  {
   "cell_type": "code",
   "execution_count": 25,
   "id": "VyGVb9fGXakR",
   "metadata": {
    "colab": {
     "base_uri": "https://localhost:8080/"
    },
    "executionInfo": {
     "elapsed": 7,
     "status": "ok",
     "timestamp": 1639989795940,
     "user": {
      "displayName": "faizan shaikh",
      "photoUrl": "https://lh3.googleusercontent.com/a-/AOh14GgqmcbHsEKLXGL6XPL9YhU0LKMr1juc_rciMZsRQA=s64",
      "userId": "07685339115898994855"
     },
     "user_tz": -330
    },
    "id": "VyGVb9fGXakR",
    "outputId": "e9d7eb63-6293-4f87-c9aa-a4e9c43707b8"
   },
   "outputs": [
    {
     "data": {
      "text/plain": [
       "21.0"
      ]
     },
     "execution_count": 25,
     "metadata": {},
     "output_type": "execute_result"
    }
   ],
   "source": [
    "# define x coordinate at the center of chess position a1\n",
    "x_center0 = low + gap / 2\n",
    "x_center0"
   ]
  },
  {
   "cell_type": "code",
   "execution_count": 26,
   "id": "1Cm3U2HjXRhS",
   "metadata": {
    "colab": {
     "base_uri": "https://localhost:8080/"
    },
    "executionInfo": {
     "elapsed": 6,
     "status": "ok",
     "timestamp": 1639989795940,
     "user": {
      "displayName": "faizan shaikh",
      "photoUrl": "https://lh3.googleusercontent.com/a-/AOh14GgqmcbHsEKLXGL6XPL9YhU0LKMr1juc_rciMZsRQA=s64",
      "userId": "07685339115898994855"
     },
     "user_tz": -330
    },
    "id": "1Cm3U2HjXRhS",
    "outputId": "c9943d8e-5ca5-48d3-e1b9-b2ed08c0e963"
   },
   "outputs": [
    {
     "data": {
      "text/plain": [
       "203.0"
      ]
     },
     "execution_count": 26,
     "metadata": {},
     "output_type": "execute_result"
    }
   ],
   "source": [
    "# define y coordinate at the center of chess position a1\n",
    "y_center0 = high - gap / 2\n",
    "y_center0"
   ]
  },
  {
   "cell_type": "code",
   "execution_count": 27,
   "id": "AbknkB69XRj9",
   "metadata": {
    "colab": {
     "base_uri": "https://localhost:8080/"
    },
    "executionInfo": {
     "elapsed": 4,
     "status": "ok",
     "timestamp": 1639989796884,
     "user": {
      "displayName": "faizan shaikh",
      "photoUrl": "https://lh3.googleusercontent.com/a-/AOh14GgqmcbHsEKLXGL6XPL9YhU0LKMr1juc_rciMZsRQA=s64",
      "userId": "07685339115898994855"
     },
     "user_tz": -330
    },
    "id": "AbknkB69XRj9",
    "outputId": "0b0ff827-9126-4cae-cffd-6ba2866da8b0"
   },
   "outputs": [
    {
     "data": {
      "text/plain": [
       "(array([ 21,  47,  73,  99, 125, 151, 177, 203]),\n",
       " array([203, 177, 151, 125,  99,  73,  47,  21]))"
      ]
     },
     "execution_count": 27,
     "metadata": {},
     "output_type": "execute_result"
    }
   ],
   "source": [
    "# find all possible center coordinates\n",
    "xvals = np.arange(x_center0, y_center0+1, gap, dtype=int)\n",
    "yvals = np.arange(y_center0, x_center0-1, -gap, dtype=int)\n",
    "xvals, yvals"
   ]
  },
  {
   "cell_type": "code",
   "execution_count": 28,
   "id": "U2tvPEi9XRmR",
   "metadata": {
    "colab": {
     "base_uri": "https://localhost:8080/"
    },
    "executionInfo": {
     "elapsed": 3,
     "status": "ok",
     "timestamp": 1639989798433,
     "user": {
      "displayName": "faizan shaikh",
      "photoUrl": "https://lh3.googleusercontent.com/a-/AOh14GgqmcbHsEKLXGL6XPL9YhU0LKMr1juc_rciMZsRQA=s64",
      "userId": "07685339115898994855"
     },
     "user_tz": -330
    },
    "id": "U2tvPEi9XRmR",
    "outputId": "379d4c51-fc4e-488e-fcfc-b1d4406cf896"
   },
   "outputs": [
    {
     "data": {
      "text/plain": [
       "[[21, 203], [21, 177], [21, 151], [21, 125], [21, 99]]"
      ]
     },
     "execution_count": 28,
     "metadata": {},
     "output_type": "execute_result"
    }
   ],
   "source": [
    "# create center coordinates for every chess position\n",
    "coordinates = []\n",
    "for xcenter in xvals:\n",
    "    for ycenter in yvals:\n",
    "        coordinates.append([xcenter, ycenter])\n",
    "        \n",
    "coordinates[:5]"
   ]
  },
  {
   "cell_type": "code",
   "execution_count": 29,
   "id": "PaqFIt66XmYI",
   "metadata": {
    "colab": {
     "base_uri": "https://localhost:8080/"
    },
    "executionInfo": {
     "elapsed": 1,
     "status": "ok",
     "timestamp": 1639989798923,
     "user": {
      "displayName": "faizan shaikh",
      "photoUrl": "https://lh3.googleusercontent.com/a-/AOh14GgqmcbHsEKLXGL6XPL9YhU0LKMr1juc_rciMZsRQA=s64",
      "userId": "07685339115898994855"
     },
     "user_tz": -330
    },
    "id": "PaqFIt66XmYI",
    "outputId": "b31b59c2-d1a6-454d-cde7-7fae7b4b5c98"
   },
   "outputs": [
    {
     "data": {
      "text/plain": [
       "64"
      ]
     },
     "execution_count": 29,
     "metadata": {},
     "output_type": "execute_result"
    }
   ],
   "source": [
    "len(coordinates)"
   ]
  },
  {
   "cell_type": "code",
   "execution_count": 30,
   "id": "cAeVIylkXRrE",
   "metadata": {
    "colab": {
     "base_uri": "https://localhost:8080/"
    },
    "executionInfo": {
     "elapsed": 3,
     "status": "ok",
     "timestamp": 1639989799352,
     "user": {
      "displayName": "faizan shaikh",
      "photoUrl": "https://lh3.googleusercontent.com/a-/AOh14GgqmcbHsEKLXGL6XPL9YhU0LKMr1juc_rciMZsRQA=s64",
      "userId": "07685339115898994855"
     },
     "user_tz": -330
    },
    "id": "cAeVIylkXRrE",
    "outputId": "5c4e00e4-58ae-4534-9517-9f5a3911ec61"
   },
   "outputs": [
    {
     "data": {
      "text/plain": [
       "['a1', 'a2', 'a3', 'a4', 'a5']"
      ]
     },
     "execution_count": 30,
     "metadata": {},
     "output_type": "execute_result"
    }
   ],
   "source": [
    "# create name for every chess position\n",
    "pos = []\n",
    "for filename in chess.FILE_NAMES:\n",
    "    for rankname in chess.RANK_NAMES:\n",
    "        pos.append(filename + rankname)\n",
    "        \n",
    "pos[:5]"
   ]
  },
  {
   "cell_type": "code",
   "execution_count": 31,
   "id": "lqZxUkRtX-ii",
   "metadata": {
    "executionInfo": {
     "elapsed": 2,
     "status": "ok",
     "timestamp": 1639989799746,
     "user": {
      "displayName": "faizan shaikh",
      "photoUrl": "https://lh3.googleusercontent.com/a-/AOh14GgqmcbHsEKLXGL6XPL9YhU0LKMr1juc_rciMZsRQA=s64",
      "userId": "07685339115898994855"
     },
     "user_tz": -330
    },
    "id": "lqZxUkRtX-ii"
   },
   "outputs": [],
   "source": [
    "# merge the above two lists into a dictionary\n",
    "pos_dict = dict(zip(pos, coordinates))"
   ]
  },
  {
   "cell_type": "code",
   "execution_count": 35,
   "id": "OAypy7ZLX-8a",
   "metadata": {
    "colab": {
     "base_uri": "https://localhost:8080/",
     "height": 270
    },
    "executionInfo": {
     "elapsed": 35,
     "status": "ok",
     "timestamp": 1639989821769,
     "user": {
      "displayName": "faizan shaikh",
      "photoUrl": "https://lh3.googleusercontent.com/a-/AOh14GgqmcbHsEKLXGL6XPL9YhU0LKMr1juc_rciMZsRQA=s64",
      "userId": "07685339115898994855"
     },
     "user_tz": -330
    },
    "id": "OAypy7ZLX-8a",
    "outputId": "3ccc0d3f-710b-4db9-af34-bbb0333af0d5"
   },
   "outputs": [
    {
     "data": {
      "image/png": "[encoded data removed]",
      "text/plain": [
       "<Figure size 432x288 with 1 Axes>"
      ]
     },
     "metadata": {},
     "output_type": "display_data"
    },
    {
     "name": "stdout",
     "output_type": "stream",
     "text": [
      "Label is blackQueen\n"
     ]
    }
   ],
   "source": [
    "## visualize random images and their corresponding annotations\n",
    "\n",
    "# get random index\n",
    "idx = np.random.randint(len(train_names))\n",
    "\n",
    "# get filename and stem of random index\n",
    "_stem = Path(train_names[idx]).stem\n",
    "img_name = Path(train_names[idx]).name\n",
    "\n",
    "# get position and label\n",
    "pos = _stem.split('_')[1][1:]\n",
    "label = int(_stem.split('_')[1][0])\n",
    "\n",
    "# get image path\n",
    "img_path = str(data_dir / 'train' / 'images' / class_names[label] / img_name)\n",
    "\n",
    "# read image\n",
    "img = plt.imread(img_path)\n",
    "\n",
    "# find center coordinates\n",
    "xcenter, ycenter = pos_dict[pos]\n",
    "\n",
    "# plot image with annotations\n",
    "plt.imshow(img, origin='upper')\n",
    "rect = patches.Rectangle((xcenter - gap/2, ycenter - gap/2), gap, gap, linewidth=1, edgecolor='b', facecolor='none')\n",
    "plt.gca().add_patch(rect)\n",
    "\n",
    "plt.xticks([])\n",
    "plt.yticks([])\n",
    "\n",
    "plt.show()\n",
    "print('Label is', class_names[label])"
   ]
  },
  {
   "cell_type": "code",
   "execution_count": 36,
   "id": "_3FPsl-iqwmO",
   "metadata": {
    "executionInfo": {
     "elapsed": 413,
     "status": "ok",
     "timestamp": 1639989846727,
     "user": {
      "displayName": "faizan shaikh",
      "photoUrl": "https://lh3.googleusercontent.com/a-/AOh14GgqmcbHsEKLXGL6XPL9YhU0LKMr1juc_rciMZsRQA=s64",
      "userId": "07685339115898994855"
     },
     "user_tz": -330
    },
    "id": "_3FPsl-iqwmO"
   },
   "outputs": [],
   "source": [
    "# create train csv file\n",
    "train_data = []\n",
    "for img_name in train_names:\n",
    "    # get filename and stem of random index\n",
    "    _stem = Path(img_name).stem\n",
    "\n",
    "    # get position, label and class name\n",
    "    pos = _stem.split('_')[1][1:]\n",
    "    label = int(_stem.split('_')[1][0])\n",
    "    class_name = class_names[label]\n",
    "\n",
    "    # find center coordinates\n",
    "    xcenter, ycenter = pos_dict[pos]\n",
    "\n",
    "    # store details\n",
    "    train_data.append([img_name, class_name, xcenter, ycenter, gap, gap])"
   ]
  },
  {
   "cell_type": "code",
   "execution_count": 37,
   "id": "tmEGiJM6qwos",
   "metadata": {
    "colab": {
     "base_uri": "https://localhost:8080/",
     "height": 206
    },
    "executionInfo": {
     "elapsed": 27,
     "status": "ok",
     "timestamp": 1639989847168,
     "user": {
      "displayName": "faizan shaikh",
      "photoUrl": "https://lh3.googleusercontent.com/a-/AOh14GgqmcbHsEKLXGL6XPL9YhU0LKMr1juc_rciMZsRQA=s64",
      "userId": "07685339115898994855"
     },
     "user_tz": -330
    },
    "id": "tmEGiJM6qwos",
    "outputId": "236ddcc7-5e02-4be7-db9c-3ab39b0d0417"
   },
   "outputs": [
    {
     "data": {
      "text/html": [
       "\n",
       "  <div id=\"df-bd70cfa3-7129-4a26-b8f2-5e4a2f23e919\">\n",
       "    <div class=\"colab-df-container\">\n",
       "      <div>\n",
       "<style scoped>\n",
       "    .dataframe tbody tr th:only-of-type {\n",
       "        vertical-align: middle;\n",
       "    }\n",
       "\n",
       "    .dataframe tbody tr th {\n",
       "        vertical-align: top;\n",
       "    }\n",
       "\n",
       "    .dataframe thead th {\n",
       "        text-align: right;\n",
       "    }\n",
       "</style>\n",
       "<table border=\"1\" class=\"dataframe\">\n",
       "  <thead>\n",
       "    <tr style=\"text-align: right;\">\n",
       "      <th></th>\n",
       "      <th>filename</th>\n",
       "      <th>label</th>\n",
       "      <th>xcenter</th>\n",
       "      <th>ycenter</th>\n",
       "      <th>width</th>\n",
       "      <th>height</th>\n",
       "    </tr>\n",
       "  </thead>\n",
       "  <tbody>\n",
       "    <tr>\n",
       "      <th>0</th>\n",
       "      <td>image_1h3.png</td>\n",
       "      <td>whiteKing</td>\n",
       "      <td>203</td>\n",
       "      <td>151</td>\n",
       "      <td>26</td>\n",
       "      <td>26</td>\n",
       "    </tr>\n",
       "    <tr>\n",
       "      <th>1</th>\n",
       "      <td>image_2h4.png</td>\n",
       "      <td>blackQueen</td>\n",
       "      <td>203</td>\n",
       "      <td>125</td>\n",
       "      <td>26</td>\n",
       "      <td>26</td>\n",
       "    </tr>\n",
       "    <tr>\n",
       "      <th>2</th>\n",
       "      <td>image_1a5.png</td>\n",
       "      <td>whiteKing</td>\n",
       "      <td>21</td>\n",
       "      <td>99</td>\n",
       "      <td>26</td>\n",
       "      <td>26</td>\n",
       "    </tr>\n",
       "    <tr>\n",
       "      <th>3</th>\n",
       "      <td>image_3g2.png</td>\n",
       "      <td>whiteQueen</td>\n",
       "      <td>177</td>\n",
       "      <td>177</td>\n",
       "      <td>26</td>\n",
       "      <td>26</td>\n",
       "    </tr>\n",
       "    <tr>\n",
       "      <th>4</th>\n",
       "      <td>image_1f4.png</td>\n",
       "      <td>whiteKing</td>\n",
       "      <td>151</td>\n",
       "      <td>125</td>\n",
       "      <td>26</td>\n",
       "      <td>26</td>\n",
       "    </tr>\n",
       "  </tbody>\n",
       "</table>\n",
       "</div>\n",
       "      <button class=\"colab-df-convert\" onclick=\"convertToInteractive('df-bd70cfa3-7129-4a26-b8f2-5e4a2f23e919')\"\n",
       "              title=\"Convert this dataframe to an interactive table.\"\n",
       "              style=\"display:none;\">\n",
       "        \n",
       "  <svg xmlns=\"http://www.w3.org/2000/svg\" height=\"24px\"viewBox=\"0 0 24 24\"\n",
       "       width=\"24px\">\n",
       "    <path d=\"M0 0h24v24H0V0z\" fill=\"none\"/>\n",
       "    <path d=\"M18.56 5.44l.94 2.06.94-2.06 2.06-.94-2.06-.94-.94-2.06-.94 2.06-2.06.94zm-11 1L8.5 8.5l.94-2.06 2.06-.94-2.06-.94L8.5 2.5l-.94 2.06-2.06.94zm10 10l.94 2.06.94-2.06 2.06-.94-2.06-.94-.94-2.06-.94 2.06-2.06.94z\"/><path d=\"M17.41 7.96l-1.37-1.37c-.4-.4-.92-.59-1.43-.59-.52 0-1.04.2-1.43.59L10.3 9.45l-7.72 7.72c-.78.78-.78 2.05 0 2.83L4 21.41c.39.39.9.59 1.41.59.51 0 1.02-.2 1.41-.59l7.78-7.78 2.81-2.81c.8-.78.8-2.07 0-2.86zM5.41 20L4 18.59l7.72-7.72 1.47 1.35L5.41 20z\"/>\n",
       "  </svg>\n",
       "      </button>\n",
       "      \n",
       "  <style>\n",
       "    .colab-df-container {\n",
       "      display:flex;\n",
       "      flex-wrap:wrap;\n",
       "      gap: 12px;\n",
       "    }\n",
       "\n",
       "    .colab-df-convert {\n",
       "      background-color: #E8F0FE;\n",
       "      border: none;\n",
       "      border-radius: 50%;\n",
       "      cursor: pointer;\n",
       "      display: none;\n",
       "      fill: #1967D2;\n",
       "      height: 32px;\n",
       "      padding: 0 0 0 0;\n",
       "      width: 32px;\n",
       "    }\n",
       "\n",
       "    .colab-df-convert:hover {\n",
       "      background-color: #E2EBFA;\n",
       "      box-shadow: 0px 1px 2px rgba(60, 64, 67, 0.3), 0px 1px 3px 1px rgba(60, 64, 67, 0.15);\n",
       "      fill: #174EA6;\n",
       "    }\n",
       "\n",
       "    [theme=dark] .colab-df-convert {\n",
       "      background-color: #3B4455;\n",
       "      fill: #D2E3FC;\n",
       "    }\n",
       "\n",
       "    [theme=dark] .colab-df-convert:hover {\n",
       "      background-color: #434B5C;\n",
       "      box-shadow: 0px 1px 3px 1px rgba(0, 0, 0, 0.15);\n",
       "      filter: drop-shadow(0px 1px 2px rgba(0, 0, 0, 0.3));\n",
       "      fill: #FFFFFF;\n",
       "    }\n",
       "  </style>\n",
       "\n",
       "      <script>\n",
       "        const buttonEl =\n",
       "          document.querySelector('#df-bd70cfa3-7129-4a26-b8f2-5e4a2f23e919 button.colab-df-convert');\n",
       "        buttonEl.style.display =\n",
       "          google.colab.kernel.accessAllowed ? 'block' : 'none';\n",
       "\n",
       "        async function convertToInteractive(key) {\n",
       "          const element = document.querySelector('#df-bd70cfa3-7129-4a26-b8f2-5e4a2f23e919');\n",
       "          const dataTable =\n",
       "            await google.colab.kernel.invokeFunction('convertToInteractive',\n",
       "                                                     [key], {});\n",
       "          if (!dataTable) return;\n",
       "\n",
       "          const docLinkHtml = 'Like what you see? Visit the ' +\n",
       "            '<a target=\"_blank\" href=https://colab.research.google.com/notebooks/data_table.ipynb>data table notebook</a>'\n",
       "            + ' to learn more about interactive tables.';\n",
       "          element.innerHTML = '';\n",
       "          dataTable['output_type'] = 'display_data';\n",
       "          await google.colab.output.renderOutput(dataTable, element);\n",
       "          const docLink = document.createElement('div');\n",
       "          docLink.innerHTML = docLinkHtml;\n",
       "          element.appendChild(docLink);\n",
       "        }\n",
       "      </script>\n",
       "    </div>\n",
       "  </div>\n",
       "  "
      ],
      "text/plain": [
       "        filename       label  xcenter  ycenter  width  height\n",
       "0  image_1h3.png   whiteKing      203      151     26      26\n",
       "1  image_2h4.png  blackQueen      203      125     26      26\n",
       "2  image_1a5.png   whiteKing       21       99     26      26\n",
       "3  image_3g2.png  whiteQueen      177      177     26      26\n",
       "4  image_1f4.png   whiteKing      151      125     26      26"
      ]
     },
     "execution_count": 37,
     "metadata": {},
     "output_type": "execute_result"
    }
   ],
   "source": [
    "# store all annotations in a simple format\n",
    "train_data = pd.DataFrame(train_data, columns=['filename', 'label', 'xcenter', 'ycenter', 'width', 'height'])\n",
    "train_data.head()"
   ]
  },
  {
   "cell_type": "code",
   "execution_count": 39,
   "id": "-ngL4M0lqwtS",
   "metadata": {
    "executionInfo": {
     "elapsed": 424,
     "status": "ok",
     "timestamp": 1639989891670,
     "user": {
      "displayName": "faizan shaikh",
      "photoUrl": "https://lh3.googleusercontent.com/a-/AOh14GgqmcbHsEKLXGL6XPL9YhU0LKMr1juc_rciMZsRQA=s64",
      "userId": "07685339115898994855"
     },
     "user_tz": -330
    },
    "id": "-ngL4M0lqwtS"
   },
   "outputs": [],
   "source": [
    "# save as csv file\n",
    "train_data.to_csv(data_dir / 'train' / 'annot_csv' / 'train.csv', index=False)"
   ]
  },
  {
   "cell_type": "code",
   "execution_count": 40,
   "id": "fGbcQKqUqwvH",
   "metadata": {
    "executionInfo": {
     "elapsed": 391,
     "status": "ok",
     "timestamp": 1639989910706,
     "user": {
      "displayName": "faizan shaikh",
      "photoUrl": "https://lh3.googleusercontent.com/a-/AOh14GgqmcbHsEKLXGL6XPL9YhU0LKMr1juc_rciMZsRQA=s64",
      "userId": "07685339115898994855"
     },
     "user_tz": -330
    },
    "id": "fGbcQKqUqwvH"
   },
   "outputs": [],
   "source": [
    "# create validation csv file\n",
    "valid_data = []\n",
    "for img_name in valid_names:\n",
    "    # get filename and stem of random index\n",
    "    _stem = Path(img_name).stem\n",
    "\n",
    "    # get position, label and class name\n",
    "    pos = _stem.split('_')[1][1:]\n",
    "    label = int(_stem.split('_')[1][0])\n",
    "    class_name = class_names[label]\n",
    "\n",
    "    # find center coordinates\n",
    "    xcenter, ycenter = pos_dict[pos]\n",
    "\n",
    "    # store details\n",
    "    valid_data.append([img_name, class_name, xcenter, ycenter, gap, gap])\n",
    "\n",
    "# store all annotations in a simple format\n",
    "valid_data = pd.DataFrame(valid_data, columns=['filename', 'label', 'xcenter', 'ycenter', 'width', 'height'])\n",
    "\n",
    "# save as csv file\n",
    "valid_data.to_csv(data_dir / 'valid' / 'annot_csv' / 'valid.csv', index=False)"
   ]
  },
  {
   "cell_type": "code",
   "execution_count": null,
   "id": "ql2JteQ4jUMn",
   "metadata": {
    "id": "ql2JteQ4jUMn"
   },
   "outputs": [],
   "source": []
  }
 ],
 "metadata": {
  "colab": {
   "collapsed_sections": [],
   "name": "1.1 create_images_with_labels.ipynb",
   "provenance": []
  },
  "kernelspec": {
   "display_name": "Python 3",
   "language": "python",
   "name": "python3"
  },
  "language_info": {
   "codemirror_mode": {
    "name": "ipython",
    "version": 3
   },
   "file_extension": ".py",
   "mimetype": "text/x-python",
   "name": "python",
   "nbconvert_exporter": "python",
   "pygments_lexer": "ipython3",
   "version": "3.8.8"
  }
 },
 "nbformat": 4,
 "nbformat_minor": 5
}
