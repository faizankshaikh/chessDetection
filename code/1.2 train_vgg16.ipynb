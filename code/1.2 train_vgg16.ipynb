{
 "cells": [
  {
   "cell_type": "code",
   "execution_count": 31,
   "metadata": {
    "executionInfo": {
     "elapsed": 3,
     "status": "ok",
     "timestamp": 1639990803261,
     "user": {
      "displayName": "faizan shaikh",
      "photoUrl": "https://lh3.googleusercontent.com/a-/AOh14GgqmcbHsEKLXGL6XPL9YhU0LKMr1juc_rciMZsRQA=s64",
      "userId": "07685339115898994855"
     },
     "user_tz": -330
    },
    "id": "mUjB-j1Gydmm"
   },
   "outputs": [],
   "source": [
    "# import libraries and modules\n",
    "import os\n",
    "import numpy as np\n",
    "import pandas as pd\n",
    "import tensorflow as tf\n",
    "import matplotlib.pyplot as plt\n",
    "import matplotlib.patches as patches\n",
    "\n",
    "from pathlib import Path\n",
    "from sklearn.metrics import accuracy_score, confusion_matrix, precision_score, recall_score\n",
    "\n",
    "from tensorflow.keras import Model\n",
    "from tensorflow.keras.applications import VGG16\n",
    "from tensorflow.keras.layers import Input, GlobalMaxPool2D, Dense, Dropout\n",
    "\n",
    "from tensorflow.keras.optimizers import Adam\n",
    "from tensorflow.keras.callbacks import ModelCheckpoint"
   ]
  },
  {
   "cell_type": "code",
   "execution_count": 2,
   "metadata": {
    "colab": {
     "base_uri": "https://localhost:8080/"
    },
    "executionInfo": {
     "elapsed": 25488,
     "status": "ok",
     "timestamp": 1639989992759,
     "user": {
      "displayName": "faizan shaikh",
      "photoUrl": "https://lh3.googleusercontent.com/a-/AOh14GgqmcbHsEKLXGL6XPL9YhU0LKMr1juc_rciMZsRQA=s64",
      "userId": "07685339115898994855"
     },
     "user_tz": -330
    },
    "id": "6wcOidi-0nLt",
    "outputId": "28ca1632-0686-466d-f42a-1efb957585a3"
   },
   "outputs": [
    {
     "name": "stdout",
     "output_type": "stream",
     "text": [
      "Mounted at /content/drive\n"
     ]
    }
   ],
   "source": [
    "from google.colab import drive\n",
    "drive.mount('/content/drive')"
   ]
  },
  {
   "cell_type": "code",
   "execution_count": 3,
   "metadata": {
    "executionInfo": {
     "elapsed": 1171,
     "status": "ok",
     "timestamp": 1639989993917,
     "user": {
      "displayName": "faizan shaikh",
      "photoUrl": "https://lh3.googleusercontent.com/a-/AOh14GgqmcbHsEKLXGL6XPL9YhU0LKMr1juc_rciMZsRQA=s64",
      "userId": "07685339115898994855"
     },
     "user_tz": -330
    },
    "id": "5sIY3Fqo0xb8"
   },
   "outputs": [],
   "source": [
    "data_dir = Path('/content/drive/MyDrive/MAID/502 CI/project/data')"
   ]
  },
  {
   "cell_type": "code",
   "execution_count": 4,
   "metadata": {
    "colab": {
     "base_uri": "https://localhost:8080/",
     "height": 206
    },
    "executionInfo": {
     "elapsed": 11,
     "status": "ok",
     "timestamp": 1639989994310,
     "user": {
      "displayName": "faizan shaikh",
      "photoUrl": "https://lh3.googleusercontent.com/a-/AOh14GgqmcbHsEKLXGL6XPL9YhU0LKMr1juc_rciMZsRQA=s64",
      "userId": "07685339115898994855"
     },
     "user_tz": -330
    },
    "id": "G0frdsH5J-sQ",
    "outputId": "0ad6dadf-4e1a-4114-a870-c040ad63fc07"
   },
   "outputs": [
    {
     "data": {
      "text/html": [
       "\n",
       "  <div id=\"df-f3dee36e-5c70-49cb-b6b1-df34e62fb6f0\">\n",
       "    <div class=\"colab-df-container\">\n",
       "      <div>\n",
       "<style scoped>\n",
       "    .dataframe tbody tr th:only-of-type {\n",
       "        vertical-align: middle;\n",
       "    }\n",
       "\n",
       "    .dataframe tbody tr th {\n",
       "        vertical-align: top;\n",
       "    }\n",
       "\n",
       "    .dataframe thead th {\n",
       "        text-align: right;\n",
       "    }\n",
       "</style>\n",
       "<table border=\"1\" class=\"dataframe\">\n",
       "  <thead>\n",
       "    <tr style=\"text-align: right;\">\n",
       "      <th></th>\n",
       "      <th>filename</th>\n",
       "      <th>label</th>\n",
       "      <th>xcenter</th>\n",
       "      <th>ycenter</th>\n",
       "      <th>width</th>\n",
       "      <th>height</th>\n",
       "    </tr>\n",
       "  </thead>\n",
       "  <tbody>\n",
       "    <tr>\n",
       "      <th>0</th>\n",
       "      <td>image_1h3.png</td>\n",
       "      <td>whiteKing</td>\n",
       "      <td>203</td>\n",
       "      <td>151</td>\n",
       "      <td>26</td>\n",
       "      <td>26</td>\n",
       "    </tr>\n",
       "    <tr>\n",
       "      <th>1</th>\n",
       "      <td>image_2h4.png</td>\n",
       "      <td>blackQueen</td>\n",
       "      <td>203</td>\n",
       "      <td>125</td>\n",
       "      <td>26</td>\n",
       "      <td>26</td>\n",
       "    </tr>\n",
       "    <tr>\n",
       "      <th>2</th>\n",
       "      <td>image_1a5.png</td>\n",
       "      <td>whiteKing</td>\n",
       "      <td>21</td>\n",
       "      <td>99</td>\n",
       "      <td>26</td>\n",
       "      <td>26</td>\n",
       "    </tr>\n",
       "    <tr>\n",
       "      <th>3</th>\n",
       "      <td>image_3g2.png</td>\n",
       "      <td>whiteQueen</td>\n",
       "      <td>177</td>\n",
       "      <td>177</td>\n",
       "      <td>26</td>\n",
       "      <td>26</td>\n",
       "    </tr>\n",
       "    <tr>\n",
       "      <th>4</th>\n",
       "      <td>image_1f4.png</td>\n",
       "      <td>whiteKing</td>\n",
       "      <td>151</td>\n",
       "      <td>125</td>\n",
       "      <td>26</td>\n",
       "      <td>26</td>\n",
       "    </tr>\n",
       "  </tbody>\n",
       "</table>\n",
       "</div>\n",
       "      <button class=\"colab-df-convert\" onclick=\"convertToInteractive('df-f3dee36e-5c70-49cb-b6b1-df34e62fb6f0')\"\n",
       "              title=\"Convert this dataframe to an interactive table.\"\n",
       "              style=\"display:none;\">\n",
       "        \n",
       "  <svg xmlns=\"http://www.w3.org/2000/svg\" height=\"24px\"viewBox=\"0 0 24 24\"\n",
       "       width=\"24px\">\n",
       "    <path d=\"M0 0h24v24H0V0z\" fill=\"none\"/>\n",
       "    <path d=\"M18.56 5.44l.94 2.06.94-2.06 2.06-.94-2.06-.94-.94-2.06-.94 2.06-2.06.94zm-11 1L8.5 8.5l.94-2.06 2.06-.94-2.06-.94L8.5 2.5l-.94 2.06-2.06.94zm10 10l.94 2.06.94-2.06 2.06-.94-2.06-.94-.94-2.06-.94 2.06-2.06.94z\"/><path d=\"M17.41 7.96l-1.37-1.37c-.4-.4-.92-.59-1.43-.59-.52 0-1.04.2-1.43.59L10.3 9.45l-7.72 7.72c-.78.78-.78 2.05 0 2.83L4 21.41c.39.39.9.59 1.41.59.51 0 1.02-.2 1.41-.59l7.78-7.78 2.81-2.81c.8-.78.8-2.07 0-2.86zM5.41 20L4 18.59l7.72-7.72 1.47 1.35L5.41 20z\"/>\n",
       "  </svg>\n",
       "      </button>\n",
       "      \n",
       "  <style>\n",
       "    .colab-df-container {\n",
       "      display:flex;\n",
       "      flex-wrap:wrap;\n",
       "      gap: 12px;\n",
       "    }\n",
       "\n",
       "    .colab-df-convert {\n",
       "      background-color: #E8F0FE;\n",
       "      border: none;\n",
       "      border-radius: 50%;\n",
       "      cursor: pointer;\n",
       "      display: none;\n",
       "      fill: #1967D2;\n",
       "      height: 32px;\n",
       "      padding: 0 0 0 0;\n",
       "      width: 32px;\n",
       "    }\n",
       "\n",
       "    .colab-df-convert:hover {\n",
       "      background-color: #E2EBFA;\n",
       "      box-shadow: 0px 1px 2px rgba(60, 64, 67, 0.3), 0px 1px 3px 1px rgba(60, 64, 67, 0.15);\n",
       "      fill: #174EA6;\n",
       "    }\n",
       "\n",
       "    [theme=dark] .colab-df-convert {\n",
       "      background-color: #3B4455;\n",
       "      fill: #D2E3FC;\n",
       "    }\n",
       "\n",
       "    [theme=dark] .colab-df-convert:hover {\n",
       "      background-color: #434B5C;\n",
       "      box-shadow: 0px 1px 3px 1px rgba(0, 0, 0, 0.15);\n",
       "      filter: drop-shadow(0px 1px 2px rgba(0, 0, 0, 0.3));\n",
       "      fill: #FFFFFF;\n",
       "    }\n",
       "  </style>\n",
       "\n",
       "      <script>\n",
       "        const buttonEl =\n",
       "          document.querySelector('#df-f3dee36e-5c70-49cb-b6b1-df34e62fb6f0 button.colab-df-convert');\n",
       "        buttonEl.style.display =\n",
       "          google.colab.kernel.accessAllowed ? 'block' : 'none';\n",
       "\n",
       "        async function convertToInteractive(key) {\n",
       "          const element = document.querySelector('#df-f3dee36e-5c70-49cb-b6b1-df34e62fb6f0');\n",
       "          const dataTable =\n",
       "            await google.colab.kernel.invokeFunction('convertToInteractive',\n",
       "                                                     [key], {});\n",
       "          if (!dataTable) return;\n",
       "\n",
       "          const docLinkHtml = 'Like what you see? Visit the ' +\n",
       "            '<a target=\"_blank\" href=https://colab.research.google.com/notebooks/data_table.ipynb>data table notebook</a>'\n",
       "            + ' to learn more about interactive tables.';\n",
       "          element.innerHTML = '';\n",
       "          dataTable['output_type'] = 'display_data';\n",
       "          await google.colab.output.renderOutput(dataTable, element);\n",
       "          const docLink = document.createElement('div');\n",
       "          docLink.innerHTML = docLinkHtml;\n",
       "          element.appendChild(docLink);\n",
       "        }\n",
       "      </script>\n",
       "    </div>\n",
       "  </div>\n",
       "  "
      ],
      "text/plain": [
       "        filename       label  xcenter  ycenter  width  height\n",
       "0  image_1h3.png   whiteKing      203      151     26      26\n",
       "1  image_2h4.png  blackQueen      203      125     26      26\n",
       "2  image_1a5.png   whiteKing       21       99     26      26\n",
       "3  image_3g2.png  whiteQueen      177      177     26      26\n",
       "4  image_1f4.png   whiteKing      151      125     26      26"
      ]
     },
     "execution_count": 4,
     "metadata": {},
     "output_type": "execute_result"
    }
   ],
   "source": [
    "train_data = pd.read_csv(data_dir / 'train' / 'annot_csv' / 'train.csv')\n",
    "train_data.head()"
   ]
  },
  {
   "cell_type": "code",
   "execution_count": 5,
   "metadata": {
    "colab": {
     "base_uri": "https://localhost:8080/",
     "height": 206
    },
    "executionInfo": {
     "elapsed": 685,
     "status": "ok",
     "timestamp": 1639989995970,
     "user": {
      "displayName": "faizan shaikh",
      "photoUrl": "https://lh3.googleusercontent.com/a-/AOh14GgqmcbHsEKLXGL6XPL9YhU0LKMr1juc_rciMZsRQA=s64",
      "userId": "07685339115898994855"
     },
     "user_tz": -330
    },
    "id": "Fi4ErU45KNwb",
    "outputId": "4fe11490-0a29-4e6a-927c-9002582ec05e"
   },
   "outputs": [
    {
     "data": {
      "text/html": [
       "\n",
       "  <div id=\"df-eb95550d-cc2e-4e89-850f-01023efb4061\">\n",
       "    <div class=\"colab-df-container\">\n",
       "      <div>\n",
       "<style scoped>\n",
       "    .dataframe tbody tr th:only-of-type {\n",
       "        vertical-align: middle;\n",
       "    }\n",
       "\n",
       "    .dataframe tbody tr th {\n",
       "        vertical-align: top;\n",
       "    }\n",
       "\n",
       "    .dataframe thead th {\n",
       "        text-align: right;\n",
       "    }\n",
       "</style>\n",
       "<table border=\"1\" class=\"dataframe\">\n",
       "  <thead>\n",
       "    <tr style=\"text-align: right;\">\n",
       "      <th></th>\n",
       "      <th>filename</th>\n",
       "      <th>label</th>\n",
       "      <th>xcenter</th>\n",
       "      <th>ycenter</th>\n",
       "      <th>width</th>\n",
       "      <th>height</th>\n",
       "    </tr>\n",
       "  </thead>\n",
       "  <tbody>\n",
       "    <tr>\n",
       "      <th>0</th>\n",
       "      <td>image_2h3.png</td>\n",
       "      <td>blackQueen</td>\n",
       "      <td>203</td>\n",
       "      <td>151</td>\n",
       "      <td>26</td>\n",
       "      <td>26</td>\n",
       "    </tr>\n",
       "    <tr>\n",
       "      <th>1</th>\n",
       "      <td>image_0h8.png</td>\n",
       "      <td>blackKing</td>\n",
       "      <td>203</td>\n",
       "      <td>21</td>\n",
       "      <td>26</td>\n",
       "      <td>26</td>\n",
       "    </tr>\n",
       "    <tr>\n",
       "      <th>2</th>\n",
       "      <td>image_1f1.png</td>\n",
       "      <td>whiteKing</td>\n",
       "      <td>151</td>\n",
       "      <td>203</td>\n",
       "      <td>26</td>\n",
       "      <td>26</td>\n",
       "    </tr>\n",
       "    <tr>\n",
       "      <th>3</th>\n",
       "      <td>image_0e4.png</td>\n",
       "      <td>blackKing</td>\n",
       "      <td>125</td>\n",
       "      <td>125</td>\n",
       "      <td>26</td>\n",
       "      <td>26</td>\n",
       "    </tr>\n",
       "    <tr>\n",
       "      <th>4</th>\n",
       "      <td>image_0c6.png</td>\n",
       "      <td>blackKing</td>\n",
       "      <td>73</td>\n",
       "      <td>73</td>\n",
       "      <td>26</td>\n",
       "      <td>26</td>\n",
       "    </tr>\n",
       "  </tbody>\n",
       "</table>\n",
       "</div>\n",
       "      <button class=\"colab-df-convert\" onclick=\"convertToInteractive('df-eb95550d-cc2e-4e89-850f-01023efb4061')\"\n",
       "              title=\"Convert this dataframe to an interactive table.\"\n",
       "              style=\"display:none;\">\n",
       "        \n",
       "  <svg xmlns=\"http://www.w3.org/2000/svg\" height=\"24px\"viewBox=\"0 0 24 24\"\n",
       "       width=\"24px\">\n",
       "    <path d=\"M0 0h24v24H0V0z\" fill=\"none\"/>\n",
       "    <path d=\"M18.56 5.44l.94 2.06.94-2.06 2.06-.94-2.06-.94-.94-2.06-.94 2.06-2.06.94zm-11 1L8.5 8.5l.94-2.06 2.06-.94-2.06-.94L8.5 2.5l-.94 2.06-2.06.94zm10 10l.94 2.06.94-2.06 2.06-.94-2.06-.94-.94-2.06-.94 2.06-2.06.94z\"/><path d=\"M17.41 7.96l-1.37-1.37c-.4-.4-.92-.59-1.43-.59-.52 0-1.04.2-1.43.59L10.3 9.45l-7.72 7.72c-.78.78-.78 2.05 0 2.83L4 21.41c.39.39.9.59 1.41.59.51 0 1.02-.2 1.41-.59l7.78-7.78 2.81-2.81c.8-.78.8-2.07 0-2.86zM5.41 20L4 18.59l7.72-7.72 1.47 1.35L5.41 20z\"/>\n",
       "  </svg>\n",
       "      </button>\n",
       "      \n",
       "  <style>\n",
       "    .colab-df-container {\n",
       "      display:flex;\n",
       "      flex-wrap:wrap;\n",
       "      gap: 12px;\n",
       "    }\n",
       "\n",
       "    .colab-df-convert {\n",
       "      background-color: #E8F0FE;\n",
       "      border: none;\n",
       "      border-radius: 50%;\n",
       "      cursor: pointer;\n",
       "      display: none;\n",
       "      fill: #1967D2;\n",
       "      height: 32px;\n",
       "      padding: 0 0 0 0;\n",
       "      width: 32px;\n",
       "    }\n",
       "\n",
       "    .colab-df-convert:hover {\n",
       "      background-color: #E2EBFA;\n",
       "      box-shadow: 0px 1px 2px rgba(60, 64, 67, 0.3), 0px 1px 3px 1px rgba(60, 64, 67, 0.15);\n",
       "      fill: #174EA6;\n",
       "    }\n",
       "\n",
       "    [theme=dark] .colab-df-convert {\n",
       "      background-color: #3B4455;\n",
       "      fill: #D2E3FC;\n",
       "    }\n",
       "\n",
       "    [theme=dark] .colab-df-convert:hover {\n",
       "      background-color: #434B5C;\n",
       "      box-shadow: 0px 1px 3px 1px rgba(0, 0, 0, 0.15);\n",
       "      filter: drop-shadow(0px 1px 2px rgba(0, 0, 0, 0.3));\n",
       "      fill: #FFFFFF;\n",
       "    }\n",
       "  </style>\n",
       "\n",
       "      <script>\n",
       "        const buttonEl =\n",
       "          document.querySelector('#df-eb95550d-cc2e-4e89-850f-01023efb4061 button.colab-df-convert');\n",
       "        buttonEl.style.display =\n",
       "          google.colab.kernel.accessAllowed ? 'block' : 'none';\n",
       "\n",
       "        async function convertToInteractive(key) {\n",
       "          const element = document.querySelector('#df-eb95550d-cc2e-4e89-850f-01023efb4061');\n",
       "          const dataTable =\n",
       "            await google.colab.kernel.invokeFunction('convertToInteractive',\n",
       "                                                     [key], {});\n",
       "          if (!dataTable) return;\n",
       "\n",
       "          const docLinkHtml = 'Like what you see? Visit the ' +\n",
       "            '<a target=\"_blank\" href=https://colab.research.google.com/notebooks/data_table.ipynb>data table notebook</a>'\n",
       "            + ' to learn more about interactive tables.';\n",
       "          element.innerHTML = '';\n",
       "          dataTable['output_type'] = 'display_data';\n",
       "          await google.colab.output.renderOutput(dataTable, element);\n",
       "          const docLink = document.createElement('div');\n",
       "          docLink.innerHTML = docLinkHtml;\n",
       "          element.appendChild(docLink);\n",
       "        }\n",
       "      </script>\n",
       "    </div>\n",
       "  </div>\n",
       "  "
      ],
      "text/plain": [
       "        filename       label  xcenter  ycenter  width  height\n",
       "0  image_2h3.png  blackQueen      203      151     26      26\n",
       "1  image_0h8.png   blackKing      203       21     26      26\n",
       "2  image_1f1.png   whiteKing      151      203     26      26\n",
       "3  image_0e4.png   blackKing      125      125     26      26\n",
       "4  image_0c6.png   blackKing       73       73     26      26"
      ]
     },
     "execution_count": 5,
     "metadata": {},
     "output_type": "execute_result"
    }
   ],
   "source": [
    "valid_data = pd.read_csv(data_dir / 'valid' / 'annot_csv' / 'valid.csv')\n",
    "valid_data.head()"
   ]
  },
  {
   "cell_type": "code",
   "execution_count": 6,
   "metadata": {
    "executionInfo": {
     "elapsed": 6,
     "status": "ok",
     "timestamp": 1639989999367,
     "user": {
      "displayName": "faizan shaikh",
      "photoUrl": "https://lh3.googleusercontent.com/a-/AOh14GgqmcbHsEKLXGL6XPL9YhU0LKMr1juc_rciMZsRQA=s64",
      "userId": "07685339115898994855"
     },
     "user_tz": -330
    },
    "id": "n-VpdRfpOpjH"
   },
   "outputs": [],
   "source": [
    "label_to_class_names = {\n",
    "    0: 'blackKing',\n",
    "    1: 'whiteKing',\n",
    "    2: 'blackQueen',\n",
    "    3: 'whiteQueen',\n",
    "}"
   ]
  },
  {
   "cell_type": "code",
   "execution_count": 7,
   "metadata": {
    "executionInfo": {
     "elapsed": 7,
     "status": "ok",
     "timestamp": 1639989999765,
     "user": {
      "displayName": "faizan shaikh",
      "photoUrl": "https://lh3.googleusercontent.com/a-/AOh14GgqmcbHsEKLXGL6XPL9YhU0LKMr1juc_rciMZsRQA=s64",
      "userId": "07685339115898994855"
     },
     "user_tz": -330
    },
    "id": "TKBKrDR8mIyM"
   },
   "outputs": [],
   "source": [
    "class_names_to_label = {v: k for k, v in label_to_class_names.items()}"
   ]
  },
  {
   "cell_type": "code",
   "execution_count": 8,
   "metadata": {
    "executionInfo": {
     "elapsed": 5,
     "status": "ok",
     "timestamp": 1639990000171,
     "user": {
      "displayName": "faizan shaikh",
      "photoUrl": "https://lh3.googleusercontent.com/a-/AOh14GgqmcbHsEKLXGL6XPL9YhU0LKMr1juc_rciMZsRQA=s64",
      "userId": "07685339115898994855"
     },
     "user_tz": -330
    },
    "id": "y5QrCbWGRQ_N"
   },
   "outputs": [],
   "source": [
    "encode_classname = {\n",
    "    'blackKing': [1, 0, 0, 0],\n",
    "    'whiteKing': [0, 1, 0, 0],\n",
    "    'blackQueen': [0, 0, 1, 0],\n",
    "    'whiteQueen': [0, 0, 0, 1]\n",
    "}"
   ]
  },
  {
   "cell_type": "code",
   "execution_count": 9,
   "metadata": {
    "executionInfo": {
     "elapsed": 45159,
     "status": "ok",
     "timestamp": 1639990058491,
     "user": {
      "displayName": "faizan shaikh",
      "photoUrl": "https://lh3.googleusercontent.com/a-/AOh14GgqmcbHsEKLXGL6XPL9YhU0LKMr1juc_rciMZsRQA=s64",
      "userId": "07685339115898994855"
     },
     "user_tz": -330
    },
    "id": "uXllNbjiQUM6"
   },
   "outputs": [],
   "source": [
    "train_x = []\n",
    "train_y_class = []\n",
    "train_y_reg = []\n",
    "for idx, row in train_data.iterrows():\n",
    "    img_name = row.iloc[0]\n",
    "    xcenter = row.iloc[2]\n",
    "    ycenter = row.iloc[3]\n",
    "\n",
    "\n",
    "    _stem = Path(img_name).stem\n",
    "    label = int(_stem.split('_')[1][0])\n",
    "    class_name = label_to_class_names[label]\n",
    "    img_path = str(data_dir / \"train\" / 'images' / class_name / img_name)\n",
    "\n",
    "    img = plt.imread(img_path)\n",
    "    train_x.append(img)\n",
    "    train_y_class.append(encode_classname[class_name])\n",
    "    train_y_reg.append([xcenter, ycenter])\n",
    "\n",
    "train_x = np.stack(train_x)\n",
    "train_y_class = np.stack(train_y_class)\n",
    "train_y_reg = np.stack(train_y_reg).astype(float)"
   ]
  },
  {
   "cell_type": "code",
   "execution_count": 10,
   "metadata": {
    "colab": {
     "base_uri": "https://localhost:8080/"
    },
    "executionInfo": {
     "elapsed": 10,
     "status": "ok",
     "timestamp": 1639990058493,
     "user": {
      "displayName": "faizan shaikh",
      "photoUrl": "https://lh3.googleusercontent.com/a-/AOh14GgqmcbHsEKLXGL6XPL9YhU0LKMr1juc_rciMZsRQA=s64",
      "userId": "07685339115898994855"
     },
     "user_tz": -330
    },
    "id": "wJfJVgPpSU5G",
    "outputId": "859710d1-0840-49c8-93de-f0cfdb87947e"
   },
   "outputs": [
    {
     "data": {
      "text/plain": [
       "((204, 224, 224, 3), (204, 4), (204, 2))"
      ]
     },
     "execution_count": 10,
     "metadata": {},
     "output_type": "execute_result"
    }
   ],
   "source": [
    "train_x.shape, train_y_class.shape, train_y_reg.shape"
   ]
  },
  {
   "cell_type": "code",
   "execution_count": 11,
   "metadata": {
    "executionInfo": {
     "elapsed": 11648,
     "status": "ok",
     "timestamp": 1639990070133,
     "user": {
      "displayName": "faizan shaikh",
      "photoUrl": "https://lh3.googleusercontent.com/a-/AOh14GgqmcbHsEKLXGL6XPL9YhU0LKMr1juc_rciMZsRQA=s64",
      "userId": "07685339115898994855"
     },
     "user_tz": -330
    },
    "id": "fSzt6vQnS1Yk"
   },
   "outputs": [],
   "source": [
    "valid_x = []\n",
    "valid_y_class = []\n",
    "valid_y_reg = []\n",
    "for idx, row in valid_data.iterrows():\n",
    "    img_name = row.iloc[0]\n",
    "    xcenter = row.iloc[2]\n",
    "    ycenter = row.iloc[3]\n",
    "\n",
    "\n",
    "    _stem = Path(img_name).stem\n",
    "    label = int(_stem.split('_')[1][0])\n",
    "    class_name = label_to_class_names[label]\n",
    "    img_path = str(data_dir / \"valid\" / 'images' / class_name / img_name)\n",
    "\n",
    "    img = plt.imread(img_path)\n",
    "    valid_x.append(img)\n",
    "    valid_y_class.append(encode_classname[class_name])\n",
    "    valid_y_reg.append([xcenter, ycenter])\n",
    "\n",
    "valid_x = np.stack(valid_x)\n",
    "valid_y_class = np.stack(valid_y_class)\n",
    "valid_y_reg = np.stack(valid_y_reg).astype(float)"
   ]
  },
  {
   "cell_type": "code",
   "execution_count": 12,
   "metadata": {
    "colab": {
     "base_uri": "https://localhost:8080/"
    },
    "executionInfo": {
     "elapsed": 23,
     "status": "ok",
     "timestamp": 1639990070135,
     "user": {
      "displayName": "faizan shaikh",
      "photoUrl": "https://lh3.googleusercontent.com/a-/AOh14GgqmcbHsEKLXGL6XPL9YhU0LKMr1juc_rciMZsRQA=s64",
      "userId": "07685339115898994855"
     },
     "user_tz": -330
    },
    "id": "gPRw_3hUTQvF",
    "outputId": "b53ef961-aa27-4087-e223-828bd8cc943d"
   },
   "outputs": [
    {
     "data": {
      "text/plain": [
       "((52, 224, 224, 3), (52, 4), (52, 2))"
      ]
     },
     "execution_count": 12,
     "metadata": {},
     "output_type": "execute_result"
    }
   ],
   "source": [
    "valid_x.shape, valid_y_class.shape, valid_y_reg.shape"
   ]
  },
  {
   "cell_type": "code",
   "execution_count": 13,
   "metadata": {
    "colab": {
     "base_uri": "https://localhost:8080/"
    },
    "executionInfo": {
     "elapsed": 20,
     "status": "ok",
     "timestamp": 1639990070137,
     "user": {
      "displayName": "faizan shaikh",
      "photoUrl": "https://lh3.googleusercontent.com/a-/AOh14GgqmcbHsEKLXGL6XPL9YhU0LKMr1juc_rciMZsRQA=s64",
      "userId": "07685339115898994855"
     },
     "user_tz": -330
    },
    "id": "HpGBXuixZFN2",
    "outputId": "6388f006-4aed-4a7a-c8a6-7131c6972cb5"
   },
   "outputs": [
    {
     "data": {
      "text/plain": [
       "array([[203., 151.],\n",
       "       [203., 125.],\n",
       "       [ 21.,  99.],\n",
       "       [177., 177.],\n",
       "       [151., 125.]])"
      ]
     },
     "execution_count": 13,
     "metadata": {},
     "output_type": "execute_result"
    }
   ],
   "source": [
    "train_y_reg[:5]"
   ]
  },
  {
   "cell_type": "code",
   "execution_count": 14,
   "metadata": {
    "colab": {
     "base_uri": "https://localhost:8080/"
    },
    "executionInfo": {
     "elapsed": 13,
     "status": "ok",
     "timestamp": 1639990070138,
     "user": {
      "displayName": "faizan shaikh",
      "photoUrl": "https://lh3.googleusercontent.com/a-/AOh14GgqmcbHsEKLXGL6XPL9YhU0LKMr1juc_rciMZsRQA=s64",
      "userId": "07685339115898994855"
     },
     "user_tz": -330
    },
    "id": "1oRSePoJY3Jj",
    "outputId": "1818aa66-dcca-46e7-e81c-f76fcf3f8552"
   },
   "outputs": [
    {
     "data": {
      "text/plain": [
       "array([[203., 151.],\n",
       "       [203.,  21.],\n",
       "       [151., 203.],\n",
       "       [125., 125.],\n",
       "       [ 73.,  73.]])"
      ]
     },
     "execution_count": 14,
     "metadata": {},
     "output_type": "execute_result"
    }
   ],
   "source": [
    "valid_y_reg[:5]"
   ]
  },
  {
   "cell_type": "code",
   "execution_count": 15,
   "metadata": {
    "colab": {
     "base_uri": "https://localhost:8080/"
    },
    "executionInfo": {
     "elapsed": 4081,
     "status": "ok",
     "timestamp": 1639990095990,
     "user": {
      "displayName": "faizan shaikh",
      "photoUrl": "https://lh3.googleusercontent.com/a-/AOh14GgqmcbHsEKLXGL6XPL9YhU0LKMr1juc_rciMZsRQA=s64",
      "userId": "07685339115898994855"
     },
     "user_tz": -330
    },
    "id": "PmAIC0P2TS1e",
    "outputId": "97a76e58-66af-4b79-cf15-613647a15de4"
   },
   "outputs": [
    {
     "name": "stdout",
     "output_type": "stream",
     "text": [
      "Downloading data from https://storage.googleapis.com/tensorflow/keras-applications/vgg16/vgg16_weights_tf_dim_ordering_tf_kernels_notop.h5\n",
      "58892288/58889256 [==============================] - 1s 0us/step\n",
      "58900480/58889256 [==============================] - 1s 0us/step\n"
     ]
    }
   ],
   "source": [
    "vgg = VGG16(include_top=False, weights='imagenet', input_shape=(224, 224, 3))\n",
    "\n",
    "x = GlobalMaxPool2D()(vgg.layers[-1].output)\n",
    "x = Dense(256, activation='relu')(x)\n",
    "x = Dropout(0.2)(x)\n",
    "x = Dense(32, activation='relu')(x)\n",
    "op1 = Dense(4, activation='softmax')(x)\n",
    "op2 = Dense(2, activation='linear')(x)\n",
    "\n",
    "model = Model(vgg.inputs, [op1, op2])"
   ]
  },
  {
   "cell_type": "code",
   "execution_count": 16,
   "metadata": {
    "colab": {
     "base_uri": "https://localhost:8080/"
    },
    "executionInfo": {
     "elapsed": 477,
     "status": "ok",
     "timestamp": 1639990096451,
     "user": {
      "displayName": "faizan shaikh",
      "photoUrl": "https://lh3.googleusercontent.com/a-/AOh14GgqmcbHsEKLXGL6XPL9YhU0LKMr1juc_rciMZsRQA=s64",
      "userId": "07685339115898994855"
     },
     "user_tz": -330
    },
    "id": "hoIODwoITa9f",
    "outputId": "46ea04c8-7163-4dd6-d2df-cd9ba4bfbbde"
   },
   "outputs": [
    {
     "name": "stdout",
     "output_type": "stream",
     "text": [
      "Model: \"model\"\n",
      "__________________________________________________________________________________________________\n",
      " Layer (type)                   Output Shape         Param #     Connected to                     \n",
      "==================================================================================================\n",
      " input_1 (InputLayer)           [(None, 224, 224, 3  0           []                               \n",
      "                                )]                                                                \n",
      "                                                                                                  \n",
      " block1_conv1 (Conv2D)          (None, 224, 224, 64  1792        ['input_1[0][0]']                \n",
      "                                )                                                                 \n",
      "                                                                                                  \n",
      " block1_conv2 (Conv2D)          (None, 224, 224, 64  36928       ['block1_conv1[0][0]']           \n",
      "                                )                                                                 \n",
      "                                                                                                  \n",
      " block1_pool (MaxPooling2D)     (None, 112, 112, 64  0           ['block1_conv2[0][0]']           \n",
      "                                )                                                                 \n",
      "                                                                                                  \n",
      " block2_conv1 (Conv2D)          (None, 112, 112, 12  73856       ['block1_pool[0][0]']            \n",
      "                                8)                                                                \n",
      "                                                                                                  \n",
      " block2_conv2 (Conv2D)          (None, 112, 112, 12  147584      ['block2_conv1[0][0]']           \n",
      "                                8)                                                                \n",
      "                                                                                                  \n",
      " block2_pool (MaxPooling2D)     (None, 56, 56, 128)  0           ['block2_conv2[0][0]']           \n",
      "                                                                                                  \n",
      " block3_conv1 (Conv2D)          (None, 56, 56, 256)  295168      ['block2_pool[0][0]']            \n",
      "                                                                                                  \n",
      " block3_conv2 (Conv2D)          (None, 56, 56, 256)  590080      ['block3_conv1[0][0]']           \n",
      "                                                                                                  \n",
      " block3_conv3 (Conv2D)          (None, 56, 56, 256)  590080      ['block3_conv2[0][0]']           \n",
      "                                                                                                  \n",
      " block3_pool (MaxPooling2D)     (None, 28, 28, 256)  0           ['block3_conv3[0][0]']           \n",
      "                                                                                                  \n",
      " block4_conv1 (Conv2D)          (None, 28, 28, 512)  1180160     ['block3_pool[0][0]']            \n",
      "                                                                                                  \n",
      " block4_conv2 (Conv2D)          (None, 28, 28, 512)  2359808     ['block4_conv1[0][0]']           \n",
      "                                                                                                  \n",
      " block4_conv3 (Conv2D)          (None, 28, 28, 512)  2359808     ['block4_conv2[0][0]']           \n",
      "                                                                                                  \n",
      " block4_pool (MaxPooling2D)     (None, 14, 14, 512)  0           ['block4_conv3[0][0]']           \n",
      "                                                                                                  \n",
      " block5_conv1 (Conv2D)          (None, 14, 14, 512)  2359808     ['block4_pool[0][0]']            \n",
      "                                                                                                  \n",
      " block5_conv2 (Conv2D)          (None, 14, 14, 512)  2359808     ['block5_conv1[0][0]']           \n",
      "                                                                                                  \n",
      " block5_conv3 (Conv2D)          (None, 14, 14, 512)  2359808     ['block5_conv2[0][0]']           \n",
      "                                                                                                  \n",
      " block5_pool (MaxPooling2D)     (None, 7, 7, 512)    0           ['block5_conv3[0][0]']           \n",
      "                                                                                                  \n",
      " global_max_pooling2d (GlobalMa  (None, 512)         0           ['block5_pool[0][0]']            \n",
      " xPooling2D)                                                                                      \n",
      "                                                                                                  \n",
      " dense (Dense)                  (None, 256)          131328      ['global_max_pooling2d[0][0]']   \n",
      "                                                                                                  \n",
      " dropout (Dropout)              (None, 256)          0           ['dense[0][0]']                  \n",
      "                                                                                                  \n",
      " dense_1 (Dense)                (None, 32)           8224        ['dropout[0][0]']                \n",
      "                                                                                                  \n",
      " dense_2 (Dense)                (None, 4)            132         ['dense_1[0][0]']                \n",
      "                                                                                                  \n",
      " dense_3 (Dense)                (None, 2)            66          ['dense_1[0][0]']                \n",
      "                                                                                                  \n",
      "==================================================================================================\n",
      "Total params: 14,854,438\n",
      "Trainable params: 14,854,438\n",
      "Non-trainable params: 0\n",
      "__________________________________________________________________________________________________\n"
     ]
    }
   ],
   "source": [
    "model.summary()"
   ]
  },
  {
   "cell_type": "code",
   "execution_count": 17,
   "metadata": {
    "executionInfo": {
     "elapsed": 342,
     "status": "ok",
     "timestamp": 1639990098970,
     "user": {
      "displayName": "faizan shaikh",
      "photoUrl": "https://lh3.googleusercontent.com/a-/AOh14GgqmcbHsEKLXGL6XPL9YhU0LKMr1juc_rciMZsRQA=s64",
      "userId": "07685339115898994855"
     },
     "user_tz": -330
    },
    "id": "X5tXGwQ4Tx-1"
   },
   "outputs": [],
   "source": [
    "model.compile(\n",
    "    optimizer=Adam(0.0001, clipvalue=100), \n",
    "    loss=['categorical_crossentropy', 'mse'],\n",
    "    loss_weights=[5, 0.25]\n",
    ")"
   ]
  },
  {
   "cell_type": "code",
   "execution_count": 18,
   "metadata": {
    "executionInfo": {
     "elapsed": 4,
     "status": "ok",
     "timestamp": 1639990099382,
     "user": {
      "displayName": "faizan shaikh",
      "photoUrl": "https://lh3.googleusercontent.com/a-/AOh14GgqmcbHsEKLXGL6XPL9YhU0LKMr1juc_rciMZsRQA=s64",
      "userId": "07685339115898994855"
     },
     "user_tz": -330
    },
    "id": "RPD1UjgdT96c"
   },
   "outputs": [],
   "source": [
    "check = ModelCheckpoint(\"model.hdf5\", monitor='val_loss', verbose=1, save_best_only=True)"
   ]
  },
  {
   "cell_type": "code",
   "execution_count": 19,
   "metadata": {
    "colab": {
     "base_uri": "https://localhost:8080/"
    },
    "executionInfo": {
     "elapsed": 601191,
     "status": "ok",
     "timestamp": 1639990701855,
     "user": {
      "displayName": "faizan shaikh",
      "photoUrl": "https://lh3.googleusercontent.com/a-/AOh14GgqmcbHsEKLXGL6XPL9YhU0LKMr1juc_rciMZsRQA=s64",
      "userId": "07685339115898994855"
     },
     "user_tz": -330
    },
    "id": "hCk_zjxzT_YF",
    "outputId": "6839867a-bf21-4efe-8f3f-59f29216c82b"
   },
   "outputs": [
    {
     "name": "stdout",
     "output_type": "stream",
     "text": [
      "Epoch 1/100\n",
      "7/7 [==============================] - ETA: 0s - loss: 3566.7136 - dense_2_loss: 5.0250 - dense_3_loss: 14166.3555\n",
      "Epoch 00001: val_loss improved from inf to 1182.53955, saving model to model.hdf5\n",
      "7/7 [==============================] - 44s 3s/step - loss: 3566.7136 - dense_2_loss: 5.0250 - dense_3_loss: 14166.3555 - val_loss: 1182.5396 - val_dense_2_loss: 25.0347 - val_dense_3_loss: 4229.4644\n",
      "Epoch 2/100\n",
      "7/7 [==============================] - ETA: 0s - loss: 1397.1562 - dense_2_loss: 26.8074 - dense_3_loss: 5052.4766\n",
      "Epoch 00002: val_loss improved from 1182.53955 to 987.07214, saving model to model.hdf5\n",
      "7/7 [==============================] - 6s 919ms/step - loss: 1397.1562 - dense_2_loss: 26.8074 - dense_3_loss: 5052.4766 - val_loss: 987.0721 - val_dense_2_loss: 10.5862 - val_dense_3_loss: 3736.5649\n",
      "Epoch 3/100\n",
      "7/7 [==============================] - ETA: 0s - loss: 1131.8962 - dense_2_loss: 18.1856 - dense_3_loss: 4163.8735\n",
      "Epoch 00003: val_loss improved from 987.07214 to 921.50317, saving model to model.hdf5\n",
      "7/7 [==============================] - 6s 935ms/step - loss: 1131.8962 - dense_2_loss: 18.1856 - dense_3_loss: 4163.8735 - val_loss: 921.5032 - val_dense_2_loss: 10.7565 - val_dense_3_loss: 3470.8840\n",
      "Epoch 4/100\n",
      "7/7 [==============================] - ETA: 0s - loss: 1027.2251 - dense_2_loss: 14.8942 - dense_3_loss: 3811.0168\n",
      "Epoch 00004: val_loss improved from 921.50317 to 905.31372, saving model to model.hdf5\n",
      "7/7 [==============================] - 6s 931ms/step - loss: 1027.2251 - dense_2_loss: 14.8942 - dense_3_loss: 3811.0168 - val_loss: 905.3137 - val_dense_2_loss: 8.0153 - val_dense_3_loss: 3460.9480\n",
      "Epoch 5/100\n",
      "7/7 [==============================] - ETA: 0s - loss: 990.8965 - dense_2_loss: 11.5319 - dense_3_loss: 3732.9482\n",
      "Epoch 00005: val_loss improved from 905.31372 to 843.64020, saving model to model.hdf5\n",
      "7/7 [==============================] - 6s 949ms/step - loss: 990.8965 - dense_2_loss: 11.5319 - dense_3_loss: 3732.9482 - val_loss: 843.6402 - val_dense_2_loss: 4.4860 - val_dense_3_loss: 3284.8401\n",
      "Epoch 6/100\n",
      "7/7 [==============================] - ETA: 0s - loss: 894.5361 - dense_2_loss: 10.4559 - dense_3_loss: 3369.0256\n",
      "Epoch 00006: val_loss improved from 843.64020 to 704.31512, saving model to model.hdf5\n",
      "7/7 [==============================] - 6s 947ms/step - loss: 894.5361 - dense_2_loss: 10.4559 - dense_3_loss: 3369.0256 - val_loss: 704.3151 - val_dense_2_loss: 5.1058 - val_dense_3_loss: 2715.1436\n",
      "Epoch 7/100\n",
      "7/7 [==============================] - ETA: 0s - loss: 758.2928 - dense_2_loss: 10.9872 - dense_3_loss: 2813.4268\n",
      "Epoch 00007: val_loss improved from 704.31512 to 537.01794, saving model to model.hdf5\n",
      "7/7 [==============================] - 6s 948ms/step - loss: 758.2928 - dense_2_loss: 10.9872 - dense_3_loss: 2813.4268 - val_loss: 537.0179 - val_dense_2_loss: 5.9196 - val_dense_3_loss: 2029.6792\n",
      "Epoch 8/100\n",
      "7/7 [==============================] - ETA: 0s - loss: 576.3293 - dense_2_loss: 13.0871 - dense_3_loss: 2043.5762\n",
      "Epoch 00008: val_loss improved from 537.01794 to 372.53711, saving model to model.hdf5\n",
      "7/7 [==============================] - 6s 921ms/step - loss: 576.3293 - dense_2_loss: 13.0871 - dense_3_loss: 2043.5762 - val_loss: 372.5371 - val_dense_2_loss: 6.9200 - val_dense_3_loss: 1351.7479\n",
      "Epoch 9/100\n",
      "7/7 [==============================] - ETA: 0s - loss: 424.9457 - dense_2_loss: 11.4916 - dense_3_loss: 1469.9514\n",
      "Epoch 00009: val_loss did not improve from 372.53711\n",
      "7/7 [==============================] - 5s 790ms/step - loss: 424.9457 - dense_2_loss: 11.4916 - dense_3_loss: 1469.9514 - val_loss: 392.5271 - val_dense_2_loss: 8.6579 - val_dense_3_loss: 1396.9503\n",
      "Epoch 10/100\n",
      "7/7 [==============================] - ETA: 0s - loss: 323.7153 - dense_2_loss: 14.1578 - dense_3_loss: 1011.7058\n",
      "Epoch 00010: val_loss improved from 372.53711 to 163.47089, saving model to model.hdf5\n",
      "7/7 [==============================] - 6s 867ms/step - loss: 323.7153 - dense_2_loss: 14.1578 - dense_3_loss: 1011.7058 - val_loss: 163.4709 - val_dense_2_loss: 7.9891 - val_dense_3_loss: 494.1020\n",
      "Epoch 11/100\n",
      "7/7 [==============================] - ETA: 0s - loss: 254.1798 - dense_2_loss: 13.6250 - dense_3_loss: 744.2200\n",
      "Epoch 00011: val_loss did not improve from 163.47089\n",
      "7/7 [==============================] - 5s 774ms/step - loss: 254.1798 - dense_2_loss: 13.6250 - dense_3_loss: 744.2200 - val_loss: 187.2245 - val_dense_2_loss: 8.2862 - val_dense_3_loss: 583.1739\n",
      "Epoch 12/100\n",
      "7/7 [==============================] - ETA: 0s - loss: 251.6628 - dense_2_loss: 14.6654 - dense_3_loss: 713.3441\n",
      "Epoch 00012: val_loss did not improve from 163.47089\n",
      "7/7 [==============================] - 5s 780ms/step - loss: 251.6628 - dense_2_loss: 14.6654 - dense_3_loss: 713.3441 - val_loss: 176.5733 - val_dense_2_loss: 8.5132 - val_dense_3_loss: 536.0299\n",
      "Epoch 13/100\n",
      "7/7 [==============================] - ETA: 0s - loss: 206.4324 - dense_2_loss: 10.5183 - dense_3_loss: 615.3630\n",
      "Epoch 00013: val_loss did not improve from 163.47089\n",
      "7/7 [==============================] - 5s 789ms/step - loss: 206.4324 - dense_2_loss: 10.5183 - dense_3_loss: 615.3630 - val_loss: 173.3202 - val_dense_2_loss: 5.5199 - val_dense_3_loss: 582.8837\n",
      "Epoch 14/100\n",
      "7/7 [==============================] - ETA: 0s - loss: 188.9605 - dense_2_loss: 12.3335 - dense_3_loss: 509.1712\n",
      "Epoch 00014: val_loss improved from 163.47089 to 123.44855, saving model to model.hdf5\n",
      "7/7 [==============================] - 6s 859ms/step - loss: 188.9605 - dense_2_loss: 12.3335 - dense_3_loss: 509.1712 - val_loss: 123.4486 - val_dense_2_loss: 7.5816 - val_dense_3_loss: 342.1613\n",
      "Epoch 15/100\n",
      "7/7 [==============================] - ETA: 0s - loss: 173.9305 - dense_2_loss: 11.5378 - dense_3_loss: 464.9659\n",
      "Epoch 00015: val_loss improved from 123.44855 to 100.62183, saving model to model.hdf5\n",
      "7/7 [==============================] - 6s 866ms/step - loss: 173.9305 - dense_2_loss: 11.5378 - dense_3_loss: 464.9659 - val_loss: 100.6218 - val_dense_2_loss: 6.6940 - val_dense_3_loss: 268.6071\n",
      "Epoch 16/100\n",
      "7/7 [==============================] - ETA: 0s - loss: 160.6944 - dense_2_loss: 9.8147 - dense_3_loss: 446.4841\n",
      "Epoch 00016: val_loss improved from 100.62183 to 78.53718, saving model to model.hdf5\n",
      "7/7 [==============================] - 6s 860ms/step - loss: 160.6944 - dense_2_loss: 9.8147 - dense_3_loss: 446.4841 - val_loss: 78.5372 - val_dense_2_loss: 6.1892 - val_dense_3_loss: 190.3647\n",
      "Epoch 17/100\n",
      "7/7 [==============================] - ETA: 0s - loss: 146.5804 - dense_2_loss: 9.3525 - dense_3_loss: 399.2716\n",
      "Epoch 00017: val_loss did not improve from 78.53718\n",
      "7/7 [==============================] - 5s 779ms/step - loss: 146.5804 - dense_2_loss: 9.3525 - dense_3_loss: 399.2716 - val_loss: 222.1334 - val_dense_2_loss: 5.6410 - val_dense_3_loss: 775.7138\n",
      "Epoch 18/100\n",
      "7/7 [==============================] - ETA: 0s - loss: 198.7918 - dense_2_loss: 8.5094 - dense_3_loss: 624.9786\n",
      "Epoch 00018: val_loss improved from 78.53718 to 64.74776, saving model to model.hdf5\n",
      "7/7 [==============================] - 6s 868ms/step - loss: 198.7918 - dense_2_loss: 8.5094 - dense_3_loss: 624.9786 - val_loss: 64.7478 - val_dense_2_loss: 5.6066 - val_dense_3_loss: 146.8590\n",
      "Epoch 19/100\n",
      "7/7 [==============================] - ETA: 0s - loss: 142.4126 - dense_2_loss: 7.9166 - dense_3_loss: 411.3181\n",
      "Epoch 00019: val_loss did not improve from 64.74776\n",
      "7/7 [==============================] - 5s 777ms/step - loss: 142.4126 - dense_2_loss: 7.9166 - dense_3_loss: 411.3181 - val_loss: 65.8651 - val_dense_2_loss: 5.9929 - val_dense_3_loss: 143.6033\n",
      "Epoch 20/100\n",
      "7/7 [==============================] - ETA: 0s - loss: 104.8816 - dense_2_loss: 7.7169 - dense_3_loss: 265.1874\n",
      "Epoch 00020: val_loss improved from 64.74776 to 56.85708, saving model to model.hdf5\n",
      "7/7 [==============================] - 6s 860ms/step - loss: 104.8816 - dense_2_loss: 7.7169 - dense_3_loss: 265.1874 - val_loss: 56.8571 - val_dense_2_loss: 6.7121 - val_dense_3_loss: 93.1873\n",
      "Epoch 21/100\n",
      "7/7 [==============================] - ETA: 0s - loss: 115.3249 - dense_2_loss: 8.8436 - dense_3_loss: 284.4279\n",
      "Epoch 00021: val_loss improved from 56.85708 to 46.65805, saving model to model.hdf5\n",
      "7/7 [==============================] - 6s 863ms/step - loss: 115.3249 - dense_2_loss: 8.8436 - dense_3_loss: 284.4279 - val_loss: 46.6581 - val_dense_2_loss: 4.8085 - val_dense_3_loss: 90.4613\n",
      "Epoch 22/100\n",
      "7/7 [==============================] - ETA: 0s - loss: 86.0581 - dense_2_loss: 5.5747 - dense_3_loss: 232.7380\n",
      "Epoch 00022: val_loss improved from 46.65805 to 38.89293, saving model to model.hdf5\n",
      "7/7 [==============================] - 6s 866ms/step - loss: 86.0581 - dense_2_loss: 5.5747 - dense_3_loss: 232.7380 - val_loss: 38.8929 - val_dense_2_loss: 3.8088 - val_dense_3_loss: 79.3953\n",
      "Epoch 23/100\n",
      "7/7 [==============================] - ETA: 0s - loss: 82.3034 - dense_2_loss: 6.3522 - dense_3_loss: 202.1698\n",
      "Epoch 00023: val_loss did not improve from 38.89293\n",
      "7/7 [==============================] - 5s 778ms/step - loss: 82.3034 - dense_2_loss: 6.3522 - dense_3_loss: 202.1698 - val_loss: 64.2802 - val_dense_2_loss: 3.0083 - val_dense_3_loss: 196.9547\n",
      "Epoch 24/100\n",
      "7/7 [==============================] - ETA: 0s - loss: 85.7212 - dense_2_loss: 5.9455 - dense_3_loss: 223.9744\n",
      "Epoch 00024: val_loss improved from 38.89293 to 31.89071, saving model to model.hdf5\n",
      "7/7 [==============================] - 6s 864ms/step - loss: 85.7212 - dense_2_loss: 5.9455 - dense_3_loss: 223.9744 - val_loss: 31.8907 - val_dense_2_loss: 3.7337 - val_dense_3_loss: 52.8880\n",
      "Epoch 25/100\n",
      "7/7 [==============================] - ETA: 0s - loss: 85.9550 - dense_2_loss: 4.2073 - dense_3_loss: 259.6734\n",
      "Epoch 00025: val_loss improved from 31.89071 to 26.14852, saving model to model.hdf5\n",
      "7/7 [==============================] - 6s 860ms/step - loss: 85.9550 - dense_2_loss: 4.2073 - dense_3_loss: 259.6734 - val_loss: 26.1485 - val_dense_2_loss: 3.0675 - val_dense_3_loss: 43.2439\n",
      "Epoch 26/100\n",
      "7/7 [==============================] - ETA: 0s - loss: 84.5140 - dense_2_loss: 4.6182 - dense_3_loss: 245.6911\n",
      "Epoch 00026: val_loss did not improve from 26.14852\n",
      "7/7 [==============================] - 5s 780ms/step - loss: 84.5140 - dense_2_loss: 4.6182 - dense_3_loss: 245.6911 - val_loss: 65.5782 - val_dense_2_loss: 2.5810 - val_dense_3_loss: 210.6923\n",
      "Epoch 27/100\n",
      "7/7 [==============================] - ETA: 0s - loss: 85.1822 - dense_2_loss: 3.3214 - dense_3_loss: 274.3011\n",
      "Epoch 00027: val_loss did not improve from 26.14852\n",
      "7/7 [==============================] - 5s 780ms/step - loss: 85.1822 - dense_2_loss: 3.3214 - dense_3_loss: 274.3011 - val_loss: 43.0549 - val_dense_2_loss: 2.0121 - val_dense_3_loss: 131.9783\n",
      "Epoch 28/100\n",
      "7/7 [==============================] - ETA: 0s - loss: 86.8615 - dense_2_loss: 3.8756 - dense_3_loss: 269.9343\n",
      "Epoch 00028: val_loss did not improve from 26.14852\n",
      "7/7 [==============================] - 5s 788ms/step - loss: 86.8615 - dense_2_loss: 3.8756 - dense_3_loss: 269.9343 - val_loss: 41.4054 - val_dense_2_loss: 3.0383 - val_dense_3_loss: 104.8559\n",
      "Epoch 29/100\n",
      "7/7 [==============================] - ETA: 0s - loss: 80.8054 - dense_2_loss: 3.7251 - dense_3_loss: 248.7196\n",
      "Epoch 00029: val_loss did not improve from 26.14852\n",
      "7/7 [==============================] - 5s 774ms/step - loss: 80.8054 - dense_2_loss: 3.7251 - dense_3_loss: 248.7196 - val_loss: 27.0723 - val_dense_2_loss: 2.3096 - val_dense_3_loss: 62.0980\n",
      "Epoch 30/100\n",
      "7/7 [==============================] - ETA: 0s - loss: 85.5732 - dense_2_loss: 3.7905 - dense_3_loss: 266.4819\n",
      "Epoch 00030: val_loss did not improve from 26.14852\n",
      "7/7 [==============================] - 5s 773ms/step - loss: 85.5732 - dense_2_loss: 3.7905 - dense_3_loss: 266.4819 - val_loss: 33.5133 - val_dense_2_loss: 2.1926 - val_dense_3_loss: 90.2012\n",
      "Epoch 31/100\n",
      "7/7 [==============================] - ETA: 0s - loss: 67.5244 - dense_2_loss: 3.1059 - dense_3_loss: 207.9802\n",
      "Epoch 00031: val_loss did not improve from 26.14852\n",
      "7/7 [==============================] - 5s 779ms/step - loss: 67.5244 - dense_2_loss: 3.1059 - dense_3_loss: 207.9802 - val_loss: 68.6274 - val_dense_2_loss: 1.6254 - val_dense_3_loss: 242.0019\n",
      "Epoch 32/100\n",
      "7/7 [==============================] - ETA: 0s - loss: 76.1559 - dense_2_loss: 2.5095 - dense_3_loss: 254.4344\n",
      "Epoch 00032: val_loss did not improve from 26.14852\n",
      "7/7 [==============================] - 5s 779ms/step - loss: 76.1559 - dense_2_loss: 2.5095 - dense_3_loss: 254.4344 - val_loss: 107.0594 - val_dense_2_loss: 0.9868 - val_dense_3_loss: 408.5013\n",
      "Epoch 33/100\n",
      "7/7 [==============================] - ETA: 0s - loss: 86.6242 - dense_2_loss: 2.0923 - dense_3_loss: 304.6507\n",
      "Epoch 00033: val_loss did not improve from 26.14852\n",
      "7/7 [==============================] - 5s 777ms/step - loss: 86.6242 - dense_2_loss: 2.0923 - dense_3_loss: 304.6507 - val_loss: 55.2264 - val_dense_2_loss: 1.1442 - val_dense_3_loss: 198.0208\n",
      "Epoch 34/100\n",
      "7/7 [==============================] - ETA: 0s - loss: 78.1998 - dense_2_loss: 2.5326 - dense_3_loss: 262.1468\n",
      "Epoch 00034: val_loss improved from 26.14852 to 25.46686, saving model to model.hdf5\n",
      "7/7 [==============================] - 6s 866ms/step - loss: 78.1998 - dense_2_loss: 2.5326 - dense_3_loss: 262.1468 - val_loss: 25.4669 - val_dense_2_loss: 1.0253 - val_dense_3_loss: 81.3610\n",
      "Epoch 35/100\n",
      "7/7 [==============================] - ETA: 0s - loss: 74.0446 - dense_2_loss: 2.0724 - dense_3_loss: 254.7308\n",
      "Epoch 00035: val_loss did not improve from 25.46686\n",
      "7/7 [==============================] - 5s 780ms/step - loss: 74.0446 - dense_2_loss: 2.0724 - dense_3_loss: 254.7308 - val_loss: 30.1745 - val_dense_2_loss: 1.1388 - val_dense_3_loss: 97.9227\n",
      "Epoch 36/100\n",
      "7/7 [==============================] - ETA: 0s - loss: 72.1827 - dense_2_loss: 2.2236 - dense_3_loss: 244.2593\n",
      "Epoch 00036: val_loss improved from 25.46686 to 21.31936, saving model to model.hdf5\n",
      "7/7 [==============================] - 6s 866ms/step - loss: 72.1827 - dense_2_loss: 2.2236 - dense_3_loss: 244.2593 - val_loss: 21.3194 - val_dense_2_loss: 0.9204 - val_dense_3_loss: 66.8694\n",
      "Epoch 37/100\n",
      "7/7 [==============================] - ETA: 0s - loss: 75.9608 - dense_2_loss: 2.2269 - dense_3_loss: 259.3041\n",
      "Epoch 00037: val_loss improved from 21.31936 to 14.05686, saving model to model.hdf5\n",
      "7/7 [==============================] - 6s 871ms/step - loss: 75.9608 - dense_2_loss: 2.2269 - dense_3_loss: 259.3041 - val_loss: 14.0569 - val_dense_2_loss: 0.4799 - val_dense_3_loss: 46.6294\n",
      "Epoch 38/100\n",
      "7/7 [==============================] - ETA: 0s - loss: 61.4447 - dense_2_loss: 1.9603 - dense_3_loss: 206.5733\n",
      "Epoch 00038: val_loss did not improve from 14.05686\n",
      "7/7 [==============================] - 5s 778ms/step - loss: 61.4447 - dense_2_loss: 1.9603 - dense_3_loss: 206.5733 - val_loss: 46.2981 - val_dense_2_loss: 0.4256 - val_dense_3_loss: 176.6798\n",
      "Epoch 39/100\n",
      "7/7 [==============================] - ETA: 0s - loss: 75.3825 - dense_2_loss: 1.5847 - dense_3_loss: 269.8365\n",
      "Epoch 00039: val_loss did not improve from 14.05686\n",
      "7/7 [==============================] - 5s 779ms/step - loss: 75.3825 - dense_2_loss: 1.5847 - dense_3_loss: 269.8365 - val_loss: 67.9079 - val_dense_2_loss: 0.2014 - val_dense_3_loss: 267.6031\n",
      "Epoch 40/100\n",
      "7/7 [==============================] - ETA: 0s - loss: 82.5274 - dense_2_loss: 1.9249 - dense_3_loss: 291.6115\n",
      "Epoch 00040: val_loss did not improve from 14.05686\n",
      "7/7 [==============================] - 5s 777ms/step - loss: 82.5274 - dense_2_loss: 1.9249 - dense_3_loss: 291.6115 - val_loss: 88.4913 - val_dense_2_loss: 0.2057 - val_dense_3_loss: 349.8504\n",
      "Epoch 41/100\n",
      "7/7 [==============================] - ETA: 0s - loss: 72.2027 - dense_2_loss: 1.6300 - dense_3_loss: 256.2108\n",
      "Epoch 00041: val_loss did not improve from 14.05686\n",
      "7/7 [==============================] - 5s 777ms/step - loss: 72.2027 - dense_2_loss: 1.6300 - dense_3_loss: 256.2108 - val_loss: 31.3706 - val_dense_2_loss: 0.4149 - val_dense_3_loss: 117.1852\n",
      "Epoch 42/100\n",
      "7/7 [==============================] - ETA: 0s - loss: 56.8200 - dense_2_loss: 1.2908 - dense_3_loss: 201.4650\n",
      "Epoch 00042: val_loss improved from 14.05686 to 12.39452, saving model to model.hdf5\n",
      "7/7 [==============================] - 6s 867ms/step - loss: 56.8200 - dense_2_loss: 1.2908 - dense_3_loss: 201.4650 - val_loss: 12.3945 - val_dense_2_loss: 0.2275 - val_dense_3_loss: 45.0278\n",
      "Epoch 43/100\n",
      "7/7 [==============================] - ETA: 0s - loss: 54.8080 - dense_2_loss: 1.3085 - dense_3_loss: 193.0622\n",
      "Epoch 00043: val_loss did not improve from 12.39452\n",
      "7/7 [==============================] - 5s 779ms/step - loss: 54.8080 - dense_2_loss: 1.3085 - dense_3_loss: 193.0622 - val_loss: 19.7242 - val_dense_2_loss: 0.2445 - val_dense_3_loss: 74.0063\n",
      "Epoch 44/100\n",
      "7/7 [==============================] - ETA: 0s - loss: 65.1821 - dense_2_loss: 1.1584 - dense_3_loss: 237.5614\n",
      "Epoch 00044: val_loss did not improve from 12.39452\n",
      "7/7 [==============================] - 5s 777ms/step - loss: 65.1821 - dense_2_loss: 1.1584 - dense_3_loss: 237.5614 - val_loss: 14.2192 - val_dense_2_loss: 0.2293 - val_dense_3_loss: 52.2902\n",
      "Epoch 45/100\n",
      "7/7 [==============================] - ETA: 0s - loss: 55.2471 - dense_2_loss: 0.9979 - dense_3_loss: 201.0309\n",
      "Epoch 00045: val_loss did not improve from 12.39452\n",
      "7/7 [==============================] - 5s 778ms/step - loss: 55.2471 - dense_2_loss: 0.9979 - dense_3_loss: 201.0309 - val_loss: 24.8636 - val_dense_2_loss: 0.3607 - val_dense_3_loss: 92.2402\n",
      "Epoch 46/100\n",
      "7/7 [==============================] - ETA: 0s - loss: 69.1083 - dense_2_loss: 1.1610 - dense_3_loss: 253.2124\n",
      "Epoch 00046: val_loss improved from 12.39452 to 11.29982, saving model to model.hdf5\n",
      "7/7 [==============================] - 6s 867ms/step - loss: 69.1083 - dense_2_loss: 1.1610 - dense_3_loss: 253.2124 - val_loss: 11.2998 - val_dense_2_loss: 0.1284 - val_dense_3_loss: 42.6314\n",
      "Epoch 47/100\n",
      "7/7 [==============================] - ETA: 0s - loss: 61.1891 - dense_2_loss: 1.0955 - dense_3_loss: 222.8457\n",
      "Epoch 00047: val_loss did not improve from 11.29982\n",
      "7/7 [==============================] - 6s 795ms/step - loss: 61.1891 - dense_2_loss: 1.0955 - dense_3_loss: 222.8457 - val_loss: 16.8477 - val_dense_2_loss: 0.1275 - val_dense_3_loss: 64.8404\n",
      "Epoch 48/100\n",
      "7/7 [==============================] - ETA: 0s - loss: 61.0640 - dense_2_loss: 0.7091 - dense_3_loss: 230.0732\n",
      "Epoch 00048: val_loss did not improve from 11.29982\n",
      "7/7 [==============================] - 5s 780ms/step - loss: 61.0640 - dense_2_loss: 0.7091 - dense_3_loss: 230.0732 - val_loss: 36.5005 - val_dense_2_loss: 0.1693 - val_dense_3_loss: 142.6163\n",
      "Epoch 49/100\n",
      "7/7 [==============================] - ETA: 0s - loss: 78.3895 - dense_2_loss: 1.1587 - dense_3_loss: 290.3841\n",
      "Epoch 00049: val_loss did not improve from 11.29982\n",
      "7/7 [==============================] - 5s 778ms/step - loss: 78.3895 - dense_2_loss: 1.1587 - dense_3_loss: 290.3841 - val_loss: 18.6841 - val_dense_2_loss: 0.2082 - val_dense_3_loss: 70.5727\n",
      "Epoch 50/100\n",
      "7/7 [==============================] - ETA: 0s - loss: 61.7755 - dense_2_loss: 0.8813 - dense_3_loss: 229.4756\n",
      "Epoch 00050: val_loss did not improve from 11.29982\n",
      "7/7 [==============================] - 5s 778ms/step - loss: 61.7755 - dense_2_loss: 0.8813 - dense_3_loss: 229.4756 - val_loss: 26.4406 - val_dense_2_loss: 0.2065 - val_dense_3_loss: 101.6323\n",
      "Epoch 51/100\n",
      "7/7 [==============================] - ETA: 0s - loss: 84.3380 - dense_2_loss: 1.2239 - dense_3_loss: 312.8732\n",
      "Epoch 00051: val_loss did not improve from 11.29982\n",
      "7/7 [==============================] - 5s 781ms/step - loss: 84.3380 - dense_2_loss: 1.2239 - dense_3_loss: 312.8732 - val_loss: 54.6878 - val_dense_2_loss: 0.2202 - val_dense_3_loss: 214.3476\n",
      "Epoch 52/100\n",
      "7/7 [==============================] - ETA: 0s - loss: 58.8406 - dense_2_loss: 0.6757 - dense_3_loss: 221.8481\n",
      "Epoch 00052: val_loss improved from 11.29982 to 6.91459, saving model to model.hdf5\n",
      "7/7 [==============================] - 6s 867ms/step - loss: 58.8406 - dense_2_loss: 0.6757 - dense_3_loss: 221.8481 - val_loss: 6.9146 - val_dense_2_loss: 0.0927 - val_dense_3_loss: 25.8044\n",
      "Epoch 53/100\n",
      "7/7 [==============================] - ETA: 0s - loss: 47.3387 - dense_2_loss: 0.5931 - dense_3_loss: 177.4923\n",
      "Epoch 00053: val_loss did not improve from 6.91459\n",
      "7/7 [==============================] - 5s 777ms/step - loss: 47.3387 - dense_2_loss: 0.5931 - dense_3_loss: 177.4923 - val_loss: 15.3102 - val_dense_2_loss: 0.1735 - val_dense_3_loss: 57.7704\n",
      "Epoch 54/100\n",
      "7/7 [==============================] - ETA: 0s - loss: 51.4153 - dense_2_loss: 1.2366 - dense_3_loss: 180.9297\n",
      "Epoch 00054: val_loss did not improve from 6.91459\n",
      "7/7 [==============================] - 5s 781ms/step - loss: 51.4153 - dense_2_loss: 1.2366 - dense_3_loss: 180.9297 - val_loss: 12.8994 - val_dense_2_loss: 0.2248 - val_dense_3_loss: 47.1016\n",
      "Epoch 55/100\n",
      "7/7 [==============================] - ETA: 0s - loss: 47.9309 - dense_2_loss: 0.7095 - dense_3_loss: 177.5332\n",
      "Epoch 00055: val_loss did not improve from 6.91459\n",
      "7/7 [==============================] - 5s 778ms/step - loss: 47.9309 - dense_2_loss: 0.7095 - dense_3_loss: 177.5332 - val_loss: 43.2175 - val_dense_2_loss: 0.1554 - val_dense_3_loss: 169.7627\n",
      "Epoch 56/100\n",
      "7/7 [==============================] - ETA: 0s - loss: 50.0551 - dense_2_loss: 0.4654 - dense_3_loss: 190.9117\n",
      "Epoch 00056: val_loss did not improve from 6.91459\n",
      "7/7 [==============================] - 5s 780ms/step - loss: 50.0551 - dense_2_loss: 0.4654 - dense_3_loss: 190.9117 - val_loss: 15.8307 - val_dense_2_loss: 0.0178 - val_dense_3_loss: 62.9667\n",
      "Epoch 57/100\n",
      "7/7 [==============================] - ETA: 0s - loss: 50.8582 - dense_2_loss: 0.4479 - dense_3_loss: 194.4745\n",
      "Epoch 00057: val_loss improved from 6.91459 to 6.81876, saving model to model.hdf5\n",
      "7/7 [==============================] - 6s 920ms/step - loss: 50.8582 - dense_2_loss: 0.4479 - dense_3_loss: 194.4745 - val_loss: 6.8188 - val_dense_2_loss: 0.0222 - val_dense_3_loss: 26.8320\n",
      "Epoch 58/100\n",
      "7/7 [==============================] - ETA: 0s - loss: 47.4040 - dense_2_loss: 0.8723 - dense_3_loss: 172.1709\n",
      "Epoch 00058: val_loss did not improve from 6.81876\n",
      "7/7 [==============================] - 5s 779ms/step - loss: 47.4040 - dense_2_loss: 0.8723 - dense_3_loss: 172.1709 - val_loss: 7.7212 - val_dense_2_loss: 0.1153 - val_dense_3_loss: 28.5784\n",
      "Epoch 59/100\n",
      "7/7 [==============================] - ETA: 0s - loss: 48.6560 - dense_2_loss: 0.6107 - dense_3_loss: 182.4094\n",
      "Epoch 00059: val_loss did not improve from 6.81876\n",
      "7/7 [==============================] - 5s 776ms/step - loss: 48.6560 - dense_2_loss: 0.6107 - dense_3_loss: 182.4094 - val_loss: 15.4956 - val_dense_2_loss: 0.0691 - val_dense_3_loss: 60.6007\n",
      "Epoch 60/100\n",
      "7/7 [==============================] - ETA: 0s - loss: 53.5032 - dense_2_loss: 0.6781 - dense_3_loss: 200.4515\n",
      "Epoch 00060: val_loss did not improve from 6.81876\n",
      "7/7 [==============================] - 5s 777ms/step - loss: 53.5032 - dense_2_loss: 0.6781 - dense_3_loss: 200.4515 - val_loss: 7.6349 - val_dense_2_loss: 0.1536 - val_dense_3_loss: 27.4671\n",
      "Epoch 61/100\n",
      "7/7 [==============================] - ETA: 0s - loss: 47.4025 - dense_2_loss: 0.3569 - dense_3_loss: 182.4725\n",
      "Epoch 00061: val_loss did not improve from 6.81876\n",
      "7/7 [==============================] - 5s 777ms/step - loss: 47.4025 - dense_2_loss: 0.3569 - dense_3_loss: 182.4725 - val_loss: 11.3116 - val_dense_2_loss: 0.0221 - val_dense_3_loss: 44.8047\n",
      "Epoch 62/100\n",
      "7/7 [==============================] - ETA: 0s - loss: 44.3751 - dense_2_loss: 0.4398 - dense_3_loss: 168.7034\n",
      "Epoch 00062: val_loss did not improve from 6.81876\n",
      "7/7 [==============================] - 5s 779ms/step - loss: 44.3751 - dense_2_loss: 0.4398 - dense_3_loss: 168.7034 - val_loss: 11.9243 - val_dense_2_loss: 0.1227 - val_dense_3_loss: 45.2436\n",
      "Epoch 63/100\n",
      "7/7 [==============================] - ETA: 0s - loss: 48.1114 - dense_2_loss: 0.8267 - dense_3_loss: 175.9121\n",
      "Epoch 00063: val_loss did not improve from 6.81876\n",
      "7/7 [==============================] - 5s 779ms/step - loss: 48.1114 - dense_2_loss: 0.8267 - dense_3_loss: 175.9121 - val_loss: 9.4526 - val_dense_2_loss: 0.0256 - val_dense_3_loss: 37.2975\n",
      "Epoch 64/100\n",
      "7/7 [==============================] - ETA: 0s - loss: 40.4871 - dense_2_loss: 0.6545 - dense_3_loss: 148.8595\n",
      "Epoch 00064: val_loss did not improve from 6.81876\n",
      "7/7 [==============================] - 5s 778ms/step - loss: 40.4871 - dense_2_loss: 0.6545 - dense_3_loss: 148.8595 - val_loss: 14.3097 - val_dense_2_loss: 0.0082 - val_dense_3_loss: 57.0752\n",
      "Epoch 65/100\n",
      "7/7 [==============================] - ETA: 0s - loss: 48.9458 - dense_2_loss: 0.5977 - dense_3_loss: 183.8283\n",
      "Epoch 00065: val_loss did not improve from 6.81876\n",
      "7/7 [==============================] - 5s 780ms/step - loss: 48.9458 - dense_2_loss: 0.5977 - dense_3_loss: 183.8283 - val_loss: 12.1816 - val_dense_2_loss: 0.0216 - val_dense_3_loss: 48.2941\n",
      "Epoch 66/100\n",
      "7/7 [==============================] - ETA: 0s - loss: 45.8449 - dense_2_loss: 0.7143 - dense_3_loss: 169.0930\n",
      "Epoch 00066: val_loss did not improve from 6.81876\n",
      "7/7 [==============================] - 5s 780ms/step - loss: 45.8449 - dense_2_loss: 0.7143 - dense_3_loss: 169.0930 - val_loss: 9.5338 - val_dense_2_loss: 0.1291 - val_dense_3_loss: 35.5529\n",
      "Epoch 67/100\n",
      "7/7 [==============================] - ETA: 0s - loss: 41.3030 - dense_2_loss: 0.4998 - dense_3_loss: 155.2153\n",
      "Epoch 00067: val_loss did not improve from 6.81876\n",
      "7/7 [==============================] - 5s 774ms/step - loss: 41.3030 - dense_2_loss: 0.4998 - dense_3_loss: 155.2153 - val_loss: 7.1791 - val_dense_2_loss: 0.0204 - val_dense_3_loss: 28.3078\n",
      "Epoch 68/100\n",
      "7/7 [==============================] - ETA: 0s - loss: 57.3314 - dense_2_loss: 0.5380 - dense_3_loss: 218.5654\n",
      "Epoch 00068: val_loss did not improve from 6.81876\n",
      "7/7 [==============================] - 5s 775ms/step - loss: 57.3314 - dense_2_loss: 0.5380 - dense_3_loss: 218.5654 - val_loss: 15.3450 - val_dense_2_loss: 0.0486 - val_dense_3_loss: 60.4085\n",
      "Epoch 69/100\n",
      "7/7 [==============================] - ETA: 0s - loss: 46.8659 - dense_2_loss: 0.6380 - dense_3_loss: 174.7032\n",
      "Epoch 00069: val_loss did not improve from 6.81876\n",
      "7/7 [==============================] - 5s 781ms/step - loss: 46.8659 - dense_2_loss: 0.6380 - dense_3_loss: 174.7032 - val_loss: 16.9307 - val_dense_2_loss: 0.0037 - val_dense_3_loss: 67.6483\n",
      "Epoch 70/100\n",
      "7/7 [==============================] - ETA: 0s - loss: 48.3318 - dense_2_loss: 0.6326 - dense_3_loss: 180.6756\n",
      "Epoch 00070: val_loss did not improve from 6.81876\n",
      "7/7 [==============================] - 5s 777ms/step - loss: 48.3318 - dense_2_loss: 0.6326 - dense_3_loss: 180.6756 - val_loss: 18.4162 - val_dense_2_loss: 0.0292 - val_dense_3_loss: 73.0805\n",
      "Epoch 71/100\n",
      "7/7 [==============================] - ETA: 0s - loss: 45.0736 - dense_2_loss: 0.8278 - dense_3_loss: 163.7391\n",
      "Epoch 00071: val_loss did not improve from 6.81876\n",
      "7/7 [==============================] - 5s 779ms/step - loss: 45.0736 - dense_2_loss: 0.8278 - dense_3_loss: 163.7391 - val_loss: 12.8438 - val_dense_2_loss: 0.0663 - val_dense_3_loss: 50.0490\n",
      "Epoch 72/100\n",
      "7/7 [==============================] - ETA: 0s - loss: 38.7331 - dense_2_loss: 0.4448 - dense_3_loss: 146.0361\n",
      "Epoch 00072: val_loss did not improve from 6.81876\n",
      "7/7 [==============================] - 5s 780ms/step - loss: 38.7331 - dense_2_loss: 0.4448 - dense_3_loss: 146.0361 - val_loss: 7.0890 - val_dense_2_loss: 0.0016 - val_dense_3_loss: 28.3234\n",
      "Epoch 73/100\n",
      "7/7 [==============================] - ETA: 0s - loss: 39.1383 - dense_2_loss: 0.4863 - dense_3_loss: 146.8262\n",
      "Epoch 00073: val_loss improved from 6.81876 to 5.50084, saving model to model.hdf5\n",
      "7/7 [==============================] - 6s 873ms/step - loss: 39.1383 - dense_2_loss: 0.4863 - dense_3_loss: 146.8262 - val_loss: 5.5008 - val_dense_2_loss: 0.0052 - val_dense_3_loss: 21.8990\n",
      "Epoch 74/100\n",
      "7/7 [==============================] - ETA: 0s - loss: 39.5307 - dense_2_loss: 0.5964 - dense_3_loss: 146.1956\n",
      "Epoch 00074: val_loss improved from 5.50084 to 5.29895, saving model to model.hdf5\n",
      "7/7 [==============================] - 6s 867ms/step - loss: 39.5307 - dense_2_loss: 0.5964 - dense_3_loss: 146.1956 - val_loss: 5.2989 - val_dense_2_loss: 0.0188 - val_dense_3_loss: 20.8193\n",
      "Epoch 75/100\n",
      "7/7 [==============================] - ETA: 0s - loss: 40.6947 - dense_2_loss: 0.2884 - dense_3_loss: 157.0102\n",
      "Epoch 00075: val_loss did not improve from 5.29895\n",
      "7/7 [==============================] - 5s 779ms/step - loss: 40.6947 - dense_2_loss: 0.2884 - dense_3_loss: 157.0102 - val_loss: 23.8996 - val_dense_2_loss: 0.0054 - val_dense_3_loss: 95.4900\n",
      "Epoch 76/100\n",
      "7/7 [==============================] - ETA: 0s - loss: 39.5853 - dense_2_loss: 0.4545 - dense_3_loss: 149.2520\n",
      "Epoch 00076: val_loss did not improve from 5.29895\n",
      "7/7 [==============================] - 5s 778ms/step - loss: 39.5853 - dense_2_loss: 0.4545 - dense_3_loss: 149.2520 - val_loss: 22.0525 - val_dense_2_loss: 1.6663e-04 - val_dense_3_loss: 88.2065\n",
      "Epoch 77/100\n",
      "7/7 [==============================] - ETA: 0s - loss: 47.0739 - dense_2_loss: 0.4861 - dense_3_loss: 178.5729\n",
      "Epoch 00077: val_loss did not improve from 5.29895\n",
      "7/7 [==============================] - 5s 777ms/step - loss: 47.0739 - dense_2_loss: 0.4861 - dense_3_loss: 178.5729 - val_loss: 29.3340 - val_dense_2_loss: 0.0137 - val_dense_3_loss: 117.0613\n",
      "Epoch 78/100\n",
      "7/7 [==============================] - ETA: 0s - loss: 47.3207 - dense_2_loss: 1.0482 - dense_3_loss: 168.3196\n",
      "Epoch 00078: val_loss did not improve from 5.29895\n",
      "7/7 [==============================] - 5s 777ms/step - loss: 47.3207 - dense_2_loss: 1.0482 - dense_3_loss: 168.3196 - val_loss: 11.1653 - val_dense_2_loss: 0.0954 - val_dense_3_loss: 42.7524\n",
      "Epoch 79/100\n",
      "7/7 [==============================] - ETA: 0s - loss: 48.3098 - dense_2_loss: 0.5316 - dense_3_loss: 182.6064\n",
      "Epoch 00079: val_loss did not improve from 5.29895\n",
      "7/7 [==============================] - 5s 778ms/step - loss: 48.3098 - dense_2_loss: 0.5316 - dense_3_loss: 182.6064 - val_loss: 7.4066 - val_dense_2_loss: 5.3356e-04 - val_dense_3_loss: 29.6157\n",
      "Epoch 80/100\n",
      "7/7 [==============================] - ETA: 0s - loss: 52.5323 - dense_2_loss: 0.8330 - dense_3_loss: 193.4688\n",
      "Epoch 00080: val_loss did not improve from 5.29895\n",
      "7/7 [==============================] - 5s 782ms/step - loss: 52.5323 - dense_2_loss: 0.8330 - dense_3_loss: 193.4688 - val_loss: 10.6701 - val_dense_2_loss: 0.0239 - val_dense_3_loss: 42.2023\n",
      "Epoch 81/100\n",
      "7/7 [==============================] - ETA: 0s - loss: 50.5290 - dense_2_loss: 0.2568 - dense_3_loss: 196.9807\n",
      "Epoch 00081: val_loss did not improve from 5.29895\n",
      "7/7 [==============================] - 5s 777ms/step - loss: 50.5290 - dense_2_loss: 0.2568 - dense_3_loss: 196.9807 - val_loss: 32.9073 - val_dense_2_loss: 0.0120 - val_dense_3_loss: 131.3890\n",
      "Epoch 82/100\n",
      "7/7 [==============================] - ETA: 0s - loss: 66.2127 - dense_2_loss: 0.7861 - dense_3_loss: 249.1280\n",
      "Epoch 00082: val_loss did not improve from 5.29895\n",
      "7/7 [==============================] - 5s 779ms/step - loss: 66.2127 - dense_2_loss: 0.7861 - dense_3_loss: 249.1280 - val_loss: 5.6215 - val_dense_2_loss: 0.0054 - val_dense_3_loss: 22.3772\n",
      "Epoch 83/100\n",
      "7/7 [==============================] - ETA: 0s - loss: 42.6750 - dense_2_loss: 0.2954 - dense_3_loss: 164.7918\n",
      "Epoch 00083: val_loss did not improve from 5.29895\n",
      "7/7 [==============================] - 5s 778ms/step - loss: 42.6750 - dense_2_loss: 0.2954 - dense_3_loss: 164.7918 - val_loss: 25.6114 - val_dense_2_loss: 0.0012 - val_dense_3_loss: 102.4209\n",
      "Epoch 84/100\n",
      "7/7 [==============================] - ETA: 0s - loss: 44.2208 - dense_2_loss: 0.2172 - dense_3_loss: 172.5396\n",
      "Epoch 00084: val_loss did not improve from 5.29895\n",
      "7/7 [==============================] - 5s 779ms/step - loss: 44.2208 - dense_2_loss: 0.2172 - dense_3_loss: 172.5396 - val_loss: 51.8474 - val_dense_2_loss: 0.0021 - val_dense_3_loss: 207.3468\n",
      "Epoch 85/100\n",
      "7/7 [==============================] - ETA: 0s - loss: 49.4669 - dense_2_loss: 0.4508 - dense_3_loss: 188.8525\n",
      "Epoch 00085: val_loss did not improve from 5.29895\n",
      "7/7 [==============================] - 5s 775ms/step - loss: 49.4669 - dense_2_loss: 0.4508 - dense_3_loss: 188.8525 - val_loss: 55.9075 - val_dense_2_loss: 2.0507e-04 - val_dense_3_loss: 223.6258\n",
      "Epoch 86/100\n",
      "7/7 [==============================] - ETA: 0s - loss: 43.5130 - dense_2_loss: 0.2093 - dense_3_loss: 169.8663\n",
      "Epoch 00086: val_loss did not improve from 5.29895\n",
      "7/7 [==============================] - 5s 780ms/step - loss: 43.5130 - dense_2_loss: 0.2093 - dense_3_loss: 169.8663 - val_loss: 50.1894 - val_dense_2_loss: 0.0024 - val_dense_3_loss: 200.7092\n",
      "Epoch 87/100\n",
      "7/7 [==============================] - ETA: 0s - loss: 43.9888 - dense_2_loss: 0.7223 - dense_3_loss: 161.5095\n",
      "Epoch 00087: val_loss did not improve from 5.29895\n",
      "7/7 [==============================] - 5s 781ms/step - loss: 43.9888 - dense_2_loss: 0.7223 - dense_3_loss: 161.5095 - val_loss: 33.6809 - val_dense_2_loss: 0.0019 - val_dense_3_loss: 134.6859\n",
      "Epoch 88/100\n",
      "7/7 [==============================] - ETA: 0s - loss: 53.2745 - dense_2_loss: 0.1672 - dense_3_loss: 209.7530\n",
      "Epoch 00088: val_loss did not improve from 5.29895\n",
      "7/7 [==============================] - 5s 780ms/step - loss: 53.2745 - dense_2_loss: 0.1672 - dense_3_loss: 209.7530 - val_loss: 8.0872 - val_dense_2_loss: 3.0053e-04 - val_dense_3_loss: 32.3428\n",
      "Epoch 89/100\n",
      "7/7 [==============================] - ETA: 0s - loss: 38.5425 - dense_2_loss: 0.3229 - dense_3_loss: 147.7120\n",
      "Epoch 00089: val_loss did not improve from 5.29895\n",
      "7/7 [==============================] - 5s 779ms/step - loss: 38.5425 - dense_2_loss: 0.3229 - dense_3_loss: 147.7120 - val_loss: 11.0366 - val_dense_2_loss: 0.0017 - val_dense_3_loss: 44.1115\n",
      "Epoch 90/100\n",
      "7/7 [==============================] - ETA: 0s - loss: 38.7765 - dense_2_loss: 0.3204 - dense_3_loss: 148.6989\n",
      "Epoch 00090: val_loss did not improve from 5.29895\n",
      "7/7 [==============================] - 5s 780ms/step - loss: 38.7765 - dense_2_loss: 0.3204 - dense_3_loss: 148.6989 - val_loss: 8.8882 - val_dense_2_loss: 0.0028 - val_dense_3_loss: 35.4966\n",
      "Epoch 91/100\n",
      "7/7 [==============================] - ETA: 0s - loss: 34.3525 - dense_2_loss: 0.3836 - dense_3_loss: 129.7384\n",
      "Epoch 00091: val_loss did not improve from 5.29895\n",
      "7/7 [==============================] - 5s 780ms/step - loss: 34.3525 - dense_2_loss: 0.3836 - dense_3_loss: 129.7384 - val_loss: 8.6891 - val_dense_2_loss: 0.0303 - val_dense_3_loss: 34.1496\n",
      "Epoch 92/100\n",
      "7/7 [==============================] - ETA: 0s - loss: 44.0588 - dense_2_loss: 0.4017 - dense_3_loss: 168.2011\n",
      "Epoch 00092: val_loss did not improve from 5.29895\n",
      "7/7 [==============================] - 5s 779ms/step - loss: 44.0588 - dense_2_loss: 0.4017 - dense_3_loss: 168.2011 - val_loss: 6.4691 - val_dense_2_loss: 0.0022 - val_dense_3_loss: 25.8316\n",
      "Epoch 93/100\n",
      "7/7 [==============================] - ETA: 0s - loss: 33.8967 - dense_2_loss: 0.2805 - dense_3_loss: 129.9776\n",
      "Epoch 00093: val_loss did not improve from 5.29895\n",
      "7/7 [==============================] - 5s 778ms/step - loss: 33.8967 - dense_2_loss: 0.2805 - dense_3_loss: 129.9776 - val_loss: 10.8321 - val_dense_2_loss: 0.0015 - val_dense_3_loss: 43.2979\n",
      "Epoch 94/100\n",
      "7/7 [==============================] - ETA: 0s - loss: 39.3886 - dense_2_loss: 0.4389 - dense_3_loss: 148.7755\n",
      "Epoch 00094: val_loss did not improve from 5.29895\n",
      "7/7 [==============================] - 5s 778ms/step - loss: 39.3886 - dense_2_loss: 0.4389 - dense_3_loss: 148.7755 - val_loss: 7.0739 - val_dense_2_loss: 0.0027 - val_dense_3_loss: 28.2426\n",
      "Epoch 95/100\n",
      "7/7 [==============================] - ETA: 0s - loss: 34.9486 - dense_2_loss: 0.2166 - dense_3_loss: 135.4621\n",
      "Epoch 00095: val_loss did not improve from 5.29895\n",
      "7/7 [==============================] - 5s 778ms/step - loss: 34.9486 - dense_2_loss: 0.2166 - dense_3_loss: 135.4621 - val_loss: 5.4739 - val_dense_2_loss: 3.6379e-04 - val_dense_3_loss: 21.8883\n",
      "Epoch 96/100\n",
      "7/7 [==============================] - ETA: 0s - loss: 37.1585 - dense_2_loss: 0.3607 - dense_3_loss: 141.4209\n",
      "Epoch 00096: val_loss did not improve from 5.29895\n",
      "7/7 [==============================] - 5s 776ms/step - loss: 37.1585 - dense_2_loss: 0.3607 - dense_3_loss: 141.4209 - val_loss: 13.6087 - val_dense_2_loss: 4.7106e-05 - val_dense_3_loss: 54.4340\n",
      "Epoch 97/100\n",
      "7/7 [==============================] - ETA: 0s - loss: 37.3337 - dense_2_loss: 0.4769 - dense_3_loss: 139.7964\n",
      "Epoch 00097: val_loss did not improve from 5.29895\n",
      "7/7 [==============================] - 5s 780ms/step - loss: 37.3337 - dense_2_loss: 0.4769 - dense_3_loss: 139.7964 - val_loss: 12.3229 - val_dense_2_loss: 0.0044 - val_dense_3_loss: 49.2036\n",
      "Epoch 98/100\n",
      "7/7 [==============================] - ETA: 0s - loss: 52.4930 - dense_2_loss: 0.1594 - dense_3_loss: 206.7840\n",
      "Epoch 00098: val_loss did not improve from 5.29895\n",
      "7/7 [==============================] - 5s 781ms/step - loss: 52.4930 - dense_2_loss: 0.1594 - dense_3_loss: 206.7840 - val_loss: 12.8913 - val_dense_2_loss: 6.7989e-04 - val_dense_3_loss: 51.5515\n",
      "Epoch 99/100\n",
      "7/7 [==============================] - ETA: 0s - loss: 36.3911 - dense_2_loss: 0.4577 - dense_3_loss: 136.4115\n",
      "Epoch 00099: val_loss did not improve from 5.29895\n",
      "7/7 [==============================] - 5s 779ms/step - loss: 36.3911 - dense_2_loss: 0.4577 - dense_3_loss: 136.4115 - val_loss: 11.1620 - val_dense_2_loss: 4.0778e-04 - val_dense_3_loss: 44.6400\n",
      "Epoch 100/100\n",
      "7/7 [==============================] - ETA: 0s - loss: 42.9985 - dense_2_loss: 0.4693 - dense_3_loss: 162.6089\n",
      "Epoch 00100: val_loss did not improve from 5.29895\n",
      "7/7 [==============================] - 5s 777ms/step - loss: 42.9985 - dense_2_loss: 0.4693 - dense_3_loss: 162.6089 - val_loss: 14.4251 - val_dense_2_loss: 0.0620 - val_dense_3_loss: 56.4597\n"
     ]
    }
   ],
   "source": [
    "history = model.fit(\n",
    "    train_x, \n",
    "    [train_y_class, train_y_reg],\n",
    "    validation_data=(valid_x, [valid_y_class, valid_y_reg]),\n",
    "    batch_size = 32, \n",
    "    epochs = 100, \n",
    "    callbacks = [check],\n",
    "    verbose = 1\n",
    ")"
   ]
  },
  {
   "cell_type": "code",
   "execution_count": 20,
   "metadata": {
    "colab": {
     "base_uri": "https://localhost:8080/",
     "height": 596
    },
    "executionInfo": {
     "elapsed": 19,
     "status": "ok",
     "timestamp": 1639990701855,
     "user": {
      "displayName": "faizan shaikh",
      "photoUrl": "https://lh3.googleusercontent.com/a-/AOh14GgqmcbHsEKLXGL6XPL9YhU0LKMr1juc_rciMZsRQA=s64",
      "userId": "07685339115898994855"
     },
     "user_tz": -330
    },
    "id": "BYPeTHbbUQWd",
    "outputId": "ac1062bd-bf8a-42ef-a5f4-d03afb56d1c4"
   },
   "outputs": [
    {
     "data": {
      "image/png": "[encoded data removed]",
      "text/plain": [
       "<Figure size 720x720 with 1 Axes>"
      ]
     },
     "metadata": {
      "needs_background": "light"
     },
     "output_type": "display_data"
    }
   ],
   "source": [
    "plt.figure(figsize=(10, 10))\n",
    "\n",
    "plt.plot(history.history['loss'])\n",
    "plt.plot(history.history['val_loss'])\n",
    "plt.ylim(0, 500)\n",
    "\n",
    "plt.show()"
   ]
  },
  {
   "cell_type": "code",
   "execution_count": 21,
   "metadata": {
    "executionInfo": {
     "elapsed": 17,
     "status": "ok",
     "timestamp": 1639990701857,
     "user": {
      "displayName": "faizan shaikh",
      "photoUrl": "https://lh3.googleusercontent.com/a-/AOh14GgqmcbHsEKLXGL6XPL9YhU0LKMr1juc_rciMZsRQA=s64",
      "userId": "07685339115898994855"
     },
     "user_tz": -330
    },
    "id": "1A4z4tinVRUO"
   },
   "outputs": [],
   "source": [
    "model.load_weights('model.hdf5')"
   ]
  },
  {
   "cell_type": "code",
   "execution_count": 22,
   "metadata": {
    "colab": {
     "base_uri": "https://localhost:8080/"
    },
    "executionInfo": {
     "elapsed": 36,
     "status": "ok",
     "timestamp": 1639990702801,
     "user": {
      "displayName": "faizan shaikh",
      "photoUrl": "https://lh3.googleusercontent.com/a-/AOh14GgqmcbHsEKLXGL6XPL9YhU0LKMr1juc_rciMZsRQA=s64",
      "userId": "07685339115898994855"
     },
     "user_tz": -330
    },
    "id": "ydamZBGDVWXt",
    "outputId": "5f2002e5-1452-4d3b-ac09-6758fa1f606d"
   },
   "outputs": [
    {
     "data": {
      "text/plain": [
       "(array([[9.7643846e-12, 4.0158678e-33, 1.0000000e+00, 2.7231967e-11],\n",
       "        [9.9999976e-01, 4.9183102e-13, 6.4737492e-08, 1.4623420e-07],\n",
       "        [1.7389263e-16, 1.0000000e+00, 1.9013007e-26, 2.3372250e-12],\n",
       "        [9.9999893e-01, 2.3665814e-09, 1.1232881e-06, 1.4758951e-10],\n",
       "        [9.9997163e-01, 1.2321541e-10, 2.8342576e-05, 2.8720276e-10]],\n",
       "       dtype=float32), array([[212.74702 , 142.8202  ],\n",
       "        [202.27634 ,  22.56296 ],\n",
       "        [144.26714 , 195.12964 ],\n",
       "        [126.380325, 123.83264 ],\n",
       "        [ 75.64244 ,  75.30838 ]], dtype=float32))"
      ]
     },
     "execution_count": 22,
     "metadata": {},
     "output_type": "execute_result"
    }
   ],
   "source": [
    "pred_class, pred_reg = model.predict(valid_x)\n",
    "pred_class[:5], pred_reg[:5]"
   ]
  },
  {
   "cell_type": "code",
   "execution_count": 24,
   "metadata": {
    "colab": {
     "base_uri": "https://localhost:8080/"
    },
    "executionInfo": {
     "elapsed": 33,
     "status": "ok",
     "timestamp": 1639990702803,
     "user": {
      "displayName": "faizan shaikh",
      "photoUrl": "https://lh3.googleusercontent.com/a-/AOh14GgqmcbHsEKLXGL6XPL9YhU0LKMr1juc_rciMZsRQA=s64",
      "userId": "07685339115898994855"
     },
     "user_tz": -330
    },
    "id": "ScH2_IPaVe5e",
    "outputId": "b2168a3f-3288-438e-d65f-2c25664aee0b"
   },
   "outputs": [
    {
     "data": {
      "text/plain": [
       "(212, 142)"
      ]
     },
     "execution_count": 24,
     "metadata": {},
     "output_type": "execute_result"
    }
   ],
   "source": [
    "xcenter, ycenter = pred_reg[0].astype(int).clip(0)\n",
    "xcenter, ycenter"
   ]
  },
  {
   "cell_type": "code",
   "execution_count": 23,
   "metadata": {
    "colab": {
     "base_uri": "https://localhost:8080/"
    },
    "executionInfo": {
     "elapsed": 35,
     "status": "ok",
     "timestamp": 1639990702802,
     "user": {
      "displayName": "faizan shaikh",
      "photoUrl": "https://lh3.googleusercontent.com/a-/AOh14GgqmcbHsEKLXGL6XPL9YhU0LKMr1juc_rciMZsRQA=s64",
      "userId": "07685339115898994855"
     },
     "user_tz": -330
    },
    "id": "rkr9h7CfVX3N",
    "outputId": "ac838c29-b5f0-44bc-9eaa-d1b358dd9145"
   },
   "outputs": [
    {
     "data": {
      "text/plain": [
       "array([9.7643846e-12, 4.0158678e-33, 1.0000000e+00, 2.7231967e-11],\n",
       "      dtype=float32)"
      ]
     },
     "execution_count": 23,
     "metadata": {},
     "output_type": "execute_result"
    }
   ],
   "source": [
    "pred_class[:5]"
   ]
  },
  {
   "cell_type": "code",
   "execution_count": 25,
   "metadata": {
    "colab": {
     "base_uri": "https://localhost:8080/",
     "height": 36
    },
    "executionInfo": {
     "elapsed": 29,
     "status": "ok",
     "timestamp": 1639990702803,
     "user": {
      "displayName": "faizan shaikh",
      "photoUrl": "https://lh3.googleusercontent.com/a-/AOh14GgqmcbHsEKLXGL6XPL9YhU0LKMr1juc_rciMZsRQA=s64",
      "userId": "07685339115898994855"
     },
     "user_tz": -330
    },
    "id": "R60Dh6HVB-F_",
    "outputId": "36db17d9-6c41-445e-e2cb-2b8e3ab02725"
   },
   "outputs": [
    {
     "data": {
      "application/vnd.google.colaboratory.intrinsic+json": {
       "type": "string"
      },
      "text/plain": [
       "'blackQueen'"
      ]
     },
     "execution_count": 25,
     "metadata": {},
     "output_type": "execute_result"
    }
   ],
   "source": [
    "label_to_class_names[np.argmax(pred_class[0])]"
   ]
  },
  {
   "cell_type": "code",
   "execution_count": 26,
   "metadata": {
    "colab": {
     "base_uri": "https://localhost:8080/",
     "height": 270
    },
    "executionInfo": {
     "elapsed": 28,
     "status": "ok",
     "timestamp": 1639990702804,
     "user": {
      "displayName": "faizan shaikh",
      "photoUrl": "https://lh3.googleusercontent.com/a-/AOh14GgqmcbHsEKLXGL6XPL9YhU0LKMr1juc_rciMZsRQA=s64",
      "userId": "07685339115898994855"
     },
     "user_tz": -330
    },
    "id": "D7Z6n_kwVpMu",
    "outputId": "06eacd6b-9090-48bf-d46e-3d6788cdcc6b"
   },
   "outputs": [
    {
     "data": {
      "image/png": "[encoded data removed]",
      "text/plain": [
       "<Figure size 432x288 with 1 Axes>"
      ]
     },
     "metadata": {},
     "output_type": "display_data"
    },
    {
     "name": "stdout",
     "output_type": "stream",
     "text": [
      "Label is whiteQueen\n"
     ]
    }
   ],
   "source": [
    "idx = np.random.randint(valid_x.shape[0])\n",
    "\n",
    "fig, ax = plt.subplots()\n",
    "\n",
    "ax.imshow(valid_x[idx])\n",
    "xcenter, ycenter = pred_reg[idx].astype(int).clip(0)\n",
    "rect = patches.Rectangle((xcenter - 26/2, ycenter - 26/2), 26, 26, linewidth=1, edgecolor='b', facecolor='none')\n",
    "ax.add_patch(rect)\n",
    "\n",
    "ax.set_xticks([])\n",
    "ax.set_yticks([])\n",
    "\n",
    "plt.show()\n",
    "print('Label is', label_to_class_names[np.argmax(pred_class[idx])])"
   ]
  },
  {
   "cell_type": "code",
   "execution_count": null,
   "metadata": {
    "id": "gIsWtFQei9_G"
   },
   "outputs": [],
   "source": []
  },
  {
   "cell_type": "code",
   "execution_count": 27,
   "metadata": {
    "colab": {
     "base_uri": "https://localhost:8080/"
    },
    "executionInfo": {
     "elapsed": 26,
     "status": "ok",
     "timestamp": 1639990702804,
     "user": {
      "displayName": "faizan shaikh",
      "photoUrl": "https://lh3.googleusercontent.com/a-/AOh14GgqmcbHsEKLXGL6XPL9YhU0LKMr1juc_rciMZsRQA=s64",
      "userId": "07685339115898994855"
     },
     "user_tz": -330
    },
    "id": "p68za8Mcul01",
    "outputId": "d3011f8f-1704-49e8-bebf-628497cf4227"
   },
   "outputs": [
    {
     "data": {
      "text/plain": [
       "array([2, 0, 1, 0, 0, 3, 3, 2, 3, 1, 1, 1, 2, 0, 3, 0, 1, 2, 1, 2, 1, 0,\n",
       "       2, 3, 3, 0, 2, 1, 2, 0, 0, 0, 1, 2, 3, 3, 3, 3, 2, 3, 2, 1, 3, 3,\n",
       "       2, 1, 1, 0, 0, 2, 1, 0])"
      ]
     },
     "execution_count": 27,
     "metadata": {},
     "output_type": "execute_result"
    }
   ],
   "source": [
    "y_true = valid_y_class.argmax(axis=1)\n",
    "y_true"
   ]
  },
  {
   "cell_type": "code",
   "execution_count": 28,
   "metadata": {
    "colab": {
     "base_uri": "https://localhost:8080/"
    },
    "executionInfo": {
     "elapsed": 25,
     "status": "ok",
     "timestamp": 1639990702805,
     "user": {
      "displayName": "faizan shaikh",
      "photoUrl": "https://lh3.googleusercontent.com/a-/AOh14GgqmcbHsEKLXGL6XPL9YhU0LKMr1juc_rciMZsRQA=s64",
      "userId": "07685339115898994855"
     },
     "user_tz": -330
    },
    "id": "avWv6U-yun69",
    "outputId": "dfb5ca5c-6c2b-4d78-b275-980d5cf1934c"
   },
   "outputs": [
    {
     "data": {
      "text/plain": [
       "array([2, 0, 1, 0, 0, 3, 3, 2, 3, 1, 1, 1, 2, 0, 3, 0, 1, 2, 1, 2, 1, 0,\n",
       "       2, 3, 0, 0, 2, 1, 2, 0, 0, 0, 1, 2, 3, 3, 3, 3, 2, 3, 2, 1, 3, 3,\n",
       "       2, 1, 1, 0, 0, 2, 1, 0])"
      ]
     },
     "execution_count": 28,
     "metadata": {},
     "output_type": "execute_result"
    }
   ],
   "source": [
    "y_pred = pred_class.argmax(axis=1)\n",
    "y_pred"
   ]
  },
  {
   "cell_type": "code",
   "execution_count": 29,
   "metadata": {
    "colab": {
     "base_uri": "https://localhost:8080/"
    },
    "executionInfo": {
     "elapsed": 22,
     "status": "ok",
     "timestamp": 1639990702805,
     "user": {
      "displayName": "faizan shaikh",
      "photoUrl": "https://lh3.googleusercontent.com/a-/AOh14GgqmcbHsEKLXGL6XPL9YhU0LKMr1juc_rciMZsRQA=s64",
      "userId": "07685339115898994855"
     },
     "user_tz": -330
    },
    "id": "P1KBqomzu0Lu",
    "outputId": "ab6e9eb6-10ff-40f2-9669-46f00b6577bd"
   },
   "outputs": [
    {
     "data": {
      "text/plain": [
       "0.9807692307692307"
      ]
     },
     "execution_count": 29,
     "metadata": {},
     "output_type": "execute_result"
    }
   ],
   "source": [
    "accuracy_score(y_true, y_pred)"
   ]
  },
  {
   "cell_type": "code",
   "execution_count": 30,
   "metadata": {
    "colab": {
     "base_uri": "https://localhost:8080/"
    },
    "executionInfo": {
     "elapsed": 21,
     "status": "ok",
     "timestamp": 1639990702806,
     "user": {
      "displayName": "faizan shaikh",
      "photoUrl": "https://lh3.googleusercontent.com/a-/AOh14GgqmcbHsEKLXGL6XPL9YhU0LKMr1juc_rciMZsRQA=s64",
      "userId": "07685339115898994855"
     },
     "user_tz": -330
    },
    "id": "qf-OmxKhu65e",
    "outputId": "10931ad5-ee2f-46ae-c520-c45441a7536b"
   },
   "outputs": [
    {
     "data": {
      "text/plain": [
       "array([[13,  0,  0,  0],\n",
       "       [ 0, 13,  0,  0],\n",
       "       [ 0,  0, 13,  0],\n",
       "       [ 1,  0,  0, 12]])"
      ]
     },
     "execution_count": 30,
     "metadata": {},
     "output_type": "execute_result"
    }
   ],
   "source": [
    "confusion_matrix(y_true, y_pred)"
   ]
  },
  {
   "cell_type": "code",
   "execution_count": 33,
   "metadata": {
    "colab": {
     "base_uri": "https://localhost:8080/"
    },
    "executionInfo": {
     "elapsed": 362,
     "status": "ok",
     "timestamp": 1639990833944,
     "user": {
      "displayName": "faizan shaikh",
      "photoUrl": "https://lh3.googleusercontent.com/a-/AOh14GgqmcbHsEKLXGL6XPL9YhU0LKMr1juc_rciMZsRQA=s64",
      "userId": "07685339115898994855"
     },
     "user_tz": -330
    },
    "id": "cbPDnRmwxzXX",
    "outputId": "c15fa536-2c8f-40a9-fa56-4e6d0add4abe"
   },
   "outputs": [
    {
     "data": {
      "text/plain": [
       "0.9821428571428571"
      ]
     },
     "execution_count": 33,
     "metadata": {},
     "output_type": "execute_result"
    }
   ],
   "source": [
    "precision_score(y_true, y_pred, average='weighted')"
   ]
  },
  {
   "cell_type": "code",
   "execution_count": 34,
   "metadata": {
    "colab": {
     "base_uri": "https://localhost:8080/"
    },
    "executionInfo": {
     "elapsed": 4,
     "status": "ok",
     "timestamp": 1639990844228,
     "user": {
      "displayName": "faizan shaikh",
      "photoUrl": "https://lh3.googleusercontent.com/a-/AOh14GgqmcbHsEKLXGL6XPL9YhU0LKMr1juc_rciMZsRQA=s64",
      "userId": "07685339115898994855"
     },
     "user_tz": -330
    },
    "id": "DUsy08acEdoT",
    "outputId": "ddccc256-4c5a-4303-84d3-94ccb3590da0"
   },
   "outputs": [
    {
     "data": {
      "text/plain": [
       "0.9807692307692307"
      ]
     },
     "execution_count": 34,
     "metadata": {},
     "output_type": "execute_result"
    }
   ],
   "source": [
    "recall_score(y_true, y_pred, average='weighted')"
   ]
  },
  {
   "cell_type": "code",
   "execution_count": null,
   "metadata": {
    "id": "Bh4pQLg5Elf7"
   },
   "outputs": [],
   "source": []
  }
 ],
 "metadata": {
  "accelerator": "GPU",
  "colab": {
   "authorship_tag": "ABX9TyP0RmzHkypuEaVOLGJQwkAy",
   "collapsed_sections": [],
   "name": "1.2 train_vgg16.ipynb",
   "provenance": []
  },
  "kernelspec": {
   "display_name": "Python 3",
   "language": "python",
   "name": "python3"
  },
  "language_info": {
   "codemirror_mode": {
    "name": "ipython",
    "version": 3
   },
   "file_extension": ".py",
   "mimetype": "text/x-python",
   "name": "python",
   "nbconvert_exporter": "python",
   "pygments_lexer": "ipython3",
   "version": "3.8.8"
  }
 },
 "nbformat": 4,
 "nbformat_minor": 4
}
