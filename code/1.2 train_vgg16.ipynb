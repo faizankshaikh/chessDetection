{
  "cells": [
    {
      "cell_type": "markdown",
      "metadata": {
        "id": "view-in-github",
        "colab_type": "text"
      },
      "source": [
        "<a href=\"https://colab.research.google.com/github/faizankshaikh/chessDetection/blob/main/code/1.2%20train_vgg16.ipynb\" target=\"_parent\"><img src=\"https://colab.research.google.com/assets/colab-badge.svg\" alt=\"Open In Colab\"/></a>"
      ]
    },
    {
      "cell_type": "code",
      "execution_count": 1,
      "metadata": {
        "id": "mUjB-j1Gydmm"
      },
      "outputs": [],
      "source": [
        "# import libraries and modules\n",
        "import os\n",
        "import numpy as np\n",
        "import pandas as pd\n",
        "import tensorflow as tf\n",
        "import matplotlib.pyplot as plt\n",
        "import matplotlib.patches as patches\n",
        "\n",
        "from pathlib import Path\n",
        "from sklearn.metrics import accuracy_score, confusion_matrix, precision_score, recall_score\n",
        "\n",
        "from tensorflow.keras import Model\n",
        "from tensorflow.keras.applications import VGG16\n",
        "from tensorflow.keras.layers import Input, GlobalMaxPool2D, Dense, Dropout\n",
        "\n",
        "from tensorflow.keras.optimizers import Adam\n",
        "from tensorflow.keras.callbacks import ModelCheckpoint"
      ]
    },
    {
      "cell_type": "code",
      "execution_count": null,
      "metadata": {
        "colab": {
          "base_uri": "https://localhost:8080/"
        },
        "id": "6wcOidi-0nLt",
        "outputId": "28ca1632-0686-466d-f42a-1efb957585a3"
      },
      "outputs": [
        {
          "name": "stdout",
          "output_type": "stream",
          "text": [
            "Mounted at /content/drive\n"
          ]
        }
      ],
      "source": [
        "# mount google drive\n",
        "from google.colab import drive\n",
        "drive.mount('/content/drive')"
      ]
    },
    {
      "cell_type": "code",
      "execution_count": 2,
      "metadata": {
        "id": "5sIY3Fqo0xb8"
      },
      "outputs": [],
      "source": [
        "# define data dir\n",
        "data_dir = Path('/content/drive/MyDrive/MAID/502 CI/project/data')"
      ]
    },
    {
      "cell_type": "code",
      "execution_count": 3,
      "metadata": {
        "colab": {
          "base_uri": "https://localhost:8080/",
          "height": 206
        },
        "id": "G0frdsH5J-sQ",
        "outputId": "0d271df1-5c78-4edd-c0ee-192a1b19d0ec"
      },
      "outputs": [
        {
          "output_type": "execute_result",
          "data": {
            "text/html": [
              "\n",
              "  <div id=\"df-1a9b4c72-ad07-464d-86a5-467f548bd56c\">\n",
              "    <div class=\"colab-df-container\">\n",
              "      <div>\n",
              "<style scoped>\n",
              "    .dataframe tbody tr th:only-of-type {\n",
              "        vertical-align: middle;\n",
              "    }\n",
              "\n",
              "    .dataframe tbody tr th {\n",
              "        vertical-align: top;\n",
              "    }\n",
              "\n",
              "    .dataframe thead th {\n",
              "        text-align: right;\n",
              "    }\n",
              "</style>\n",
              "<table border=\"1\" class=\"dataframe\">\n",
              "  <thead>\n",
              "    <tr style=\"text-align: right;\">\n",
              "      <th></th>\n",
              "      <th>filename</th>\n",
              "      <th>label</th>\n",
              "      <th>xcenter</th>\n",
              "      <th>ycenter</th>\n",
              "      <th>width</th>\n",
              "      <th>height</th>\n",
              "    </tr>\n",
              "  </thead>\n",
              "  <tbody>\n",
              "    <tr>\n",
              "      <th>0</th>\n",
              "      <td>image_1h3.png</td>\n",
              "      <td>whiteKing</td>\n",
              "      <td>203</td>\n",
              "      <td>151</td>\n",
              "      <td>26</td>\n",
              "      <td>26</td>\n",
              "    </tr>\n",
              "    <tr>\n",
              "      <th>1</th>\n",
              "      <td>image_2h4.png</td>\n",
              "      <td>blackQueen</td>\n",
              "      <td>203</td>\n",
              "      <td>125</td>\n",
              "      <td>26</td>\n",
              "      <td>26</td>\n",
              "    </tr>\n",
              "    <tr>\n",
              "      <th>2</th>\n",
              "      <td>image_1a5.png</td>\n",
              "      <td>whiteKing</td>\n",
              "      <td>21</td>\n",
              "      <td>99</td>\n",
              "      <td>26</td>\n",
              "      <td>26</td>\n",
              "    </tr>\n",
              "    <tr>\n",
              "      <th>3</th>\n",
              "      <td>image_3g2.png</td>\n",
              "      <td>whiteQueen</td>\n",
              "      <td>177</td>\n",
              "      <td>177</td>\n",
              "      <td>26</td>\n",
              "      <td>26</td>\n",
              "    </tr>\n",
              "    <tr>\n",
              "      <th>4</th>\n",
              "      <td>image_1f4.png</td>\n",
              "      <td>whiteKing</td>\n",
              "      <td>151</td>\n",
              "      <td>125</td>\n",
              "      <td>26</td>\n",
              "      <td>26</td>\n",
              "    </tr>\n",
              "  </tbody>\n",
              "</table>\n",
              "</div>\n",
              "      <button class=\"colab-df-convert\" onclick=\"convertToInteractive('df-1a9b4c72-ad07-464d-86a5-467f548bd56c')\"\n",
              "              title=\"Convert this dataframe to an interactive table.\"\n",
              "              style=\"display:none;\">\n",
              "        \n",
              "  <svg xmlns=\"http://www.w3.org/2000/svg\" height=\"24px\"viewBox=\"0 0 24 24\"\n",
              "       width=\"24px\">\n",
              "    <path d=\"M0 0h24v24H0V0z\" fill=\"none\"/>\n",
              "    <path d=\"M18.56 5.44l.94 2.06.94-2.06 2.06-.94-2.06-.94-.94-2.06-.94 2.06-2.06.94zm-11 1L8.5 8.5l.94-2.06 2.06-.94-2.06-.94L8.5 2.5l-.94 2.06-2.06.94zm10 10l.94 2.06.94-2.06 2.06-.94-2.06-.94-.94-2.06-.94 2.06-2.06.94z\"/><path d=\"M17.41 7.96l-1.37-1.37c-.4-.4-.92-.59-1.43-.59-.52 0-1.04.2-1.43.59L10.3 9.45l-7.72 7.72c-.78.78-.78 2.05 0 2.83L4 21.41c.39.39.9.59 1.41.59.51 0 1.02-.2 1.41-.59l7.78-7.78 2.81-2.81c.8-.78.8-2.07 0-2.86zM5.41 20L4 18.59l7.72-7.72 1.47 1.35L5.41 20z\"/>\n",
              "  </svg>\n",
              "      </button>\n",
              "      \n",
              "  <style>\n",
              "    .colab-df-container {\n",
              "      display:flex;\n",
              "      flex-wrap:wrap;\n",
              "      gap: 12px;\n",
              "    }\n",
              "\n",
              "    .colab-df-convert {\n",
              "      background-color: #E8F0FE;\n",
              "      border: none;\n",
              "      border-radius: 50%;\n",
              "      cursor: pointer;\n",
              "      display: none;\n",
              "      fill: #1967D2;\n",
              "      height: 32px;\n",
              "      padding: 0 0 0 0;\n",
              "      width: 32px;\n",
              "    }\n",
              "\n",
              "    .colab-df-convert:hover {\n",
              "      background-color: #E2EBFA;\n",
              "      box-shadow: 0px 1px 2px rgba(60, 64, 67, 0.3), 0px 1px 3px 1px rgba(60, 64, 67, 0.15);\n",
              "      fill: #174EA6;\n",
              "    }\n",
              "\n",
              "    [theme=dark] .colab-df-convert {\n",
              "      background-color: #3B4455;\n",
              "      fill: #D2E3FC;\n",
              "    }\n",
              "\n",
              "    [theme=dark] .colab-df-convert:hover {\n",
              "      background-color: #434B5C;\n",
              "      box-shadow: 0px 1px 3px 1px rgba(0, 0, 0, 0.15);\n",
              "      filter: drop-shadow(0px 1px 2px rgba(0, 0, 0, 0.3));\n",
              "      fill: #FFFFFF;\n",
              "    }\n",
              "  </style>\n",
              "\n",
              "      <script>\n",
              "        const buttonEl =\n",
              "          document.querySelector('#df-1a9b4c72-ad07-464d-86a5-467f548bd56c button.colab-df-convert');\n",
              "        buttonEl.style.display =\n",
              "          google.colab.kernel.accessAllowed ? 'block' : 'none';\n",
              "\n",
              "        async function convertToInteractive(key) {\n",
              "          const element = document.querySelector('#df-1a9b4c72-ad07-464d-86a5-467f548bd56c');\n",
              "          const dataTable =\n",
              "            await google.colab.kernel.invokeFunction('convertToInteractive',\n",
              "                                                     [key], {});\n",
              "          if (!dataTable) return;\n",
              "\n",
              "          const docLinkHtml = 'Like what you see? Visit the ' +\n",
              "            '<a target=\"_blank\" href=https://colab.research.google.com/notebooks/data_table.ipynb>data table notebook</a>'\n",
              "            + ' to learn more about interactive tables.';\n",
              "          element.innerHTML = '';\n",
              "          dataTable['output_type'] = 'display_data';\n",
              "          await google.colab.output.renderOutput(dataTable, element);\n",
              "          const docLink = document.createElement('div');\n",
              "          docLink.innerHTML = docLinkHtml;\n",
              "          element.appendChild(docLink);\n",
              "        }\n",
              "      </script>\n",
              "    </div>\n",
              "  </div>\n",
              "  "
            ],
            "text/plain": [
              "        filename       label  xcenter  ycenter  width  height\n",
              "0  image_1h3.png   whiteKing      203      151     26      26\n",
              "1  image_2h4.png  blackQueen      203      125     26      26\n",
              "2  image_1a5.png   whiteKing       21       99     26      26\n",
              "3  image_3g2.png  whiteQueen      177      177     26      26\n",
              "4  image_1f4.png   whiteKing      151      125     26      26"
            ]
          },
          "metadata": {},
          "execution_count": 3
        }
      ],
      "source": [
        "# load training metadata\n",
        "train_data = pd.read_csv(data_dir / 'train' / 'annot_csv' / 'train.csv')\n",
        "train_data.head()"
      ]
    },
    {
      "cell_type": "code",
      "execution_count": 4,
      "metadata": {
        "colab": {
          "base_uri": "https://localhost:8080/",
          "height": 206
        },
        "id": "Fi4ErU45KNwb",
        "outputId": "52ef255b-6166-4df9-ffa7-a9b6b2ca25aa"
      },
      "outputs": [
        {
          "output_type": "execute_result",
          "data": {
            "text/html": [
              "\n",
              "  <div id=\"df-9e563914-9277-483b-af45-ad75fe2be586\">\n",
              "    <div class=\"colab-df-container\">\n",
              "      <div>\n",
              "<style scoped>\n",
              "    .dataframe tbody tr th:only-of-type {\n",
              "        vertical-align: middle;\n",
              "    }\n",
              "\n",
              "    .dataframe tbody tr th {\n",
              "        vertical-align: top;\n",
              "    }\n",
              "\n",
              "    .dataframe thead th {\n",
              "        text-align: right;\n",
              "    }\n",
              "</style>\n",
              "<table border=\"1\" class=\"dataframe\">\n",
              "  <thead>\n",
              "    <tr style=\"text-align: right;\">\n",
              "      <th></th>\n",
              "      <th>filename</th>\n",
              "      <th>label</th>\n",
              "      <th>xcenter</th>\n",
              "      <th>ycenter</th>\n",
              "      <th>width</th>\n",
              "      <th>height</th>\n",
              "    </tr>\n",
              "  </thead>\n",
              "  <tbody>\n",
              "    <tr>\n",
              "      <th>0</th>\n",
              "      <td>image_2h3.png</td>\n",
              "      <td>blackQueen</td>\n",
              "      <td>203</td>\n",
              "      <td>151</td>\n",
              "      <td>26</td>\n",
              "      <td>26</td>\n",
              "    </tr>\n",
              "    <tr>\n",
              "      <th>1</th>\n",
              "      <td>image_0h8.png</td>\n",
              "      <td>blackKing</td>\n",
              "      <td>203</td>\n",
              "      <td>21</td>\n",
              "      <td>26</td>\n",
              "      <td>26</td>\n",
              "    </tr>\n",
              "    <tr>\n",
              "      <th>2</th>\n",
              "      <td>image_1f1.png</td>\n",
              "      <td>whiteKing</td>\n",
              "      <td>151</td>\n",
              "      <td>203</td>\n",
              "      <td>26</td>\n",
              "      <td>26</td>\n",
              "    </tr>\n",
              "    <tr>\n",
              "      <th>3</th>\n",
              "      <td>image_0e4.png</td>\n",
              "      <td>blackKing</td>\n",
              "      <td>125</td>\n",
              "      <td>125</td>\n",
              "      <td>26</td>\n",
              "      <td>26</td>\n",
              "    </tr>\n",
              "    <tr>\n",
              "      <th>4</th>\n",
              "      <td>image_0c6.png</td>\n",
              "      <td>blackKing</td>\n",
              "      <td>73</td>\n",
              "      <td>73</td>\n",
              "      <td>26</td>\n",
              "      <td>26</td>\n",
              "    </tr>\n",
              "  </tbody>\n",
              "</table>\n",
              "</div>\n",
              "      <button class=\"colab-df-convert\" onclick=\"convertToInteractive('df-9e563914-9277-483b-af45-ad75fe2be586')\"\n",
              "              title=\"Convert this dataframe to an interactive table.\"\n",
              "              style=\"display:none;\">\n",
              "        \n",
              "  <svg xmlns=\"http://www.w3.org/2000/svg\" height=\"24px\"viewBox=\"0 0 24 24\"\n",
              "       width=\"24px\">\n",
              "    <path d=\"M0 0h24v24H0V0z\" fill=\"none\"/>\n",
              "    <path d=\"M18.56 5.44l.94 2.06.94-2.06 2.06-.94-2.06-.94-.94-2.06-.94 2.06-2.06.94zm-11 1L8.5 8.5l.94-2.06 2.06-.94-2.06-.94L8.5 2.5l-.94 2.06-2.06.94zm10 10l.94 2.06.94-2.06 2.06-.94-2.06-.94-.94-2.06-.94 2.06-2.06.94z\"/><path d=\"M17.41 7.96l-1.37-1.37c-.4-.4-.92-.59-1.43-.59-.52 0-1.04.2-1.43.59L10.3 9.45l-7.72 7.72c-.78.78-.78 2.05 0 2.83L4 21.41c.39.39.9.59 1.41.59.51 0 1.02-.2 1.41-.59l7.78-7.78 2.81-2.81c.8-.78.8-2.07 0-2.86zM5.41 20L4 18.59l7.72-7.72 1.47 1.35L5.41 20z\"/>\n",
              "  </svg>\n",
              "      </button>\n",
              "      \n",
              "  <style>\n",
              "    .colab-df-container {\n",
              "      display:flex;\n",
              "      flex-wrap:wrap;\n",
              "      gap: 12px;\n",
              "    }\n",
              "\n",
              "    .colab-df-convert {\n",
              "      background-color: #E8F0FE;\n",
              "      border: none;\n",
              "      border-radius: 50%;\n",
              "      cursor: pointer;\n",
              "      display: none;\n",
              "      fill: #1967D2;\n",
              "      height: 32px;\n",
              "      padding: 0 0 0 0;\n",
              "      width: 32px;\n",
              "    }\n",
              "\n",
              "    .colab-df-convert:hover {\n",
              "      background-color: #E2EBFA;\n",
              "      box-shadow: 0px 1px 2px rgba(60, 64, 67, 0.3), 0px 1px 3px 1px rgba(60, 64, 67, 0.15);\n",
              "      fill: #174EA6;\n",
              "    }\n",
              "\n",
              "    [theme=dark] .colab-df-convert {\n",
              "      background-color: #3B4455;\n",
              "      fill: #D2E3FC;\n",
              "    }\n",
              "\n",
              "    [theme=dark] .colab-df-convert:hover {\n",
              "      background-color: #434B5C;\n",
              "      box-shadow: 0px 1px 3px 1px rgba(0, 0, 0, 0.15);\n",
              "      filter: drop-shadow(0px 1px 2px rgba(0, 0, 0, 0.3));\n",
              "      fill: #FFFFFF;\n",
              "    }\n",
              "  </style>\n",
              "\n",
              "      <script>\n",
              "        const buttonEl =\n",
              "          document.querySelector('#df-9e563914-9277-483b-af45-ad75fe2be586 button.colab-df-convert');\n",
              "        buttonEl.style.display =\n",
              "          google.colab.kernel.accessAllowed ? 'block' : 'none';\n",
              "\n",
              "        async function convertToInteractive(key) {\n",
              "          const element = document.querySelector('#df-9e563914-9277-483b-af45-ad75fe2be586');\n",
              "          const dataTable =\n",
              "            await google.colab.kernel.invokeFunction('convertToInteractive',\n",
              "                                                     [key], {});\n",
              "          if (!dataTable) return;\n",
              "\n",
              "          const docLinkHtml = 'Like what you see? Visit the ' +\n",
              "            '<a target=\"_blank\" href=https://colab.research.google.com/notebooks/data_table.ipynb>data table notebook</a>'\n",
              "            + ' to learn more about interactive tables.';\n",
              "          element.innerHTML = '';\n",
              "          dataTable['output_type'] = 'display_data';\n",
              "          await google.colab.output.renderOutput(dataTable, element);\n",
              "          const docLink = document.createElement('div');\n",
              "          docLink.innerHTML = docLinkHtml;\n",
              "          element.appendChild(docLink);\n",
              "        }\n",
              "      </script>\n",
              "    </div>\n",
              "  </div>\n",
              "  "
            ],
            "text/plain": [
              "        filename       label  xcenter  ycenter  width  height\n",
              "0  image_2h3.png  blackQueen      203      151     26      26\n",
              "1  image_0h8.png   blackKing      203       21     26      26\n",
              "2  image_1f1.png   whiteKing      151      203     26      26\n",
              "3  image_0e4.png   blackKing      125      125     26      26\n",
              "4  image_0c6.png   blackKing       73       73     26      26"
            ]
          },
          "metadata": {},
          "execution_count": 4
        }
      ],
      "source": [
        "# load validation metadata\n",
        "valid_data = pd.read_csv(data_dir / 'valid' / 'annot_csv' / 'valid.csv')\n",
        "valid_data.head()"
      ]
    },
    {
      "cell_type": "code",
      "execution_count": 5,
      "metadata": {
        "id": "n-VpdRfpOpjH"
      },
      "outputs": [],
      "source": [
        "# create dictionary to convert labels to class names\n",
        "label_to_class_names = {\n",
        "    0: 'blackKing',\n",
        "    1: 'whiteKing',\n",
        "    2: 'blackQueen',\n",
        "    3: 'whiteQueen',\n",
        "}"
      ]
    },
    {
      "cell_type": "code",
      "execution_count": 6,
      "metadata": {
        "id": "TKBKrDR8mIyM"
      },
      "outputs": [],
      "source": [
        "# create dictionary to convert class names to labels\n",
        "## this is done by inverting the previous dictionary\n",
        "class_names_to_label = {v: k for k, v in label_to_class_names.items()}"
      ]
    },
    {
      "cell_type": "code",
      "execution_count": 7,
      "metadata": {
        "id": "y5QrCbWGRQ_N"
      },
      "outputs": [],
      "source": [
        "# create dictionary to one-hot encode class names\n",
        "encode_classname = {\n",
        "    'blackKing': [1, 0, 0, 0],\n",
        "    'whiteKing': [0, 1, 0, 0],\n",
        "    'blackQueen': [0, 0, 1, 0],\n",
        "    'whiteQueen': [0, 0, 0, 1]\n",
        "}"
      ]
    },
    {
      "cell_type": "code",
      "execution_count": 8,
      "metadata": {
        "id": "uXllNbjiQUM6"
      },
      "outputs": [],
      "source": [
        "# get training metadata and store it in numpy arrays\n",
        "train_x = []\n",
        "train_y_class = []\n",
        "train_y_reg = []\n",
        "for idx, row in train_data.iterrows():\n",
        "    img_name = row.iloc[0]\n",
        "    xcenter = row.iloc[2]\n",
        "    ycenter = row.iloc[3]\n",
        "\n",
        "\n",
        "    _stem = Path(img_name).stem\n",
        "    label = int(_stem.split('_')[1][0])\n",
        "    class_name = label_to_class_names[label]\n",
        "    img_path = str(data_dir / \"train\" / 'images' / class_name / img_name)\n",
        "\n",
        "    img = plt.imread(img_path)\n",
        "    train_x.append(img)\n",
        "    train_y_class.append(encode_classname[class_name])\n",
        "    train_y_reg.append([xcenter, ycenter])\n",
        "\n",
        "train_x = np.stack(train_x)\n",
        "train_y_class = np.stack(train_y_class)\n",
        "train_y_reg = np.stack(train_y_reg).astype(float)"
      ]
    },
    {
      "cell_type": "code",
      "execution_count": 9,
      "metadata": {
        "colab": {
          "base_uri": "https://localhost:8080/"
        },
        "id": "wJfJVgPpSU5G",
        "outputId": "5e8e535d-9bd8-4365-c648-af66ec7d68ff"
      },
      "outputs": [
        {
          "output_type": "execute_result",
          "data": {
            "text/plain": [
              "((204, 224, 224, 3), (204, 4), (204, 2))"
            ]
          },
          "metadata": {},
          "execution_count": 9
        }
      ],
      "source": [
        "train_x.shape, train_y_class.shape, train_y_reg.shape"
      ]
    },
    {
      "cell_type": "code",
      "execution_count": 10,
      "metadata": {
        "id": "fSzt6vQnS1Yk"
      },
      "outputs": [],
      "source": [
        "# get validation metadata and store it in numpy arrays\n",
        "valid_x = []\n",
        "valid_y_class = []\n",
        "valid_y_reg = []\n",
        "for idx, row in valid_data.iterrows():\n",
        "    img_name = row.iloc[0]\n",
        "    xcenter = row.iloc[2]\n",
        "    ycenter = row.iloc[3]\n",
        "\n",
        "\n",
        "    _stem = Path(img_name).stem\n",
        "    label = int(_stem.split('_')[1][0])\n",
        "    class_name = label_to_class_names[label]\n",
        "    img_path = str(data_dir / \"valid\" / 'images' / class_name / img_name)\n",
        "\n",
        "    img = plt.imread(img_path)\n",
        "    valid_x.append(img)\n",
        "    valid_y_class.append(encode_classname[class_name])\n",
        "    valid_y_reg.append([xcenter, ycenter])\n",
        "\n",
        "valid_x = np.stack(valid_x)\n",
        "valid_y_class = np.stack(valid_y_class)\n",
        "valid_y_reg = np.stack(valid_y_reg).astype(float)"
      ]
    },
    {
      "cell_type": "code",
      "execution_count": 11,
      "metadata": {
        "colab": {
          "base_uri": "https://localhost:8080/"
        },
        "id": "gPRw_3hUTQvF",
        "outputId": "a6555a50-4264-439c-aad8-4dc680d28f6a"
      },
      "outputs": [
        {
          "output_type": "execute_result",
          "data": {
            "text/plain": [
              "((52, 224, 224, 3), (52, 4), (52, 2))"
            ]
          },
          "metadata": {},
          "execution_count": 11
        }
      ],
      "source": [
        "valid_x.shape, valid_y_class.shape, valid_y_reg.shape"
      ]
    },
    {
      "cell_type": "code",
      "execution_count": 12,
      "metadata": {
        "colab": {
          "base_uri": "https://localhost:8080/"
        },
        "id": "HpGBXuixZFN2",
        "outputId": "fb7cd8d4-3a65-48a3-a032-46d9ae3324a0"
      },
      "outputs": [
        {
          "output_type": "execute_result",
          "data": {
            "text/plain": [
              "array([[203., 151.],\n",
              "       [203., 125.],\n",
              "       [ 21.,  99.],\n",
              "       [177., 177.],\n",
              "       [151., 125.]])"
            ]
          },
          "metadata": {},
          "execution_count": 12
        }
      ],
      "source": [
        "train_y_reg[:5]"
      ]
    },
    {
      "cell_type": "code",
      "execution_count": 13,
      "metadata": {
        "colab": {
          "base_uri": "https://localhost:8080/"
        },
        "id": "1oRSePoJY3Jj",
        "outputId": "2dd67a3a-acad-45b9-957b-c322fac1e8ed"
      },
      "outputs": [
        {
          "output_type": "execute_result",
          "data": {
            "text/plain": [
              "array([[203., 151.],\n",
              "       [203.,  21.],\n",
              "       [151., 203.],\n",
              "       [125., 125.],\n",
              "       [ 73.,  73.]])"
            ]
          },
          "metadata": {},
          "execution_count": 13
        }
      ],
      "source": [
        "valid_y_reg[:5]"
      ]
    },
    {
      "cell_type": "code",
      "execution_count": 14,
      "metadata": {
        "id": "PmAIC0P2TS1e"
      },
      "outputs": [],
      "source": [
        "# load pretrained VGG model and add layers\n",
        "vgg = VGG16(include_top=False, weights='imagenet', input_shape=(224, 224, 3))\n",
        "\n",
        "x = GlobalMaxPool2D()(vgg.layers[-1].output)\n",
        "x = Dense(256, activation='relu')(x)\n",
        "x = Dropout(0.2)(x)\n",
        "x = Dense(32, activation='relu')(x)\n",
        "op1 = Dense(4, activation='softmax')(x)    # classification head\n",
        "op2 = Dense(2, activation='linear')(x)     # regression head\n",
        "\n",
        "model = Model(vgg.inputs, [op1, op2])"
      ]
    },
    {
      "cell_type": "code",
      "execution_count": 15,
      "metadata": {
        "colab": {
          "base_uri": "https://localhost:8080/"
        },
        "id": "hoIODwoITa9f",
        "outputId": "546be05a-1958-4459-d567-af11fe0af86e"
      },
      "outputs": [
        {
          "output_type": "stream",
          "name": "stdout",
          "text": [
            "Model: \"model\"\n",
            "__________________________________________________________________________________________________\n",
            " Layer (type)                   Output Shape         Param #     Connected to                     \n",
            "==================================================================================================\n",
            " input_1 (InputLayer)           [(None, 224, 224, 3  0           []                               \n",
            "                                )]                                                                \n",
            "                                                                                                  \n",
            " block1_conv1 (Conv2D)          (None, 224, 224, 64  1792        ['input_1[0][0]']                \n",
            "                                )                                                                 \n",
            "                                                                                                  \n",
            " block1_conv2 (Conv2D)          (None, 224, 224, 64  36928       ['block1_conv1[0][0]']           \n",
            "                                )                                                                 \n",
            "                                                                                                  \n",
            " block1_pool (MaxPooling2D)     (None, 112, 112, 64  0           ['block1_conv2[0][0]']           \n",
            "                                )                                                                 \n",
            "                                                                                                  \n",
            " block2_conv1 (Conv2D)          (None, 112, 112, 12  73856       ['block1_pool[0][0]']            \n",
            "                                8)                                                                \n",
            "                                                                                                  \n",
            " block2_conv2 (Conv2D)          (None, 112, 112, 12  147584      ['block2_conv1[0][0]']           \n",
            "                                8)                                                                \n",
            "                                                                                                  \n",
            " block2_pool (MaxPooling2D)     (None, 56, 56, 128)  0           ['block2_conv2[0][0]']           \n",
            "                                                                                                  \n",
            " block3_conv1 (Conv2D)          (None, 56, 56, 256)  295168      ['block2_pool[0][0]']            \n",
            "                                                                                                  \n",
            " block3_conv2 (Conv2D)          (None, 56, 56, 256)  590080      ['block3_conv1[0][0]']           \n",
            "                                                                                                  \n",
            " block3_conv3 (Conv2D)          (None, 56, 56, 256)  590080      ['block3_conv2[0][0]']           \n",
            "                                                                                                  \n",
            " block3_pool (MaxPooling2D)     (None, 28, 28, 256)  0           ['block3_conv3[0][0]']           \n",
            "                                                                                                  \n",
            " block4_conv1 (Conv2D)          (None, 28, 28, 512)  1180160     ['block3_pool[0][0]']            \n",
            "                                                                                                  \n",
            " block4_conv2 (Conv2D)          (None, 28, 28, 512)  2359808     ['block4_conv1[0][0]']           \n",
            "                                                                                                  \n",
            " block4_conv3 (Conv2D)          (None, 28, 28, 512)  2359808     ['block4_conv2[0][0]']           \n",
            "                                                                                                  \n",
            " block4_pool (MaxPooling2D)     (None, 14, 14, 512)  0           ['block4_conv3[0][0]']           \n",
            "                                                                                                  \n",
            " block5_conv1 (Conv2D)          (None, 14, 14, 512)  2359808     ['block4_pool[0][0]']            \n",
            "                                                                                                  \n",
            " block5_conv2 (Conv2D)          (None, 14, 14, 512)  2359808     ['block5_conv1[0][0]']           \n",
            "                                                                                                  \n",
            " block5_conv3 (Conv2D)          (None, 14, 14, 512)  2359808     ['block5_conv2[0][0]']           \n",
            "                                                                                                  \n",
            " block5_pool (MaxPooling2D)     (None, 7, 7, 512)    0           ['block5_conv3[0][0]']           \n",
            "                                                                                                  \n",
            " global_max_pooling2d (GlobalMa  (None, 512)         0           ['block5_pool[0][0]']            \n",
            " xPooling2D)                                                                                      \n",
            "                                                                                                  \n",
            " dense (Dense)                  (None, 256)          131328      ['global_max_pooling2d[0][0]']   \n",
            "                                                                                                  \n",
            " dropout (Dropout)              (None, 256)          0           ['dense[0][0]']                  \n",
            "                                                                                                  \n",
            " dense_1 (Dense)                (None, 32)           8224        ['dropout[0][0]']                \n",
            "                                                                                                  \n",
            " dense_2 (Dense)                (None, 4)            132         ['dense_1[0][0]']                \n",
            "                                                                                                  \n",
            " dense_3 (Dense)                (None, 2)            66          ['dense_1[0][0]']                \n",
            "                                                                                                  \n",
            "==================================================================================================\n",
            "Total params: 14,854,438\n",
            "Trainable params: 14,854,438\n",
            "Non-trainable params: 0\n",
            "__________________________________________________________________________________________________\n"
          ]
        }
      ],
      "source": [
        "model.summary()"
      ]
    },
    {
      "cell_type": "code",
      "execution_count": 16,
      "metadata": {
        "id": "X5tXGwQ4Tx-1"
      },
      "outputs": [],
      "source": [
        "# compile model\n",
        "## more weightage is given to classification task\n",
        "model.compile(\n",
        "    optimizer=Adam(0.0001, clipvalue=100), \n",
        "    loss=['categorical_crossentropy', 'mse'],\n",
        "    loss_weights=[5, 0.25]\n",
        ")"
      ]
    },
    {
      "cell_type": "code",
      "execution_count": 17,
      "metadata": {
        "id": "RPD1UjgdT96c"
      },
      "outputs": [],
      "source": [
        "# store best model based on validation loss\n",
        "model_path = data_dir / \"models\" / \"vgg_model.hdf5\"\n",
        "check = ModelCheckpoint(model_path, monitor='val_loss', verbose=1, save_best_only=True)"
      ]
    },
    {
      "cell_type": "code",
      "execution_count": 18,
      "metadata": {
        "colab": {
          "base_uri": "https://localhost:8080/"
        },
        "id": "hCk_zjxzT_YF",
        "outputId": "ddc85da9-6423-4f93-be97-87d47c7300e1"
      },
      "outputs": [
        {
          "output_type": "stream",
          "name": "stdout",
          "text": [
            "Epoch 1/100\n",
            "7/7 [==============================] - ETA: 0s - loss: 3416.9150 - dense_2_loss: 7.6491 - dense_3_loss: 13514.6777\n",
            "Epoch 00001: val_loss improved from inf to 1605.75415, saving model to /content/drive/MyDrive/MAID/502 CI/project/data/models/vgg_model.hdf5\n",
            "7/7 [==============================] - 40s 3s/step - loss: 3416.9150 - dense_2_loss: 7.6491 - dense_3_loss: 13514.6777 - val_loss: 1605.7542 - val_dense_2_loss: 65.8780 - val_dense_3_loss: 5105.4556\n",
            "Epoch 2/100\n",
            "7/7 [==============================] - ETA: 0s - loss: 1221.8881 - dense_2_loss: 36.4938 - dense_3_loss: 4157.6763\n",
            "Epoch 00002: val_loss improved from 1605.75415 to 734.81238, saving model to /content/drive/MyDrive/MAID/502 CI/project/data/models/vgg_model.hdf5\n",
            "7/7 [==============================] - 7s 967ms/step - loss: 1221.8881 - dense_2_loss: 36.4938 - dense_3_loss: 4157.6763 - val_loss: 734.8124 - val_dense_2_loss: 8.4746 - val_dense_3_loss: 2769.7583\n",
            "Epoch 3/100\n",
            "7/7 [==============================] - ETA: 0s - loss: 743.6359 - dense_2_loss: 17.7593 - dense_3_loss: 2619.3567\n",
            "Epoch 00003: val_loss improved from 734.81238 to 424.35999, saving model to /content/drive/MyDrive/MAID/502 CI/project/data/models/vgg_model.hdf5\n",
            "7/7 [==============================] - 7s 968ms/step - loss: 743.6359 - dense_2_loss: 17.7593 - dense_3_loss: 2619.3567 - val_loss: 424.3600 - val_dense_2_loss: 13.6774 - val_dense_3_loss: 1423.8920\n",
            "Epoch 4/100\n",
            "7/7 [==============================] - ETA: 0s - loss: 510.1014 - dense_2_loss: 20.4085 - dense_3_loss: 1632.2356\n",
            "Epoch 00004: val_loss improved from 424.35999 to 316.44534, saving model to /content/drive/MyDrive/MAID/502 CI/project/data/models/vgg_model.hdf5\n",
            "7/7 [==============================] - 7s 971ms/step - loss: 510.1014 - dense_2_loss: 20.4085 - dense_3_loss: 1632.2356 - val_loss: 316.4453 - val_dense_2_loss: 17.6839 - val_dense_3_loss: 912.1039\n",
            "Epoch 5/100\n",
            "7/7 [==============================] - ETA: 0s - loss: 348.3270 - dense_2_loss: 17.4892 - dense_3_loss: 1043.5244\n",
            "Epoch 00005: val_loss improved from 316.44534 to 276.91675, saving model to /content/drive/MyDrive/MAID/502 CI/project/data/models/vgg_model.hdf5\n",
            "7/7 [==============================] - 7s 988ms/step - loss: 348.3270 - dense_2_loss: 17.4892 - dense_3_loss: 1043.5244 - val_loss: 276.9167 - val_dense_2_loss: 12.6180 - val_dense_3_loss: 855.3077\n",
            "Epoch 6/100\n",
            "7/7 [==============================] - ETA: 0s - loss: 297.0623 - dense_2_loss: 15.6198 - dense_3_loss: 875.8533\n",
            "Epoch 00006: val_loss improved from 276.91675 to 193.46402, saving model to /content/drive/MyDrive/MAID/502 CI/project/data/models/vgg_model.hdf5\n",
            "7/7 [==============================] - 7s 969ms/step - loss: 297.0623 - dense_2_loss: 15.6198 - dense_3_loss: 875.8533 - val_loss: 193.4640 - val_dense_2_loss: 8.7559 - val_dense_3_loss: 598.7372\n",
            "Epoch 7/100\n",
            "7/7 [==============================] - ETA: 0s - loss: 212.8068 - dense_2_loss: 11.8837 - dense_3_loss: 613.5526\n",
            "Epoch 00007: val_loss improved from 193.46402 to 129.06161, saving model to /content/drive/MyDrive/MAID/502 CI/project/data/models/vgg_model.hdf5\n",
            "7/7 [==============================] - 7s 962ms/step - loss: 212.8068 - dense_2_loss: 11.8837 - dense_3_loss: 613.5526 - val_loss: 129.0616 - val_dense_2_loss: 8.4850 - val_dense_3_loss: 346.5473\n",
            "Epoch 8/100\n",
            "7/7 [==============================] - ETA: 0s - loss: 182.0965 - dense_2_loss: 12.9846 - dense_3_loss: 468.6938\n",
            "Epoch 00008: val_loss improved from 129.06161 to 79.41218, saving model to /content/drive/MyDrive/MAID/502 CI/project/data/models/vgg_model.hdf5\n",
            "7/7 [==============================] - 7s 989ms/step - loss: 182.0965 - dense_2_loss: 12.9846 - dense_3_loss: 468.6938 - val_loss: 79.4122 - val_dense_2_loss: 3.6232 - val_dense_3_loss: 245.1847\n",
            "Epoch 9/100\n",
            "7/7 [==============================] - ETA: 0s - loss: 155.3647 - dense_2_loss: 10.2721 - dense_3_loss: 416.0178\n",
            "Epoch 00009: val_loss improved from 79.41218 to 57.98616, saving model to /content/drive/MyDrive/MAID/502 CI/project/data/models/vgg_model.hdf5\n",
            "7/7 [==============================] - 7s 963ms/step - loss: 155.3647 - dense_2_loss: 10.2721 - dense_3_loss: 416.0178 - val_loss: 57.9862 - val_dense_2_loss: 3.7242 - val_dense_3_loss: 157.4602\n",
            "Epoch 10/100\n",
            "7/7 [==============================] - ETA: 0s - loss: 141.1084 - dense_2_loss: 7.6496 - dense_3_loss: 411.4414\n",
            "Epoch 00010: val_loss did not improve from 57.98616\n",
            "7/7 [==============================] - 6s 818ms/step - loss: 141.1084 - dense_2_loss: 7.6496 - dense_3_loss: 411.4414 - val_loss: 110.1762 - val_dense_2_loss: 3.0685 - val_dense_3_loss: 379.3353\n",
            "Epoch 11/100\n",
            "7/7 [==============================] - ETA: 0s - loss: 215.1823 - dense_2_loss: 5.8172 - dense_3_loss: 744.3856\n",
            "Epoch 00011: val_loss did not improve from 57.98616\n",
            "7/7 [==============================] - 6s 830ms/step - loss: 215.1823 - dense_2_loss: 5.8172 - dense_3_loss: 744.3856 - val_loss: 78.3197 - val_dense_2_loss: 3.4335 - val_dense_3_loss: 244.6092\n",
            "Epoch 12/100\n",
            "7/7 [==============================] - ETA: 0s - loss: 140.5003 - dense_2_loss: 4.4418 - dense_3_loss: 473.1659\n",
            "Epoch 00012: val_loss improved from 57.98616 to 40.25193, saving model to /content/drive/MyDrive/MAID/502 CI/project/data/models/vgg_model.hdf5\n",
            "7/7 [==============================] - 9s 1s/step - loss: 140.5003 - dense_2_loss: 4.4418 - dense_3_loss: 473.1659 - val_loss: 40.2519 - val_dense_2_loss: 1.2304 - val_dense_3_loss: 136.4007\n",
            "Epoch 13/100\n",
            "7/7 [==============================] - ETA: 0s - loss: 89.0546 - dense_2_loss: 3.2088 - dense_3_loss: 292.0422\n",
            "Epoch 00013: val_loss did not improve from 40.25193\n",
            "7/7 [==============================] - 6s 816ms/step - loss: 89.0546 - dense_2_loss: 3.2088 - dense_3_loss: 292.0422 - val_loss: 43.4079 - val_dense_2_loss: 1.5027 - val_dense_3_loss: 143.5782\n",
            "Epoch 14/100\n",
            "7/7 [==============================] - ETA: 0s - loss: 87.1869 - dense_2_loss: 2.6143 - dense_3_loss: 296.4607\n",
            "Epoch 00014: val_loss improved from 40.25193 to 32.14826, saving model to /content/drive/MyDrive/MAID/502 CI/project/data/models/vgg_model.hdf5\n",
            "7/7 [==============================] - 7s 977ms/step - loss: 87.1869 - dense_2_loss: 2.6143 - dense_3_loss: 296.4607 - val_loss: 32.1483 - val_dense_2_loss: 1.3183 - val_dense_3_loss: 102.2268\n",
            "Epoch 15/100\n",
            "7/7 [==============================] - ETA: 0s - loss: 79.8438 - dense_2_loss: 2.3019 - dense_3_loss: 273.3365\n",
            "Epoch 00015: val_loss improved from 32.14826 to 23.51705, saving model to /content/drive/MyDrive/MAID/502 CI/project/data/models/vgg_model.hdf5\n",
            "7/7 [==============================] - 10s 2s/step - loss: 79.8438 - dense_2_loss: 2.3019 - dense_3_loss: 273.3365 - val_loss: 23.5171 - val_dense_2_loss: 1.7355 - val_dense_3_loss: 59.3578\n",
            "Epoch 16/100\n",
            "7/7 [==============================] - ETA: 0s - loss: 91.8388 - dense_2_loss: 2.5620 - dense_3_loss: 316.1144\n",
            "Epoch 00016: val_loss did not improve from 23.51705\n",
            "7/7 [==============================] - 6s 822ms/step - loss: 91.8388 - dense_2_loss: 2.5620 - dense_3_loss: 316.1144 - val_loss: 39.0872 - val_dense_2_loss: 0.7989 - val_dense_3_loss: 140.3698\n",
            "Epoch 17/100\n",
            "7/7 [==============================] - ETA: 0s - loss: 79.8864 - dense_2_loss: 1.8187 - dense_3_loss: 283.1716\n",
            "Epoch 00017: val_loss did not improve from 23.51705\n",
            "7/7 [==============================] - 6s 831ms/step - loss: 79.8864 - dense_2_loss: 1.8187 - dense_3_loss: 283.1716 - val_loss: 27.4608 - val_dense_2_loss: 1.0654 - val_dense_3_loss: 88.5346\n",
            "Epoch 18/100\n",
            "7/7 [==============================] - ETA: 0s - loss: 81.9868 - dense_2_loss: 1.2927 - dense_3_loss: 302.0933\n",
            "Epoch 00018: val_loss did not improve from 23.51705\n",
            "7/7 [==============================] - 6s 831ms/step - loss: 81.9868 - dense_2_loss: 1.2927 - dense_3_loss: 302.0933 - val_loss: 27.9471 - val_dense_2_loss: 0.3709 - val_dense_3_loss: 104.3710\n",
            "Epoch 19/100\n",
            "7/7 [==============================] - ETA: 0s - loss: 79.2954 - dense_2_loss: 1.0067 - dense_3_loss: 297.0484\n",
            "Epoch 00019: val_loss did not improve from 23.51705\n",
            "7/7 [==============================] - 6s 827ms/step - loss: 79.2954 - dense_2_loss: 1.0067 - dense_3_loss: 297.0484 - val_loss: 86.8653 - val_dense_2_loss: 0.2722 - val_dense_3_loss: 342.0164\n",
            "Epoch 20/100\n",
            "7/7 [==============================] - ETA: 0s - loss: 81.3013 - dense_2_loss: 1.8091 - dense_3_loss: 289.0228\n",
            "Epoch 00020: val_loss did not improve from 23.51705\n",
            "7/7 [==============================] - 6s 823ms/step - loss: 81.3013 - dense_2_loss: 1.8091 - dense_3_loss: 289.0228 - val_loss: 45.9278 - val_dense_2_loss: 0.4257 - val_dense_3_loss: 175.1967\n",
            "Epoch 21/100\n",
            "7/7 [==============================] - ETA: 0s - loss: 65.3047 - dense_2_loss: 1.1629 - dense_3_loss: 237.9607\n",
            "Epoch 00021: val_loss did not improve from 23.51705\n",
            "7/7 [==============================] - 6s 819ms/step - loss: 65.3047 - dense_2_loss: 1.1629 - dense_3_loss: 237.9607 - val_loss: 26.8063 - val_dense_2_loss: 0.2893 - val_dense_3_loss: 101.4389\n",
            "Epoch 22/100\n",
            "7/7 [==============================] - ETA: 0s - loss: 54.5972 - dense_2_loss: 1.0222 - dense_3_loss: 197.9455\n",
            "Epoch 00022: val_loss did not improve from 23.51705\n",
            "7/7 [==============================] - 6s 818ms/step - loss: 54.5972 - dense_2_loss: 1.0222 - dense_3_loss: 197.9455 - val_loss: 23.6789 - val_dense_2_loss: 0.3851 - val_dense_3_loss: 87.0137\n",
            "Epoch 23/100\n",
            "7/7 [==============================] - ETA: 0s - loss: 70.1106 - dense_2_loss: 1.0149 - dense_3_loss: 260.1441\n",
            "Epoch 00023: val_loss did not improve from 23.51705\n",
            "7/7 [==============================] - 6s 819ms/step - loss: 70.1106 - dense_2_loss: 1.0149 - dense_3_loss: 260.1441 - val_loss: 55.6512 - val_dense_2_loss: 0.1983 - val_dense_3_loss: 218.6382\n",
            "Epoch 24/100\n",
            "7/7 [==============================] - ETA: 0s - loss: 67.5521 - dense_2_loss: 0.7541 - dense_3_loss: 255.1270\n",
            "Epoch 00024: val_loss did not improve from 23.51705\n",
            "7/7 [==============================] - 6s 817ms/step - loss: 67.5521 - dense_2_loss: 0.7541 - dense_3_loss: 255.1270 - val_loss: 37.2261 - val_dense_2_loss: 0.1762 - val_dense_3_loss: 145.3810\n",
            "Epoch 25/100\n",
            "7/7 [==============================] - ETA: 0s - loss: 63.0456 - dense_2_loss: 1.3608 - dense_3_loss: 224.9655\n",
            "Epoch 00025: val_loss improved from 23.51705 to 10.33891, saving model to /content/drive/MyDrive/MAID/502 CI/project/data/models/vgg_model.hdf5\n",
            "7/7 [==============================] - 9s 1s/step - loss: 63.0456 - dense_2_loss: 1.3608 - dense_3_loss: 224.9655 - val_loss: 10.3389 - val_dense_2_loss: 0.0117 - val_dense_3_loss: 41.1210\n",
            "Epoch 26/100\n",
            "7/7 [==============================] - ETA: 0s - loss: 56.6002 - dense_2_loss: 1.0574 - dense_3_loss: 205.2523\n",
            "Epoch 00026: val_loss did not improve from 10.33891\n",
            "7/7 [==============================] - 6s 818ms/step - loss: 56.6002 - dense_2_loss: 1.0574 - dense_3_loss: 205.2523 - val_loss: 19.7525 - val_dense_2_loss: 0.0045 - val_dense_3_loss: 78.9198\n",
            "Epoch 27/100\n",
            "7/7 [==============================] - ETA: 0s - loss: 59.7394 - dense_2_loss: 0.7652 - dense_3_loss: 223.6539\n",
            "Epoch 00027: val_loss did not improve from 10.33891\n",
            "7/7 [==============================] - 6s 823ms/step - loss: 59.7394 - dense_2_loss: 0.7652 - dense_3_loss: 223.6539 - val_loss: 21.7238 - val_dense_2_loss: 0.1575 - val_dense_3_loss: 83.7461\n",
            "Epoch 28/100\n",
            "7/7 [==============================] - ETA: 0s - loss: 55.1080 - dense_2_loss: 0.8940 - dense_3_loss: 202.5524\n",
            "Epoch 00028: val_loss did not improve from 10.33891\n",
            "7/7 [==============================] - 6s 819ms/step - loss: 55.1080 - dense_2_loss: 0.8940 - dense_3_loss: 202.5524 - val_loss: 16.5308 - val_dense_2_loss: 0.4088 - val_dense_3_loss: 57.9470\n",
            "Epoch 29/100\n",
            "7/7 [==============================] - ETA: 0s - loss: 47.3385 - dense_2_loss: 0.6283 - dense_3_loss: 176.7886\n",
            "Epoch 00029: val_loss improved from 10.33891 to 7.95585, saving model to /content/drive/MyDrive/MAID/502 CI/project/data/models/vgg_model.hdf5\n",
            "7/7 [==============================] - 9s 1s/step - loss: 47.3385 - dense_2_loss: 0.6283 - dense_3_loss: 176.7886 - val_loss: 7.9559 - val_dense_2_loss: 0.0104 - val_dense_3_loss: 31.6155\n",
            "Epoch 30/100\n",
            "7/7 [==============================] - ETA: 0s - loss: 48.1014 - dense_2_loss: 0.5800 - dense_3_loss: 180.8052\n",
            "Epoch 00030: val_loss did not improve from 7.95585\n",
            "7/7 [==============================] - 6s 817ms/step - loss: 48.1014 - dense_2_loss: 0.5800 - dense_3_loss: 180.8052 - val_loss: 16.2504 - val_dense_2_loss: 0.0333 - val_dense_3_loss: 64.3365\n",
            "Epoch 31/100\n",
            "7/7 [==============================] - ETA: 0s - loss: 50.4275 - dense_2_loss: 0.6092 - dense_3_loss: 189.5260\n",
            "Epoch 00031: val_loss did not improve from 7.95585\n",
            "7/7 [==============================] - 6s 822ms/step - loss: 50.4275 - dense_2_loss: 0.6092 - dense_3_loss: 189.5260 - val_loss: 34.0013 - val_dense_2_loss: 1.0306e-04 - val_dense_3_loss: 136.0030\n",
            "Epoch 32/100\n",
            "7/7 [==============================] - ETA: 0s - loss: 71.9443 - dense_2_loss: 0.4612 - dense_3_loss: 278.5525\n",
            "Epoch 00032: val_loss did not improve from 7.95585\n",
            "7/7 [==============================] - 6s 820ms/step - loss: 71.9443 - dense_2_loss: 0.4612 - dense_3_loss: 278.5525 - val_loss: 9.5187 - val_dense_2_loss: 7.5314e-04 - val_dense_3_loss: 38.0598\n",
            "Epoch 33/100\n",
            "7/7 [==============================] - ETA: 0s - loss: 73.5730 - dense_2_loss: 0.2410 - dense_3_loss: 289.4720\n",
            "Epoch 00033: val_loss did not improve from 7.95585\n",
            "7/7 [==============================] - 6s 818ms/step - loss: 73.5730 - dense_2_loss: 0.2410 - dense_3_loss: 289.4720 - val_loss: 24.6171 - val_dense_2_loss: 0.0028 - val_dense_3_loss: 98.4131\n",
            "Epoch 34/100\n",
            "7/7 [==============================] - ETA: 0s - loss: 49.1890 - dense_2_loss: 0.9547 - dense_3_loss: 177.6622\n",
            "Epoch 00034: val_loss did not improve from 7.95585\n",
            "7/7 [==============================] - 6s 819ms/step - loss: 49.1890 - dense_2_loss: 0.9547 - dense_3_loss: 177.6622 - val_loss: 33.4652 - val_dense_2_loss: 0.0043 - val_dense_3_loss: 133.7746\n",
            "Epoch 35/100\n",
            "7/7 [==============================] - ETA: 0s - loss: 63.9044 - dense_2_loss: 0.2945 - dense_3_loss: 249.7282\n",
            "Epoch 00035: val_loss did not improve from 7.95585\n",
            "7/7 [==============================] - 6s 819ms/step - loss: 63.9044 - dense_2_loss: 0.2945 - dense_3_loss: 249.7282 - val_loss: 27.5854 - val_dense_2_loss: 0.0706 - val_dense_3_loss: 108.9291\n",
            "Epoch 36/100\n",
            "7/7 [==============================] - ETA: 0s - loss: 42.9126 - dense_2_loss: 0.4436 - dense_3_loss: 162.7780\n",
            "Epoch 00036: val_loss did not improve from 7.95585\n",
            "7/7 [==============================] - 6s 824ms/step - loss: 42.9126 - dense_2_loss: 0.4436 - dense_3_loss: 162.7780 - val_loss: 15.7305 - val_dense_2_loss: 0.0017 - val_dense_3_loss: 62.8888\n",
            "Epoch 37/100\n",
            "7/7 [==============================] - ETA: 0s - loss: 55.7041 - dense_2_loss: 0.3928 - dense_3_loss: 214.9606\n",
            "Epoch 00037: val_loss did not improve from 7.95585\n",
            "7/7 [==============================] - 6s 837ms/step - loss: 55.7041 - dense_2_loss: 0.3928 - dense_3_loss: 214.9606 - val_loss: 14.1361 - val_dense_2_loss: 0.0054 - val_dense_3_loss: 56.4363\n",
            "Epoch 38/100\n",
            "7/7 [==============================] - ETA: 0s - loss: 52.2236 - dense_2_loss: 0.7816 - dense_3_loss: 193.2632\n",
            "Epoch 00038: val_loss did not improve from 7.95585\n",
            "7/7 [==============================] - 6s 841ms/step - loss: 52.2236 - dense_2_loss: 0.7816 - dense_3_loss: 193.2632 - val_loss: 11.5997 - val_dense_2_loss: 9.2337e-04 - val_dense_3_loss: 46.3803\n",
            "Epoch 39/100\n",
            "7/7 [==============================] - ETA: 0s - loss: 54.6109 - dense_2_loss: 1.0687 - dense_3_loss: 197.0694\n",
            "Epoch 00039: val_loss did not improve from 7.95585\n",
            "7/7 [==============================] - 6s 841ms/step - loss: 54.6109 - dense_2_loss: 1.0687 - dense_3_loss: 197.0694 - val_loss: 51.0442 - val_dense_2_loss: 0.2206 - val_dense_3_loss: 199.7656\n",
            "Epoch 40/100\n",
            "7/7 [==============================] - ETA: 0s - loss: 69.2307 - dense_2_loss: 0.5791 - dense_3_loss: 265.3402\n",
            "Epoch 00040: val_loss did not improve from 7.95585\n",
            "7/7 [==============================] - 6s 843ms/step - loss: 69.2307 - dense_2_loss: 0.5791 - dense_3_loss: 265.3402 - val_loss: 40.6777 - val_dense_2_loss: 0.1691 - val_dense_3_loss: 159.3288\n",
            "Epoch 41/100\n",
            "7/7 [==============================] - ETA: 0s - loss: 71.5250 - dense_2_loss: 0.6991 - dense_3_loss: 272.1183\n",
            "Epoch 00041: val_loss did not improve from 7.95585\n",
            "7/7 [==============================] - 6s 840ms/step - loss: 71.5250 - dense_2_loss: 0.6991 - dense_3_loss: 272.1183 - val_loss: 47.2062 - val_dense_2_loss: 0.0197 - val_dense_3_loss: 188.4319\n",
            "Epoch 42/100\n",
            "7/7 [==============================] - ETA: 0s - loss: 73.4173 - dense_2_loss: 0.3705 - dense_3_loss: 286.2602\n",
            "Epoch 00042: val_loss did not improve from 7.95585\n",
            "7/7 [==============================] - 6s 831ms/step - loss: 73.4173 - dense_2_loss: 0.3705 - dense_3_loss: 286.2602 - val_loss: 9.6218 - val_dense_2_loss: 0.0010 - val_dense_3_loss: 38.4664\n",
            "Epoch 43/100\n",
            "7/7 [==============================] - ETA: 0s - loss: 60.4693 - dense_2_loss: 0.2743 - dense_3_loss: 236.3910\n",
            "Epoch 00043: val_loss did not improve from 7.95585\n",
            "7/7 [==============================] - 6s 823ms/step - loss: 60.4693 - dense_2_loss: 0.2743 - dense_3_loss: 236.3910 - val_loss: 15.1565 - val_dense_2_loss: 3.7985e-04 - val_dense_3_loss: 60.6184\n",
            "Epoch 44/100\n",
            "7/7 [==============================] - ETA: 0s - loss: 50.9299 - dense_2_loss: 0.3899 - dense_3_loss: 195.9224\n",
            "Epoch 00044: val_loss did not improve from 7.95585\n",
            "7/7 [==============================] - 6s 831ms/step - loss: 50.9299 - dense_2_loss: 0.3899 - dense_3_loss: 195.9224 - val_loss: 17.4033 - val_dense_2_loss: 5.5541e-04 - val_dense_3_loss: 69.6022\n",
            "Epoch 45/100\n",
            "7/7 [==============================] - ETA: 0s - loss: 49.1091 - dense_2_loss: 0.5758 - dense_3_loss: 184.9201\n",
            "Epoch 00045: val_loss did not improve from 7.95585\n",
            "7/7 [==============================] - 6s 844ms/step - loss: 49.1091 - dense_2_loss: 0.5758 - dense_3_loss: 184.9201 - val_loss: 25.3828 - val_dense_2_loss: 0.0033 - val_dense_3_loss: 101.4663\n",
            "Epoch 46/100\n",
            "7/7 [==============================] - ETA: 0s - loss: 47.4216 - dense_2_loss: 0.4272 - dense_3_loss: 181.1423\n",
            "Epoch 00046: val_loss did not improve from 7.95585\n",
            "7/7 [==============================] - 6s 834ms/step - loss: 47.4216 - dense_2_loss: 0.4272 - dense_3_loss: 181.1423 - val_loss: 8.5725 - val_dense_2_loss: 0.1617 - val_dense_3_loss: 31.0567\n",
            "Epoch 47/100\n",
            "7/7 [==============================] - ETA: 0s - loss: 40.5300 - dense_2_loss: 0.5465 - dense_3_loss: 151.1906\n",
            "Epoch 00047: val_loss improved from 7.95585 to 7.63417, saving model to /content/drive/MyDrive/MAID/502 CI/project/data/models/vgg_model.hdf5\n",
            "7/7 [==============================] - 9s 1s/step - loss: 40.5300 - dense_2_loss: 0.5465 - dense_3_loss: 151.1906 - val_loss: 7.6342 - val_dense_2_loss: 0.0941 - val_dense_3_loss: 28.6541\n",
            "Epoch 48/100\n",
            "7/7 [==============================] - ETA: 0s - loss: 48.2907 - dense_2_loss: 0.3629 - dense_3_loss: 185.9055\n",
            "Epoch 00048: val_loss improved from 7.63417 to 7.45925, saving model to /content/drive/MyDrive/MAID/502 CI/project/data/models/vgg_model.hdf5\n",
            "7/7 [==============================] - 7s 1s/step - loss: 48.2907 - dense_2_loss: 0.3629 - dense_3_loss: 185.9055 - val_loss: 7.4592 - val_dense_2_loss: 0.0495 - val_dense_3_loss: 28.8479\n",
            "Epoch 49/100\n",
            "7/7 [==============================] - ETA: 0s - loss: 46.3772 - dense_2_loss: 0.2167 - dense_3_loss: 181.1739\n",
            "Epoch 00049: val_loss did not improve from 7.45925\n",
            "7/7 [==============================] - 6s 828ms/step - loss: 46.3772 - dense_2_loss: 0.2167 - dense_3_loss: 181.1739 - val_loss: 19.0942 - val_dense_2_loss: 0.0528 - val_dense_3_loss: 75.3208\n",
            "Epoch 50/100\n",
            "7/7 [==============================] - ETA: 0s - loss: 44.3961 - dense_2_loss: 0.2476 - dense_3_loss: 172.6321\n",
            "Epoch 00050: val_loss did not improve from 7.45925\n",
            "7/7 [==============================] - 6s 831ms/step - loss: 44.3961 - dense_2_loss: 0.2476 - dense_3_loss: 172.6321 - val_loss: 43.5042 - val_dense_2_loss: 0.0886 - val_dense_3_loss: 172.2455\n",
            "Epoch 51/100\n",
            "7/7 [==============================] - ETA: 0s - loss: 47.9875 - dense_2_loss: 0.2128 - dense_3_loss: 187.6942\n",
            "Epoch 00051: val_loss did not improve from 7.45925\n",
            "7/7 [==============================] - 6s 823ms/step - loss: 47.9875 - dense_2_loss: 0.2128 - dense_3_loss: 187.6942 - val_loss: 21.9386 - val_dense_2_loss: 0.0028 - val_dense_3_loss: 87.6992\n",
            "Epoch 52/100\n",
            "7/7 [==============================] - ETA: 0s - loss: 41.6425 - dense_2_loss: 0.5050 - dense_3_loss: 156.4697\n",
            "Epoch 00052: val_loss did not improve from 7.45925\n",
            "7/7 [==============================] - 6s 832ms/step - loss: 41.6425 - dense_2_loss: 0.5050 - dense_3_loss: 156.4697 - val_loss: 25.1785 - val_dense_2_loss: 0.0034 - val_dense_3_loss: 100.6469\n",
            "Epoch 53/100\n",
            "7/7 [==============================] - ETA: 0s - loss: 44.1011 - dense_2_loss: 0.3543 - dense_3_loss: 169.3180\n",
            "Epoch 00053: val_loss did not improve from 7.45925\n",
            "7/7 [==============================] - 6s 834ms/step - loss: 44.1011 - dense_2_loss: 0.3543 - dense_3_loss: 169.3180 - val_loss: 13.7149 - val_dense_2_loss: 0.0328 - val_dense_3_loss: 54.2042\n",
            "Epoch 54/100\n",
            "7/7 [==============================] - ETA: 0s - loss: 47.8813 - dense_2_loss: 0.2327 - dense_3_loss: 186.8718\n",
            "Epoch 00054: val_loss did not improve from 7.45925\n",
            "7/7 [==============================] - 6s 822ms/step - loss: 47.8813 - dense_2_loss: 0.2327 - dense_3_loss: 186.8718 - val_loss: 14.0277 - val_dense_2_loss: 0.1386 - val_dense_3_loss: 53.3397\n",
            "Epoch 55/100\n",
            "7/7 [==============================] - ETA: 0s - loss: 45.5191 - dense_2_loss: 0.4042 - dense_3_loss: 173.9922\n",
            "Epoch 00055: val_loss did not improve from 7.45925\n",
            "7/7 [==============================] - 6s 816ms/step - loss: 45.5191 - dense_2_loss: 0.4042 - dense_3_loss: 173.9922 - val_loss: 13.1675 - val_dense_2_loss: 0.0982 - val_dense_3_loss: 50.7060\n",
            "Epoch 56/100\n",
            "7/7 [==============================] - ETA: 0s - loss: 39.9649 - dense_2_loss: 0.5755 - dense_3_loss: 148.3496\n",
            "Epoch 00056: val_loss did not improve from 7.45925\n",
            "7/7 [==============================] - 6s 815ms/step - loss: 39.9649 - dense_2_loss: 0.5755 - dense_3_loss: 148.3496 - val_loss: 10.4016 - val_dense_2_loss: 0.0020 - val_dense_3_loss: 41.5669\n",
            "Epoch 57/100\n",
            "7/7 [==============================] - ETA: 0s - loss: 43.7845 - dense_2_loss: 0.7118 - dense_3_loss: 160.9021\n",
            "Epoch 00057: val_loss did not improve from 7.45925\n",
            "7/7 [==============================] - 6s 817ms/step - loss: 43.7845 - dense_2_loss: 0.7118 - dense_3_loss: 160.9021 - val_loss: 30.1221 - val_dense_2_loss: 0.0100 - val_dense_3_loss: 120.2889\n",
            "Epoch 58/100\n",
            "7/7 [==============================] - ETA: 0s - loss: 46.8079 - dense_2_loss: 0.2500 - dense_3_loss: 182.2310\n",
            "Epoch 00058: val_loss did not improve from 7.45925\n",
            "7/7 [==============================] - 6s 817ms/step - loss: 46.8079 - dense_2_loss: 0.2500 - dense_3_loss: 182.2310 - val_loss: 18.0150 - val_dense_2_loss: 3.2816e-04 - val_dense_3_loss: 72.0533\n",
            "Epoch 59/100\n",
            "7/7 [==============================] - ETA: 0s - loss: 39.6506 - dense_2_loss: 0.1814 - dense_3_loss: 154.9751\n",
            "Epoch 00059: val_loss did not improve from 7.45925\n",
            "7/7 [==============================] - 6s 813ms/step - loss: 39.6506 - dense_2_loss: 0.1814 - dense_3_loss: 154.9751 - val_loss: 39.0054 - val_dense_2_loss: 0.0041 - val_dense_3_loss: 155.9405\n",
            "Epoch 60/100\n",
            "7/7 [==============================] - ETA: 0s - loss: 59.4157 - dense_2_loss: 0.2206 - dense_3_loss: 233.2516\n",
            "Epoch 00060: val_loss did not improve from 7.45925\n",
            "7/7 [==============================] - 6s 819ms/step - loss: 59.4157 - dense_2_loss: 0.2206 - dense_3_loss: 233.2516 - val_loss: 31.4711 - val_dense_2_loss: 0.0079 - val_dense_3_loss: 125.7266\n",
            "Epoch 61/100\n",
            "7/7 [==============================] - ETA: 0s - loss: 45.0286 - dense_2_loss: 0.5144 - dense_3_loss: 169.8260\n",
            "Epoch 00061: val_loss did not improve from 7.45925\n",
            "7/7 [==============================] - 6s 815ms/step - loss: 45.0286 - dense_2_loss: 0.5144 - dense_3_loss: 169.8260 - val_loss: 15.1214 - val_dense_2_loss: 0.0549 - val_dense_3_loss: 59.3879\n",
            "Epoch 62/100\n",
            "7/7 [==============================] - ETA: 0s - loss: 47.2849 - dense_2_loss: 0.5529 - dense_3_loss: 178.0821\n",
            "Epoch 00062: val_loss did not improve from 7.45925\n",
            "7/7 [==============================] - 6s 827ms/step - loss: 47.2849 - dense_2_loss: 0.5529 - dense_3_loss: 178.0821 - val_loss: 11.5230 - val_dense_2_loss: 0.0052 - val_dense_3_loss: 45.9878\n",
            "Epoch 63/100\n",
            "7/7 [==============================] - ETA: 0s - loss: 40.4598 - dense_2_loss: 0.7083 - dense_3_loss: 147.6738\n",
            "Epoch 00063: val_loss improved from 7.45925 to 6.93128, saving model to /content/drive/MyDrive/MAID/502 CI/project/data/models/vgg_model.hdf5\n",
            "7/7 [==============================] - 8s 1s/step - loss: 40.4598 - dense_2_loss: 0.7083 - dense_3_loss: 147.6738 - val_loss: 6.9313 - val_dense_2_loss: 1.4359e-04 - val_dense_3_loss: 27.7223\n",
            "Epoch 64/100\n",
            "7/7 [==============================] - ETA: 0s - loss: 40.7047 - dense_2_loss: 0.2086 - dense_3_loss: 158.6462\n",
            "Epoch 00064: val_loss did not improve from 6.93128\n",
            "7/7 [==============================] - 6s 815ms/step - loss: 40.7047 - dense_2_loss: 0.2086 - dense_3_loss: 158.6462 - val_loss: 14.7988 - val_dense_2_loss: 2.6981e-04 - val_dense_3_loss: 59.1899\n",
            "Epoch 65/100\n",
            "7/7 [==============================] - ETA: 0s - loss: 43.9359 - dense_2_loss: 0.3430 - dense_3_loss: 168.8831\n",
            "Epoch 00065: val_loss did not improve from 6.93128\n",
            "7/7 [==============================] - 6s 817ms/step - loss: 43.9359 - dense_2_loss: 0.3430 - dense_3_loss: 168.8831 - val_loss: 10.4516 - val_dense_2_loss: 3.9888e-05 - val_dense_3_loss: 41.8058\n",
            "Epoch 66/100\n",
            "7/7 [==============================] - ETA: 0s - loss: 39.1138 - dense_2_loss: 0.3432 - dense_3_loss: 149.5914\n",
            "Epoch 00066: val_loss did not improve from 6.93128\n",
            "7/7 [==============================] - 6s 817ms/step - loss: 39.1138 - dense_2_loss: 0.3432 - dense_3_loss: 149.5914 - val_loss: 7.0210 - val_dense_2_loss: 0.0013 - val_dense_3_loss: 28.0578\n",
            "Epoch 67/100\n",
            "7/7 [==============================] - ETA: 0s - loss: 39.9927 - dense_2_loss: 0.2392 - dense_3_loss: 155.1864\n",
            "Epoch 00067: val_loss did not improve from 6.93128\n",
            "7/7 [==============================] - 6s 815ms/step - loss: 39.9927 - dense_2_loss: 0.2392 - dense_3_loss: 155.1864 - val_loss: 18.2144 - val_dense_2_loss: 1.7113e-05 - val_dense_3_loss: 72.8572\n",
            "Epoch 68/100\n",
            "7/7 [==============================] - ETA: 0s - loss: 46.2633 - dense_2_loss: 0.2003 - dense_3_loss: 181.0471\n",
            "Epoch 00068: val_loss did not improve from 6.93128\n",
            "7/7 [==============================] - 6s 818ms/step - loss: 46.2633 - dense_2_loss: 0.2003 - dense_3_loss: 181.0471 - val_loss: 8.7846 - val_dense_2_loss: 1.4512e-04 - val_dense_3_loss: 35.1353\n",
            "Epoch 69/100\n",
            "7/7 [==============================] - ETA: 0s - loss: 36.0477 - dense_2_loss: 0.1061 - dense_3_loss: 142.0698\n",
            "Epoch 00069: val_loss did not improve from 6.93128\n",
            "7/7 [==============================] - 6s 816ms/step - loss: 36.0477 - dense_2_loss: 0.1061 - dense_3_loss: 142.0698 - val_loss: 9.0188 - val_dense_2_loss: 5.7629e-05 - val_dense_3_loss: 36.0741\n",
            "Epoch 70/100\n",
            "7/7 [==============================] - ETA: 0s - loss: 37.9994 - dense_2_loss: 0.3501 - dense_3_loss: 144.9964\n",
            "Epoch 00070: val_loss did not improve from 6.93128\n",
            "7/7 [==============================] - 6s 817ms/step - loss: 37.9994 - dense_2_loss: 0.3501 - dense_3_loss: 144.9964 - val_loss: 10.3259 - val_dense_2_loss: 3.9011e-04 - val_dense_3_loss: 41.2960\n",
            "Epoch 71/100\n",
            "7/7 [==============================] - ETA: 0s - loss: 31.3777 - dense_2_loss: 0.0973 - dense_3_loss: 123.5637\n",
            "Epoch 00071: val_loss improved from 6.93128 to 5.28726, saving model to /content/drive/MyDrive/MAID/502 CI/project/data/models/vgg_model.hdf5\n",
            "7/7 [==============================] - 8s 1s/step - loss: 31.3777 - dense_2_loss: 0.0973 - dense_3_loss: 123.5637 - val_loss: 5.2873 - val_dense_2_loss: 4.9231e-04 - val_dense_3_loss: 21.1392\n",
            "Epoch 72/100\n",
            "7/7 [==============================] - ETA: 0s - loss: 36.5554 - dense_2_loss: 0.3075 - dense_3_loss: 140.0722\n",
            "Epoch 00072: val_loss did not improve from 5.28726\n",
            "7/7 [==============================] - 6s 817ms/step - loss: 36.5554 - dense_2_loss: 0.3075 - dense_3_loss: 140.0722 - val_loss: 13.6319 - val_dense_2_loss: 0.0014 - val_dense_3_loss: 54.4998\n",
            "Epoch 73/100\n",
            "7/7 [==============================] - ETA: 0s - loss: 41.1783 - dense_2_loss: 0.5194 - dense_3_loss: 154.3261\n",
            "Epoch 00073: val_loss improved from 5.28726 to 5.15428, saving model to /content/drive/MyDrive/MAID/502 CI/project/data/models/vgg_model.hdf5\n",
            "7/7 [==============================] - 7s 971ms/step - loss: 41.1783 - dense_2_loss: 0.5194 - dense_3_loss: 154.3261 - val_loss: 5.1543 - val_dense_2_loss: 1.1609e-04 - val_dense_3_loss: 20.6148\n",
            "Epoch 74/100\n",
            "7/7 [==============================] - ETA: 0s - loss: 32.3074 - dense_2_loss: 0.2062 - dense_3_loss: 125.1057\n",
            "Epoch 00074: val_loss did not improve from 5.15428\n",
            "7/7 [==============================] - 6s 814ms/step - loss: 32.3074 - dense_2_loss: 0.2062 - dense_3_loss: 125.1057 - val_loss: 8.7210 - val_dense_2_loss: 1.1650e-04 - val_dense_3_loss: 34.8816\n",
            "Epoch 75/100\n",
            "7/7 [==============================] - ETA: 0s - loss: 37.3757 - dense_2_loss: 0.3235 - dense_3_loss: 143.0327\n",
            "Epoch 00075: val_loss did not improve from 5.15428\n",
            "7/7 [==============================] - 6s 822ms/step - loss: 37.3757 - dense_2_loss: 0.3235 - dense_3_loss: 143.0327 - val_loss: 12.4778 - val_dense_2_loss: 1.4115e-04 - val_dense_3_loss: 49.9083\n",
            "Epoch 76/100\n",
            "7/7 [==============================] - ETA: 0s - loss: 52.1015 - dense_2_loss: 0.1669 - dense_3_loss: 205.0690\n",
            "Epoch 00076: val_loss did not improve from 5.15428\n",
            "7/7 [==============================] - 6s 819ms/step - loss: 52.1015 - dense_2_loss: 0.1669 - dense_3_loss: 205.0690 - val_loss: 51.2093 - val_dense_2_loss: 0.0035 - val_dense_3_loss: 204.7680\n",
            "Epoch 77/100\n",
            "7/7 [==============================] - ETA: 0s - loss: 51.4783 - dense_2_loss: 0.1532 - dense_3_loss: 202.8492\n",
            "Epoch 00077: val_loss did not improve from 5.15428\n",
            "7/7 [==============================] - 6s 820ms/step - loss: 51.4783 - dense_2_loss: 0.1532 - dense_3_loss: 202.8492 - val_loss: 33.1658 - val_dense_2_loss: 0.1020 - val_dense_3_loss: 130.6238\n",
            "Epoch 78/100\n",
            "7/7 [==============================] - ETA: 0s - loss: 52.6807 - dense_2_loss: 0.5769 - dense_3_loss: 199.1839\n",
            "Epoch 00078: val_loss did not improve from 5.15428\n",
            "7/7 [==============================] - 6s 818ms/step - loss: 52.6807 - dense_2_loss: 0.5769 - dense_3_loss: 199.1839 - val_loss: 11.8194 - val_dense_2_loss: 0.0578 - val_dense_3_loss: 46.1209\n",
            "Epoch 79/100\n",
            "7/7 [==============================] - ETA: 0s - loss: 37.8787 - dense_2_loss: 0.2176 - dense_3_loss: 147.1630\n",
            "Epoch 00079: val_loss did not improve from 5.15428\n",
            "7/7 [==============================] - 6s 821ms/step - loss: 37.8787 - dense_2_loss: 0.2176 - dense_3_loss: 147.1630 - val_loss: 8.2239 - val_dense_2_loss: 0.0031 - val_dense_3_loss: 32.8339\n",
            "Epoch 80/100\n",
            "7/7 [==============================] - ETA: 0s - loss: 37.1687 - dense_2_loss: 0.3828 - dense_3_loss: 141.0193\n",
            "Epoch 00080: val_loss did not improve from 5.15428\n",
            "7/7 [==============================] - 6s 818ms/step - loss: 37.1687 - dense_2_loss: 0.3828 - dense_3_loss: 141.0193 - val_loss: 13.3711 - val_dense_2_loss: 0.0218 - val_dense_3_loss: 53.0488\n",
            "Epoch 81/100\n",
            "7/7 [==============================] - ETA: 0s - loss: 45.6695 - dense_2_loss: 0.0989 - dense_3_loss: 180.7001\n",
            "Epoch 00081: val_loss did not improve from 5.15428\n",
            "7/7 [==============================] - 6s 818ms/step - loss: 45.6695 - dense_2_loss: 0.0989 - dense_3_loss: 180.7001 - val_loss: 7.1516 - val_dense_2_loss: 1.9899e-04 - val_dense_3_loss: 28.6024\n",
            "Epoch 82/100\n",
            "7/7 [==============================] - ETA: 0s - loss: 53.8148 - dense_2_loss: 0.2104 - dense_3_loss: 211.0512\n",
            "Epoch 00082: val_loss did not improve from 5.15428\n",
            "7/7 [==============================] - 6s 817ms/step - loss: 53.8148 - dense_2_loss: 0.2104 - dense_3_loss: 211.0512 - val_loss: 8.6331 - val_dense_2_loss: 0.0162 - val_dense_3_loss: 34.2079\n",
            "Epoch 83/100\n",
            "7/7 [==============================] - ETA: 0s - loss: 38.0896 - dense_2_loss: 0.3699 - dense_3_loss: 144.9608\n",
            "Epoch 00083: val_loss did not improve from 5.15428\n",
            "7/7 [==============================] - 6s 819ms/step - loss: 38.0896 - dense_2_loss: 0.3699 - dense_3_loss: 144.9608 - val_loss: 11.5060 - val_dense_2_loss: 4.4719e-05 - val_dense_3_loss: 46.0229\n",
            "Epoch 84/100\n",
            "7/7 [==============================] - ETA: 0s - loss: 38.9298 - dense_2_loss: 0.1387 - dense_3_loss: 152.9451\n",
            "Epoch 00084: val_loss did not improve from 5.15428\n",
            "7/7 [==============================] - 6s 815ms/step - loss: 38.9298 - dense_2_loss: 0.1387 - dense_3_loss: 152.9451 - val_loss: 9.5524 - val_dense_2_loss: 0.0029 - val_dense_3_loss: 38.1522\n",
            "Epoch 85/100\n",
            "7/7 [==============================] - ETA: 0s - loss: 39.2550 - dense_2_loss: 0.2879 - dense_3_loss: 151.2623\n",
            "Epoch 00085: val_loss did not improve from 5.15428\n",
            "7/7 [==============================] - 6s 816ms/step - loss: 39.2550 - dense_2_loss: 0.2879 - dense_3_loss: 151.2623 - val_loss: 23.7911 - val_dense_2_loss: 5.3962e-06 - val_dense_3_loss: 95.1642\n",
            "Epoch 86/100\n",
            "7/7 [==============================] - ETA: 0s - loss: 41.3624 - dense_2_loss: 0.2450 - dense_3_loss: 160.5506\n",
            "Epoch 00086: val_loss did not improve from 5.15428\n",
            "7/7 [==============================] - 6s 821ms/step - loss: 41.3624 - dense_2_loss: 0.2450 - dense_3_loss: 160.5506 - val_loss: 31.4388 - val_dense_2_loss: 7.3225e-04 - val_dense_3_loss: 125.7404\n",
            "Epoch 87/100\n",
            "7/7 [==============================] - ETA: 0s - loss: 40.1710 - dense_2_loss: 0.0685 - dense_3_loss: 159.3147\n",
            "Epoch 00087: val_loss did not improve from 5.15428\n",
            "7/7 [==============================] - 6s 818ms/step - loss: 40.1710 - dense_2_loss: 0.0685 - dense_3_loss: 159.3147 - val_loss: 11.2734 - val_dense_2_loss: 3.9605e-04 - val_dense_3_loss: 45.0857\n",
            "Epoch 88/100\n",
            "7/7 [==============================] - ETA: 0s - loss: 30.8307 - dense_2_loss: 0.3115 - dense_3_loss: 117.0935\n",
            "Epoch 00088: val_loss did not improve from 5.15428\n",
            "7/7 [==============================] - 6s 816ms/step - loss: 30.8307 - dense_2_loss: 0.3115 - dense_3_loss: 117.0935 - val_loss: 8.9215 - val_dense_2_loss: 0.0622 - val_dense_3_loss: 34.4424\n",
            "Epoch 89/100\n",
            "7/7 [==============================] - ETA: 0s - loss: 35.1202 - dense_2_loss: 0.2767 - dense_3_loss: 134.9458\n",
            "Epoch 00089: val_loss did not improve from 5.15428\n",
            "7/7 [==============================] - 6s 818ms/step - loss: 35.1202 - dense_2_loss: 0.2767 - dense_3_loss: 134.9458 - val_loss: 43.4812 - val_dense_2_loss: 0.0069 - val_dense_3_loss: 173.7874\n",
            "Epoch 90/100\n",
            "7/7 [==============================] - ETA: 0s - loss: 52.7853 - dense_2_loss: 0.1853 - dense_3_loss: 207.4359\n",
            "Epoch 00090: val_loss did not improve from 5.15428\n",
            "7/7 [==============================] - 6s 816ms/step - loss: 52.7853 - dense_2_loss: 0.1853 - dense_3_loss: 207.4359 - val_loss: 18.4674 - val_dense_2_loss: 0.0035 - val_dense_3_loss: 73.7991\n",
            "Epoch 91/100\n",
            "7/7 [==============================] - ETA: 0s - loss: 39.0587 - dense_2_loss: 0.4297 - dense_3_loss: 147.6407\n",
            "Epoch 00091: val_loss did not improve from 5.15428\n",
            "7/7 [==============================] - 6s 816ms/step - loss: 39.0587 - dense_2_loss: 0.4297 - dense_3_loss: 147.6407 - val_loss: 5.3809 - val_dense_2_loss: 1.1193e-05 - val_dense_3_loss: 21.5235\n",
            "Epoch 92/100\n",
            "7/7 [==============================] - ETA: 0s - loss: 33.4308 - dense_2_loss: 0.2943 - dense_3_loss: 127.8363\n",
            "Epoch 00092: val_loss did not improve from 5.15428\n",
            "7/7 [==============================] - 6s 815ms/step - loss: 33.4308 - dense_2_loss: 0.2943 - dense_3_loss: 127.8363 - val_loss: 9.2137 - val_dense_2_loss: 1.1835e-05 - val_dense_3_loss: 36.8546\n",
            "Epoch 93/100\n",
            "7/7 [==============================] - ETA: 0s - loss: 33.5185 - dense_2_loss: 0.2615 - dense_3_loss: 128.8434\n",
            "Epoch 00093: val_loss did not improve from 5.15428\n",
            "7/7 [==============================] - 6s 818ms/step - loss: 33.5185 - dense_2_loss: 0.2615 - dense_3_loss: 128.8434 - val_loss: 17.3281 - val_dense_2_loss: 7.7382e-04 - val_dense_3_loss: 69.2968\n",
            "Epoch 94/100\n",
            "7/7 [==============================] - ETA: 0s - loss: 37.9417 - dense_2_loss: 0.4509 - dense_3_loss: 142.7497\n",
            "Epoch 00094: val_loss did not improve from 5.15428\n",
            "7/7 [==============================] - 6s 818ms/step - loss: 37.9417 - dense_2_loss: 0.4509 - dense_3_loss: 142.7497 - val_loss: 7.2782 - val_dense_2_loss: 9.6742e-07 - val_dense_3_loss: 29.1129\n",
            "Epoch 95/100\n",
            "7/7 [==============================] - ETA: 0s - loss: 40.0416 - dense_2_loss: 0.2114 - dense_3_loss: 155.9385\n",
            "Epoch 00095: val_loss did not improve from 5.15428\n",
            "7/7 [==============================] - 6s 822ms/step - loss: 40.0416 - dense_2_loss: 0.2114 - dense_3_loss: 155.9385 - val_loss: 5.8873 - val_dense_2_loss: 1.7101e-05 - val_dense_3_loss: 23.5488\n",
            "Epoch 96/100\n",
            "7/7 [==============================] - ETA: 0s - loss: 35.2538 - dense_2_loss: 0.0627 - dense_3_loss: 139.7602\n",
            "Epoch 00096: val_loss did not improve from 5.15428\n",
            "7/7 [==============================] - 6s 816ms/step - loss: 35.2538 - dense_2_loss: 0.0627 - dense_3_loss: 139.7602 - val_loss: 8.1067 - val_dense_2_loss: 2.4595e-05 - val_dense_3_loss: 32.4261\n",
            "Epoch 97/100\n",
            "7/7 [==============================] - ETA: 0s - loss: 44.8489 - dense_2_loss: 0.4473 - dense_3_loss: 170.4494\n",
            "Epoch 00097: val_loss did not improve from 5.15428\n",
            "7/7 [==============================] - 6s 817ms/step - loss: 44.8489 - dense_2_loss: 0.4473 - dense_3_loss: 170.4494 - val_loss: 9.3812 - val_dense_2_loss: 3.2825e-04 - val_dense_3_loss: 37.5183\n",
            "Epoch 98/100\n",
            "7/7 [==============================] - ETA: 0s - loss: 45.1833 - dense_2_loss: 0.4255 - dense_3_loss: 172.2235\n",
            "Epoch 00098: val_loss did not improve from 5.15428\n",
            "7/7 [==============================] - 6s 815ms/step - loss: 45.1833 - dense_2_loss: 0.4255 - dense_3_loss: 172.2235 - val_loss: 10.3796 - val_dense_2_loss: 3.2691e-04 - val_dense_3_loss: 41.5117\n",
            "Epoch 99/100\n",
            "7/7 [==============================] - ETA: 0s - loss: 38.5285 - dense_2_loss: 0.1901 - dense_3_loss: 150.3114\n",
            "Epoch 00099: val_loss did not improve from 5.15428\n",
            "7/7 [==============================] - 6s 823ms/step - loss: 38.5285 - dense_2_loss: 0.1901 - dense_3_loss: 150.3114 - val_loss: 7.4983 - val_dense_2_loss: 2.8495e-06 - val_dense_3_loss: 29.9930\n",
            "Epoch 100/100\n",
            "7/7 [==============================] - ETA: 0s - loss: 31.7418 - dense_2_loss: 0.2949 - dense_3_loss: 121.0686\n",
            "Epoch 00100: val_loss did not improve from 5.15428\n",
            "7/7 [==============================] - 6s 817ms/step - loss: 31.7418 - dense_2_loss: 0.2949 - dense_3_loss: 121.0686 - val_loss: 7.5791 - val_dense_2_loss: 3.6111e-04 - val_dense_3_loss: 30.3093\n"
          ]
        }
      ],
      "source": [
        "# train model for 100 epochs\n",
        "history = model.fit(\n",
        "    train_x, \n",
        "    [train_y_class, train_y_reg],\n",
        "    validation_data=(valid_x, [valid_y_class, valid_y_reg]),\n",
        "    batch_size = 32, \n",
        "    epochs = 100, \n",
        "    callbacks = [check],\n",
        "    verbose = 1\n",
        ")"
      ]
    },
    {
      "cell_type": "code",
      "execution_count": 19,
      "metadata": {
        "colab": {
          "base_uri": "https://localhost:8080/",
          "height": 610
        },
        "id": "BYPeTHbbUQWd",
        "outputId": "3cb65f71-50ad-4379-8ed7-0f688fbee9e4"
      },
      "outputs": [
        {
          "output_type": "display_data",
          "data": {
            "image/png": "[encoded data removed]",
            "text/plain": [
              "<Figure size 720x720 with 1 Axes>"
            ]
          },
          "metadata": {
            "needs_background": "light"
          }
        }
      ],
      "source": [
        "# plot training and validation loss\n",
        "plt.figure(figsize=(10, 10))\n",
        "\n",
        "plt.plot(history.history['loss'], label='Total training loss')\n",
        "plt.plot(history.history['val_loss'], label='Total validation loss')\n",
        "plt.ylim(0, 500)    # limit the plotting of high loss values\n",
        "plt.xlabel('Epochs')\n",
        "plt.ylabel('Loss')\n",
        "plt.legend()\n",
        "\n",
        "plt.show()"
      ]
    },
    {
      "cell_type": "code",
      "execution_count": null,
      "metadata": {
        "id": "1A4z4tinVRUO"
      },
      "outputs": [],
      "source": [
        "# load best model weights\n",
        "model.load_weights(model_path)"
      ]
    },
    {
      "cell_type": "code",
      "execution_count": null,
      "metadata": {
        "colab": {
          "base_uri": "https://localhost:8080/"
        },
        "id": "ydamZBGDVWXt",
        "outputId": "5f2002e5-1452-4d3b-ac09-6758fa1f606d"
      },
      "outputs": [
        {
          "data": {
            "text/plain": [
              "(array([[9.7643846e-12, 4.0158678e-33, 1.0000000e+00, 2.7231967e-11],\n",
              "        [9.9999976e-01, 4.9183102e-13, 6.4737492e-08, 1.4623420e-07],\n",
              "        [1.7389263e-16, 1.0000000e+00, 1.9013007e-26, 2.3372250e-12],\n",
              "        [9.9999893e-01, 2.3665814e-09, 1.1232881e-06, 1.4758951e-10],\n",
              "        [9.9997163e-01, 1.2321541e-10, 2.8342576e-05, 2.8720276e-10]],\n",
              "       dtype=float32), array([[212.74702 , 142.8202  ],\n",
              "        [202.27634 ,  22.56296 ],\n",
              "        [144.26714 , 195.12964 ],\n",
              "        [126.380325, 123.83264 ],\n",
              "        [ 75.64244 ,  75.30838 ]], dtype=float32))"
            ]
          },
          "execution_count": 22,
          "metadata": {},
          "output_type": "execute_result"
        }
      ],
      "source": [
        "# get predictions on validation set\n",
        "pred_class, pred_reg = model.predict(valid_x)\n",
        "pred_class[:5], pred_reg[:5]"
      ]
    },
    {
      "cell_type": "code",
      "execution_count": null,
      "metadata": {
        "colab": {
          "base_uri": "https://localhost:8080/"
        },
        "id": "ScH2_IPaVe5e",
        "outputId": "b2168a3f-3288-438e-d65f-2c25664aee0b"
      },
      "outputs": [
        {
          "data": {
            "text/plain": [
              "(212, 142)"
            ]
          },
          "execution_count": 24,
          "metadata": {},
          "output_type": "execute_result"
        }
      ],
      "source": [
        "# print bounding box predictions of first index\n",
        "xcenter, ycenter = pred_reg[0].astype(int).clip(0)\n",
        "xcenter, ycenter"
      ]
    },
    {
      "cell_type": "code",
      "execution_count": null,
      "metadata": {
        "colab": {
          "base_uri": "https://localhost:8080/",
          "height": 36
        },
        "id": "R60Dh6HVB-F_",
        "outputId": "36db17d9-6c41-445e-e2cb-2b8e3ab02725"
      },
      "outputs": [
        {
          "data": {
            "application/vnd.google.colaboratory.intrinsic+json": {
              "type": "string"
            },
            "text/plain": [
              "'blackQueen'"
            ]
          },
          "execution_count": 25,
          "metadata": {},
          "output_type": "execute_result"
        }
      ],
      "source": [
        "# print label predictions of first index\n",
        "label_to_class_names[np.argmax(pred_class[0])]"
      ]
    },
    {
      "cell_type": "code",
      "execution_count": null,
      "metadata": {
        "colab": {
          "base_uri": "https://localhost:8080/",
          "height": 270
        },
        "id": "D7Z6n_kwVpMu",
        "outputId": "06eacd6b-9090-48bf-d46e-3d6788cdcc6b"
      },
      "outputs": [
        {
          "data": {
            "image/png": "[encoded data removed]",
            "text/plain": [
              "<Figure size 432x288 with 1 Axes>"
            ]
          },
          "metadata": {},
          "output_type": "display_data"
        },
        {
          "name": "stdout",
          "output_type": "stream",
          "text": [
            "Label is whiteQueen\n"
          ]
        }
      ],
      "source": [
        "# visualize output of model for random index in validation data\n",
        "## run this cell repetitively to get different images and their predictions\n",
        "idx = np.random.randint(valid_x.shape[0])\n",
        "\n",
        "fig, ax = plt.subplots()\n",
        "\n",
        "ax.imshow(valid_x[idx])\n",
        "xcenter, ycenter = pred_reg[idx].astype(int).clip(0)\n",
        "rect = patches.Rectangle((xcenter - 26/2, ycenter - 26/2), 26, 26, linewidth=1, edgecolor='b', facecolor='none')\n",
        "ax.add_patch(rect)\n",
        "\n",
        "ax.set_xticks([])\n",
        "ax.set_yticks([])\n",
        "\n",
        "plt.show()\n",
        "print('Label is', label_to_class_names[np.argmax(pred_class[idx])])"
      ]
    },
    {
      "cell_type": "code",
      "source": [
        "# evaluate model on different metrics"
      ],
      "metadata": {
        "id": "VXsHklKAS_IC"
      },
      "execution_count": null,
      "outputs": []
    },
    {
      "cell_type": "code",
      "execution_count": null,
      "metadata": {
        "colab": {
          "base_uri": "https://localhost:8080/"
        },
        "id": "p68za8Mcul01",
        "outputId": "d3011f8f-1704-49e8-bebf-628497cf4227"
      },
      "outputs": [
        {
          "data": {
            "text/plain": [
              "array([2, 0, 1, 0, 0, 3, 3, 2, 3, 1, 1, 1, 2, 0, 3, 0, 1, 2, 1, 2, 1, 0,\n",
              "       2, 3, 3, 0, 2, 1, 2, 0, 0, 0, 1, 2, 3, 3, 3, 3, 2, 3, 2, 1, 3, 3,\n",
              "       2, 1, 1, 0, 0, 2, 1, 0])"
            ]
          },
          "execution_count": 27,
          "metadata": {},
          "output_type": "execute_result"
        }
      ],
      "source": [
        "# print actual labels of validation data\n",
        "y_true = valid_y_class.argmax(axis=1)\n",
        "y_true"
      ]
    },
    {
      "cell_type": "code",
      "execution_count": null,
      "metadata": {
        "colab": {
          "base_uri": "https://localhost:8080/"
        },
        "id": "avWv6U-yun69",
        "outputId": "dfb5ca5c-6c2b-4d78-b275-980d5cf1934c"
      },
      "outputs": [
        {
          "data": {
            "text/plain": [
              "array([2, 0, 1, 0, 0, 3, 3, 2, 3, 1, 1, 1, 2, 0, 3, 0, 1, 2, 1, 2, 1, 0,\n",
              "       2, 3, 0, 0, 2, 1, 2, 0, 0, 0, 1, 2, 3, 3, 3, 3, 2, 3, 2, 1, 3, 3,\n",
              "       2, 1, 1, 0, 0, 2, 1, 0])"
            ]
          },
          "execution_count": 28,
          "metadata": {},
          "output_type": "execute_result"
        }
      ],
      "source": [
        "# print predicted labels of validation data\n",
        "y_pred = pred_class.argmax(axis=1)\n",
        "y_pred"
      ]
    },
    {
      "cell_type": "code",
      "execution_count": null,
      "metadata": {
        "colab": {
          "base_uri": "https://localhost:8080/"
        },
        "id": "P1KBqomzu0Lu",
        "outputId": "ab6e9eb6-10ff-40f2-9669-46f00b6577bd"
      },
      "outputs": [
        {
          "data": {
            "text/plain": [
              "0.9807692307692307"
            ]
          },
          "execution_count": 29,
          "metadata": {},
          "output_type": "execute_result"
        }
      ],
      "source": [
        "accuracy_score(y_true, y_pred)"
      ]
    },
    {
      "cell_type": "code",
      "execution_count": null,
      "metadata": {
        "colab": {
          "base_uri": "https://localhost:8080/"
        },
        "id": "qf-OmxKhu65e",
        "outputId": "10931ad5-ee2f-46ae-c520-c45441a7536b"
      },
      "outputs": [
        {
          "data": {
            "text/plain": [
              "array([[13,  0,  0,  0],\n",
              "       [ 0, 13,  0,  0],\n",
              "       [ 0,  0, 13,  0],\n",
              "       [ 1,  0,  0, 12]])"
            ]
          },
          "execution_count": 30,
          "metadata": {},
          "output_type": "execute_result"
        }
      ],
      "source": [
        "confusion_matrix(y_true, y_pred)"
      ]
    },
    {
      "cell_type": "code",
      "execution_count": null,
      "metadata": {
        "colab": {
          "base_uri": "https://localhost:8080/"
        },
        "id": "cbPDnRmwxzXX",
        "outputId": "c15fa536-2c8f-40a9-fa56-4e6d0add4abe"
      },
      "outputs": [
        {
          "data": {
            "text/plain": [
              "0.9821428571428571"
            ]
          },
          "execution_count": 33,
          "metadata": {},
          "output_type": "execute_result"
        }
      ],
      "source": [
        "precision_score(y_true, y_pred, average='weighted')"
      ]
    },
    {
      "cell_type": "code",
      "execution_count": null,
      "metadata": {
        "colab": {
          "base_uri": "https://localhost:8080/"
        },
        "id": "DUsy08acEdoT",
        "outputId": "ddccc256-4c5a-4303-84d3-94ccb3590da0"
      },
      "outputs": [
        {
          "data": {
            "text/plain": [
              "0.9807692307692307"
            ]
          },
          "execution_count": 34,
          "metadata": {},
          "output_type": "execute_result"
        }
      ],
      "source": [
        "recall_score(y_true, y_pred, average='weighted')"
      ]
    }
  ],
  "metadata": {
    "accelerator": "GPU",
    "colab": {
      "collapsed_sections": [],
      "name": "1.2 train_vgg16.ipynb",
      "provenance": [],
      "mount_file_id": "https://github.com/faizankshaikh/chessDetection/blob/main/code/1.2%20train_vgg16.ipynb",
      "authorship_tag": "ABX9TyMlDMyQt5Aub8974jQ9wDIf",
      "include_colab_link": true
    },
    "kernelspec": {
      "display_name": "Python 3",
      "language": "python",
      "name": "python3"
    },
    "language_info": {
      "codemirror_mode": {
        "name": "ipython",
        "version": 3
      },
      "file_extension": ".py",
      "mimetype": "text/x-python",
      "name": "python",
      "nbconvert_exporter": "python",
      "pygments_lexer": "ipython3",
      "version": "3.8.8"
    }
  },
  "nbformat": 4,
  "nbformat_minor": 0
}